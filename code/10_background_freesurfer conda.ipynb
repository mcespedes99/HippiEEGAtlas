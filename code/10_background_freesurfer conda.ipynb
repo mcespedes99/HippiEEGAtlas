{
  "cells": [
    {
      "cell_type": "code",
      "execution_count": 2,
      "metadata": {
        "collapsed": false
      },
      "outputs": [],
      "source": [
        "%matplotlib inline\n",
        "import os.path as op\n",
        "import mne\n",
        "import numpy as np"
      ]
    },
    {
      "cell_type": "markdown",
      "metadata": {},
      "source": [
        "## Cortical regions plot (annot files):"
      ]
    },
    {
      "cell_type": "code",
      "execution_count": 3,
      "metadata": {
        "collapsed": false
      },
      "outputs": [],
      "source": [
        "# Load path:\n",
        "sample_data_folder = mne.datasets.sample.data_path(path='/media/mcespedes/MauricioCT_Drive/Documents/Master/Projects/mne_data')\n",
        "subjects_dir = sample_data_folder / 'subjects'"
      ]
    },
    {
      "cell_type": "code",
      "execution_count": null,
      "metadata": {},
      "outputs": [],
      "source": [
        "Brain = mne.viz.get_brain_class()\n",
        "brain = Brain('sample', hemi='lh', surf='pial',\n",
        "              subjects_dir=subjects_dir, size=(800, 600), alpha=0.2, show_toolbar=True)\n",
        "brain.add_annotation('aparc.a2009s', borders=False)\n",
        "# brain.save_image('./prueba.png')"
      ]
    },
    {
      "cell_type": "markdown",
      "metadata": {},
      "source": [
        "## Subcortical"
      ]
    },
    {
      "cell_type": "code",
      "execution_count": 37,
      "metadata": {},
      "outputs": [
        {
          "name": "stdout",
          "output_type": "stream",
          "text": [
            "['Left-Lateral-Ventricle', 'Left-Inf-Lat-Vent', 'Left-Cerebellum-White-Matter', 'Left-Cerebellum-Cortex', 'Left-Thalamus-Proper', 'Left-Caudate', 'Left-Putamen', 'Left-Pallidum', '3rd-Ventricle', '4th-Ventricle', 'Brain-Stem', 'Left-Hippocampus', 'Left-Amygdala', 'CSF', 'Left-Accumbens-area', 'Left-VentralDC', 'Left-vessel', 'Left-choroid-plexus', 'Right-Lateral-Ventricle', 'Right-Inf-Lat-Vent', 'Right-Cerebellum-White-Matter', 'Right-Cerebellum-Cortex', 'Right-Thalamus-Proper', 'Right-Caudate', 'Right-Putamen', 'Right-Pallidum', 'Right-Hippocampus', 'Right-Amygdala', 'Right-Accumbens-area', 'Right-VentralDC', 'Right-vessel', 'Right-choroid-plexus', '5th-Ventricle', 'WM-hypointensities', 'non-WM-hypointensities', 'Optic-Chiasm', 'CC_Posterior', 'CC_Mid_Posterior', 'CC_Central', 'CC_Mid_Anterior', 'CC_Anterior']\n"
          ]
        }
      ],
      "source": [
        "fname_aseg = op.join(subjects_dir, 'sample', 'mri', 'aseg.mgz')\n",
        "label_names = mne.get_volume_labels_from_aseg(fname_aseg)\n",
        "label_names.remove('Left-Cerebral-Cortex')\n",
        "label_names.remove('Right-Cerebral-Cortex')\n",
        "label_names.remove('Unknown')\n",
        "label_names.remove('Left-Cerebral-White-Matter')\n",
        "label_names.remove('Right-Cerebral-White-Matter')\n",
        "print(label_names)"
      ]
    },
    {
      "cell_type": "code",
      "execution_count": 34,
      "metadata": {},
      "outputs": [],
      "source": [
        "chooseLabel=['Left-Cerebral-White-Matter']"
      ]
    },
    {
      "cell_type": "code",
      "execution_count": 38,
      "metadata": {},
      "outputs": [],
      "source": [
        "Brain2 = mne.viz.get_brain_class()\n",
        "brain2 = Brain2('sample', hemi='both', surf='pial', alpha=0.2,\n",
        "              cortex='low_contrast', subjects_dir=subjects_dir, \n",
        "              size=(800, 600))\n",
        "plotargs = {\n",
        "    'bcolor':(0.5, 0.5, 0.5), \n",
        "    'border':False,\n",
        "    'size':(0.2, 0.6),\n",
        "    'loc':'upper left'\n",
        "}\n",
        "brain2.add_volume_labels(aseg='aseg', labels=label_names, alpha=1, smooth=0, legend=plotargs)\n",
        "# brain2.show_view(azimuth=120, elevation=90, distance=0.25)\n",
        "# brain2.save_image('./prueba2.png')"
      ]
    },
    {
      "cell_type": "markdown",
      "metadata": {},
      "source": [
        "## Cortical (using mgz files)"
      ]
    },
    {
      "cell_type": "code",
      "execution_count": 4,
      "metadata": {},
      "outputs": [
        {
          "name": "stdout",
          "output_type": "stream",
          "text": [
            "['Unknown', 'Left-Cerebral-White-Matter', 'Left-Lateral-Ventricle', 'Left-Inf-Lat-Vent', 'Left-Cerebellum-White-Matter', 'Left-Cerebellum-Cortex', 'Left-Thalamus-Proper', 'Left-Caudate', 'Left-Putamen', 'Left-Pallidum', '3rd-Ventricle', '4th-Ventricle', 'Brain-Stem', 'Left-Hippocampus', 'Left-Amygdala', 'CSF', 'Left-Accumbens-area', 'Left-VentralDC', 'Left-vessel', 'Left-choroid-plexus', 'Right-Cerebral-White-Matter', 'Right-Lateral-Ventricle', 'Right-Inf-Lat-Vent', 'Right-Cerebellum-White-Matter', 'Right-Cerebellum-Cortex', 'Right-Thalamus-Proper', 'Right-Caudate', 'Right-Putamen', 'Right-Pallidum', 'Right-Hippocampus', 'Right-Amygdala', 'Right-Accumbens-area', 'Right-VentralDC', 'Right-vessel', 'Right-choroid-plexus', '5th-Ventricle', 'WM-hypointensities', 'non-WM-hypointensities', 'Optic-Chiasm', 'CC_Posterior', 'CC_Mid_Posterior', 'CC_Central', 'CC_Mid_Anterior', 'CC_Anterior', 'ctx_lh_Unknown', 'ctx_lh_G_and_S_frontomargin', 'ctx_lh_G_and_S_occipital_inf', 'ctx_lh_G_and_S_paracentral', 'ctx_lh_G_and_S_subcentral', 'ctx_lh_G_and_S_transv_frontopol', 'ctx_lh_G_and_S_cingul-Ant', 'ctx_lh_G_and_S_cingul-Mid-Ant', 'ctx_lh_G_and_S_cingul-Mid-Post', 'ctx_lh_G_cingul-Post-dorsal', 'ctx_lh_G_cingul-Post-ventral', 'ctx_lh_G_cuneus', 'ctx_lh_G_front_inf-Opercular', 'ctx_lh_G_front_inf-Orbital', 'ctx_lh_G_front_inf-Triangul', 'ctx_lh_G_front_middle', 'ctx_lh_G_front_sup', 'ctx_lh_G_Ins_lg_and_S_cent_ins', 'ctx_lh_G_insular_short', 'ctx_lh_G_occipital_middle', 'ctx_lh_G_occipital_sup', 'ctx_lh_G_oc-temp_lat-fusifor', 'ctx_lh_G_oc-temp_med-Lingual', 'ctx_lh_G_oc-temp_med-Parahip', 'ctx_lh_G_orbital', 'ctx_lh_G_pariet_inf-Angular', 'ctx_lh_G_pariet_inf-Supramar', 'ctx_lh_G_parietal_sup', 'ctx_lh_G_postcentral', 'ctx_lh_G_precentral', 'ctx_lh_G_precuneus', 'ctx_lh_G_rectus', 'ctx_lh_G_subcallosal', 'ctx_lh_G_temp_sup-G_T_transv', 'ctx_lh_G_temp_sup-Lateral', 'ctx_lh_G_temp_sup-Plan_polar', 'ctx_lh_G_temp_sup-Plan_tempo', 'ctx_lh_G_temporal_inf', 'ctx_lh_G_temporal_middle', 'ctx_lh_Lat_Fis-ant-Horizont', 'ctx_lh_Lat_Fis-ant-Vertical', 'ctx_lh_Lat_Fis-post', 'ctx_lh_Pole_occipital', 'ctx_lh_Pole_temporal', 'ctx_lh_S_calcarine', 'ctx_lh_S_central', 'ctx_lh_S_cingul-Marginalis', 'ctx_lh_S_circular_insula_ant', 'ctx_lh_S_circular_insula_inf', 'ctx_lh_S_circular_insula_sup', 'ctx_lh_S_collat_transv_ant', 'ctx_lh_S_collat_transv_post', 'ctx_lh_S_front_inf', 'ctx_lh_S_front_middle', 'ctx_lh_S_front_sup', 'ctx_lh_S_interm_prim-Jensen', 'ctx_lh_S_intrapariet_and_P_trans', 'ctx_lh_S_oc_middle_and_Lunatus', 'ctx_lh_S_oc_sup_and_transversal', 'ctx_lh_S_occipital_ant', 'ctx_lh_S_oc-temp_lat', 'ctx_lh_S_oc-temp_med_and_Lingual', 'ctx_lh_S_orbital_lateral', 'ctx_lh_S_orbital_med-olfact', 'ctx_lh_S_orbital-H_Shaped', 'ctx_lh_S_parieto_occipital', 'ctx_lh_S_pericallosal', 'ctx_lh_S_postcentral', 'ctx_lh_S_precentral-inf-part', 'ctx_lh_S_precentral-sup-part', 'ctx_lh_S_suborbital', 'ctx_lh_S_subparietal', 'ctx_lh_S_temporal_inf', 'ctx_lh_S_temporal_sup', 'ctx_lh_S_temporal_transverse', 'ctx_rh_Unknown', 'ctx_rh_G_and_S_frontomargin', 'ctx_rh_G_and_S_occipital_inf', 'ctx_rh_G_and_S_paracentral', 'ctx_rh_G_and_S_subcentral', 'ctx_rh_G_and_S_transv_frontopol', 'ctx_rh_G_and_S_cingul-Ant', 'ctx_rh_G_and_S_cingul-Mid-Ant', 'ctx_rh_G_and_S_cingul-Mid-Post', 'ctx_rh_G_cingul-Post-dorsal', 'ctx_rh_G_cingul-Post-ventral', 'ctx_rh_G_cuneus', 'ctx_rh_G_front_inf-Opercular', 'ctx_rh_G_front_inf-Orbital', 'ctx_rh_G_front_inf-Triangul', 'ctx_rh_G_front_middle', 'ctx_rh_G_front_sup', 'ctx_rh_G_Ins_lg_and_S_cent_ins', 'ctx_rh_G_insular_short', 'ctx_rh_G_occipital_middle', 'ctx_rh_G_occipital_sup', 'ctx_rh_G_oc-temp_lat-fusifor', 'ctx_rh_G_oc-temp_med-Lingual', 'ctx_rh_G_oc-temp_med-Parahip', 'ctx_rh_G_orbital', 'ctx_rh_G_pariet_inf-Angular', 'ctx_rh_G_pariet_inf-Supramar', 'ctx_rh_G_parietal_sup', 'ctx_rh_G_postcentral', 'ctx_rh_G_precentral', 'ctx_rh_G_precuneus', 'ctx_rh_G_rectus', 'ctx_rh_G_subcallosal', 'ctx_rh_G_temp_sup-G_T_transv', 'ctx_rh_G_temp_sup-Lateral', 'ctx_rh_G_temp_sup-Plan_polar', 'ctx_rh_G_temp_sup-Plan_tempo', 'ctx_rh_G_temporal_inf', 'ctx_rh_G_temporal_middle', 'ctx_rh_Lat_Fis-ant-Horizont', 'ctx_rh_Lat_Fis-ant-Vertical', 'ctx_rh_Lat_Fis-post', 'ctx_rh_Pole_occipital', 'ctx_rh_Pole_temporal', 'ctx_rh_S_calcarine', 'ctx_rh_S_central', 'ctx_rh_S_cingul-Marginalis', 'ctx_rh_S_circular_insula_ant', 'ctx_rh_S_circular_insula_inf', 'ctx_rh_S_circular_insula_sup', 'ctx_rh_S_collat_transv_ant', 'ctx_rh_S_collat_transv_post', 'ctx_rh_S_front_inf', 'ctx_rh_S_front_middle', 'ctx_rh_S_front_sup', 'ctx_rh_S_interm_prim-Jensen', 'ctx_rh_S_intrapariet_and_P_trans', 'ctx_rh_S_oc_middle_and_Lunatus', 'ctx_rh_S_oc_sup_and_transversal', 'ctx_rh_S_occipital_ant', 'ctx_rh_S_oc-temp_lat', 'ctx_rh_S_oc-temp_med_and_Lingual', 'ctx_rh_S_orbital_lateral', 'ctx_rh_S_orbital_med-olfact', 'ctx_rh_S_orbital-H_Shaped', 'ctx_rh_S_parieto_occipital', 'ctx_rh_S_pericallosal', 'ctx_rh_S_postcentral', 'ctx_rh_S_precentral-inf-part', 'ctx_rh_S_precentral-sup-part', 'ctx_rh_S_suborbital', 'ctx_rh_S_subparietal', 'ctx_rh_S_temporal_inf', 'ctx_rh_S_temporal_sup', 'ctx_rh_S_temporal_transverse']\n"
          ]
        }
      ],
      "source": [
        "fname_aparc_aseg = op.join(subjects_dir, 'sample', 'mri', 'aparc.a2009s+aseg.mgz')\n",
        "label_names = mne.get_volume_labels_from_aseg(fname_aparc_aseg)\n",
        "print(label_names)"
      ]
    },
    {
      "cell_type": "code",
      "execution_count": 45,
      "metadata": {},
      "outputs": [],
      "source": [
        "# Lingual gyrus+cuneus freesurfer vs calcarine cortex:\n",
        "# I see them different\n",
        "# chooseLabel=['ctx_rh_G_cuneus', 'ctx_rh_G_oc-temp_med-Lingual']\n",
        "\n",
        "\n",
        "# Lateral occipito-temporal gyrus in freesurfer vs 'Lingual gyrus and occipital fusiform gyrus' \n",
        "# I would say that it's equivalent to only the lingual girus in freesurger (without the fusiform)\n",
        "# chooseLabel=['ctx_rh_G_oc-temp_med-Lingual','ctx_rh_G_oc-temp_lat-fusifor']\n",
        "\n",
        "# Long insular gyrus and central sulcus of the insula and Short insular gyri vs Frontal operculum\n",
        "# chooseLabel=['ctx_rh_G_Ins_lg_and_S_cent_ins', 'ctx_rh_G_insular_short', 'ctx_rh_S_circular_insula_ant',\n",
        "#             'ctx_rh_S_circular_insula_inf','ctx_rh_S_circular_insula_sup']\n",
        "\n",
        "# Middle-posterior part of the cingulate gyrus and sulcus (pMCC), Posterior-dorsal part of the cingulate gyrus (dPCC)\n",
        "# and Posterior-ventral part of the cingulate gyrus vs Posterior cingulate, Anterior cingulate and Middle cingulate\n",
        "# chooseLabel=['ctx_rh_G_and_S_cingul-Mid-Post', 'ctx_rh_G_cingul-Post-dorsal', 'ctx_rh_G_cingul-Post-ventral',\n",
        "#             'ctx_rh_G_and_S_cingul-Ant', 'ctx_rh_G_and_S_cingul-Mid-Ant']\n",
        "\n",
        "# Superior frontal gyrus \n",
        "# chooseLabel=['ctx_rh_G_front_sup']\n",
        "\n",
        "# Superior frontal gyrus, Straight gyrus and Suborbital sulcus  \n",
        "# chooseLabel=['ctx_rh_G_front_sup', 'ctx_rh_S_suborbital', 'ctx_rh_G_rectus']\n",
        "\n",
        "# Short insular gyri and long insular gyri\n",
        "# chooseLabel=['ctx_rh_G_Ins_lg_and_S_cent_ins', 'ctx_rh_G_insular_short']\n",
        "\n",
        "# Superior frontal gyrus \n",
        "# chooseLabel=['ctx_rh_G_front_sup']\n",
        "\n",
        "# Precentral gyrus\n",
        "# chooseLabel=['ctx_rh_G_precentral']\n",
        "\n",
        "# Lateral aspect of the superior temporal gyrus \n",
        "# chooseLabel=['ctx_rh_G_temp_sup-Lateral']\n",
        "\n",
        "# Temporal pole and planum polare of the superior temporal gyrus\n",
        "# chooseLabel=['ctx_rh_Pole_temporal', 'ctx_rh_G_temp_sup-Plan_polar']\n",
        "\n",
        "# Anterior transverse temporal gyrus (of Heschl)\n",
        "# chooseLabel=['ctx_rh_G_temp_sup-G_T_transv']\n",
        "\n",
        "# Planum temporale or temporal plane of the superior temporal gyrus \n",
        "chooseLabel=['ctx_rh_G_temp_sup-Plan_tempo']"
      ]
    },
    {
      "cell_type": "code",
      "execution_count": 46,
      "metadata": {},
      "outputs": [],
      "source": [
        "Brain3 = mne.viz.get_brain_class()\n",
        "brain3 = Brain3('sample', hemi='rh', surf='pial', alpha=0.3,\n",
        "              cortex='low_contrast', subjects_dir=subjects_dir, \n",
        "              size=(800, 600))\n",
        "plotargs = {\n",
        "    'bcolor':(0.5, 0.5, 0.5), \n",
        "    'border':False,\n",
        "    'size':(0.2, 0.6),\n",
        "    'loc':'upper left'\n",
        "}\n",
        "brain3.add_volume_labels(aseg='aparc.a2009s+aseg', labels=chooseLabel, alpha=1, smooth=0, legend=plotargs)\n",
        "brain3.show_view(azimuth=180, elevation=100, distance=500)\n",
        "# brain3.save_image('./prueba2.png')"
      ]
    }
  ],
  "metadata": {
    "kernelspec": {
      "display_name": "Python 3.10.6 ('mne')",
      "language": "python",
      "name": "python3"
    },
    "language_info": {
      "codemirror_mode": {
        "name": "ipython",
        "version": 3
      },
      "file_extension": ".py",
      "mimetype": "text/x-python",
      "name": "python",
      "nbconvert_exporter": "python",
      "pygments_lexer": "ipython3",
      "version": "3.10.6"
    },
    "vscode": {
      "interpreter": {
        "hash": "bd1f1d2916e13f1b2ec1fb6df39e08609e45fd0bcfdb16421b102259854e70d8"
      }
    }
  },
  "nbformat": 4,
  "nbformat_minor": 0
}
