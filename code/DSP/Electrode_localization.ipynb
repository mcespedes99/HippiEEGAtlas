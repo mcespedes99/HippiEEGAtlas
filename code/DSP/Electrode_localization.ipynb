{
 "cells": [
  {
   "cell_type": "code",
   "execution_count": 1,
   "id": "4197d365-4ed8-488f-935f-de4ec7cb2c97",
   "metadata": {},
   "outputs": [],
   "source": [
    "import nibabel as nb\n",
    "import numpy as np\n",
    "import mne\n",
    "import matplotlib.pyplot as plt"
   ]
  },
  {
   "cell_type": "code",
   "execution_count": 2,
   "id": "90c87cc6-c8e7-4121-aaa5-61d8c103ecc4",
   "metadata": {},
   "outputs": [],
   "source": [
    "# Read the image\n",
    "img = nb.load('/scratch/mcesped/Results/hippunfold/sub-P060/anat/sub-P060_hemi-R_space-cropT1w_desc-subfields_atlas-histologyReference2023_dseg.nii.gz')\n",
    "#nb.load('/project/ctb-akhanf/cfmm-bids/Khan/SNSX_7T_2021/correct7T.dev/gradcorrect_v0.0.3/sub-P060/anat/sub-P060_acq-MP2RAGEpostproc_run-01_T1w.nii.gz')"
   ]
  },
  {
   "cell_type": "code",
   "execution_count": 83,
   "id": "3983fca2-3e94-48c5-ac7d-a67af3864bef",
   "metadata": {},
   "outputs": [
    {
     "data": {
      "text/plain": [
       "nibabel.nifti1.Nifti1Image"
      ]
     },
     "execution_count": 83,
     "metadata": {},
     "output_type": "execute_result"
    }
   ],
   "source": [
    "type(img)"
   ]
  },
  {
   "cell_type": "code",
   "execution_count": 3,
   "id": "a1224c0c-f57b-4caf-9b47-d45df459c484",
   "metadata": {},
   "outputs": [],
   "source": [
    "data = img.get_fdata()"
   ]
  },
  {
   "cell_type": "code",
   "execution_count": 4,
   "id": "c39982bb-65e7-4184-819f-1cd6275be3d0",
   "metadata": {},
   "outputs": [
    {
     "data": {
      "text/plain": [
       "(256, 256, 256)"
      ]
     },
     "execution_count": 4,
     "metadata": {},
     "output_type": "execute_result"
    }
   ],
   "source": [
    "data.shape"
   ]
  },
  {
   "cell_type": "code",
   "execution_count": 4,
   "id": "79ce2558-0e98-4e63-8225-0809c41af1e4",
   "metadata": {},
   "outputs": [],
   "source": [
    "# Test 1 coordinate\n",
    "coord = [30.462402292, 12.172049632400006, -40.1737889638]"
   ]
  },
  {
   "cell_type": "code",
   "execution_count": 7,
   "id": "2c7de4e1-7a1d-4f5e-b41b-dedc14fefe09",
   "metadata": {},
   "outputs": [
    {
     "data": {
      "text/plain": [
       "array([174, 161, 111])"
      ]
     },
     "execution_count": 7,
     "metadata": {},
     "output_type": "execute_result"
    }
   ],
   "source": [
    "# To voxels\n",
    "inv_affine = np.linalg.inv(img.affine)\n",
    "vox = np.round((mne.transforms.apply_trans(inv_affine, coord))).astype(int)\n",
    "vox"
   ]
  },
  {
   "cell_type": "code",
   "execution_count": 7,
   "id": "92a67894-3f95-4d6b-9f0b-651b57b4ea5d",
   "metadata": {},
   "outputs": [],
   "source": [
    "mask = np.zeros(data.shape)"
   ]
  },
  {
   "cell_type": "code",
   "execution_count": 8,
   "id": "346137dd-9967-4e37-9dbd-a054107021a6",
   "metadata": {},
   "outputs": [],
   "source": [
    "mask[vox[0], vox[1], vox[2]] = 1"
   ]
  },
  {
   "cell_type": "code",
   "execution_count": 9,
   "id": "56bdcc0a-b41c-4e5e-8395-da61ac5c792e",
   "metadata": {},
   "outputs": [
    {
     "data": {
      "text/plain": [
       "<matplotlib.image.AxesImage at 0x2aacdf5ad790>"
      ]
     },
     "execution_count": 9,
     "metadata": {},
     "output_type": "execute_result"
    },
    {
     "data": {
      "image/png": "[encoded data removed]",
      "text/plain": [
       "<Figure size 640x480 with 1 Axes>"
      ]
     },
     "metadata": {},
     "output_type": "display_data"
    }
   ],
   "source": [
    "plt.imshow(mask[:, vox[1], :])"
   ]
  },
  {
   "cell_type": "code",
   "execution_count": 10,
   "id": "53957d90-4b14-4e63-9efd-556ef5407241",
   "metadata": {},
   "outputs": [],
   "source": [
    "from skimage.morphology import dilation\n",
    "from skimage.morphology import ball\n",
    "\n",
    "footprint = ball(1)\n",
    "dilated = dilation(mask, footprint)"
   ]
  },
  {
   "cell_type": "code",
   "execution_count": 91,
   "id": "95661072-f4e7-4501-9e08-8c4783741943",
   "metadata": {},
   "outputs": [],
   "source": [
    "dilated = mask.copy()\n",
    "idx_in = int(np.floor(len(footprint)/2))\n",
    "idx_end = int(np.ceil(len(footprint)/2))\n",
    "dilated[vox[0]-idx_in:vox[0]+idx_end, vox[1]-idx_in:vox[1]+idx_end, vox[2]-idx_in:vox[2]+idx_end] = footprint"
   ]
  },
  {
   "cell_type": "code",
   "execution_count": null,
   "id": "b4f44cd6-d0cd-47f1-b864-776dbdd8a228",
   "metadata": {},
   "outputs": [
    {
     "data": {
      "text/plain": [
       "<matplotlib.image.AxesImage at 0x2b07b59882e0>"
      ]
     },
     "execution_count": 92,
     "metadata": {},
     "output_type": "execute_result"
    },
    {
     "data": {
      "image/png": "[encoded data removed]",
      "text/plain": [
       "<Figure size 640x480 with 1 Axes>"
      ]
     },
     "metadata": {},
     "output_type": "display_data"
    }
   ],
   "source": [
    "plt.imshow(dilated[vox[0],:,:])"
   ]
  },
  {
   "cell_type": "code",
   "execution_count": 93,
   "id": "d1549985-2564-408c-9ef8-d29f5186ce17",
   "metadata": {},
   "outputs": [],
   "source": [
    "clipped_img = nb.Nifti1Image(dilated, img.affine, img.header)"
   ]
  },
  {
   "cell_type": "code",
   "execution_count": 94,
   "id": "dc867573-b1b1-4b9c-bb89-5992b489d763",
   "metadata": {},
   "outputs": [],
   "source": [
    "nb.save(clipped_img, 'test.nii.gz')"
   ]
  },
  {
   "cell_type": "code",
   "execution_count": 96,
   "id": "93667af5-852c-46a5-b60c-c1698b962bd1",
   "metadata": {},
   "outputs": [
    {
     "data": {
      "text/plain": [
       "array([1.        , 0.19687499, 0.19840176, 0.19568151, 0.        ,\n",
       "       0.        , 0.        , 0.        ], dtype=float32)"
      ]
     },
     "execution_count": 96,
     "metadata": {},
     "output_type": "execute_result"
    }
   ],
   "source": [
    "img.header['pixdim']"
   ]
  },
  {
   "cell_type": "markdown",
   "id": "4fe7d35e-8654-4dfd-a1a2-25952fe381e8",
   "metadata": {},
   "source": [
    "# Test 2 points"
   ]
  },
  {
   "cell_type": "code",
   "execution_count": 8,
   "id": "7086201b-eff2-40b3-bc7c-bb2be65629c3",
   "metadata": {},
   "outputs": [],
   "source": [
    "point_A = [28.469, 12.165, -40.180]\n",
    "point_B = [32.456, 12.179, -40.168]"
   ]
  },
  {
   "cell_type": "code",
   "execution_count": 9,
   "id": "9773c6cf-2320-45f2-b6f9-81a4079f0ae1",
   "metadata": {},
   "outputs": [],
   "source": [
    "# Convert to voxels\n",
    "point_A = np.round((mne.transforms.apply_trans(inv_affine, point_A))).astype(int)\n",
    "point_B = np.round((mne.transforms.apply_trans(inv_affine, point_B))).astype(int)"
   ]
  },
  {
   "cell_type": "code",
   "execution_count": 10,
   "id": "502ff629-f9ab-4459-b661-0f4613fb174b",
   "metadata": {},
   "outputs": [
    {
     "name": "stdout",
     "output_type": "stream",
     "text": [
      "[164 161 111] [184 161 111]\n"
     ]
    }
   ],
   "source": [
    "print(point_A, point_B)"
   ]
  },
  {
   "cell_type": "code",
   "execution_count": 57,
   "id": "dc55f6c9-315f-4083-b1cb-cd4d26a90800",
   "metadata": {},
   "outputs": [],
   "source": [
    "# https://www.geeksforgeeks.org/bresenhams-algorithm-for-3-d-line-drawing/\n",
    "def create_line_mask(point1, point2, shape):\n",
    "    # Create an empty mask with the specified shape\n",
    "    mask = np.zeros(shape, dtype=bool)\n",
    "    x1, y1, z1 = point1\n",
    "    x2, y2, z2 = point2\n",
    "    # Set the first element to true\n",
    "    mask[x1, y1, z1] = True\n",
    "    # Get the directions of each axis\n",
    "    dx = abs(x2 - x1)\n",
    "    dy = abs(y2 - y1)\n",
    "    dz = abs(z2 - z1)\n",
    "    if (x2 > x1):\n",
    "        xs = 1\n",
    "    else:\n",
    "        xs = -1\n",
    "    if (y2 > y1):\n",
    "        ys = 1\n",
    "    else:\n",
    "        ys = -1\n",
    "    if (z2 > z1):\n",
    "        zs = 1\n",
    "    else:\n",
    "        zs = -1\n",
    " \n",
    "    # Driving axis is X-axis\n",
    "    if (dx >= dy and dx >= dz):       \n",
    "        p1 = 2 * dy - dx\n",
    "        p2 = 2 * dz - dx\n",
    "        while (x1 != x2):\n",
    "            x1 += xs\n",
    "            if (p1 >= 0):\n",
    "                y1 += ys\n",
    "                p1 -= 2 * dx\n",
    "            if (p2 >= 0):\n",
    "                z1 += zs\n",
    "                p2 -= 2 * dx\n",
    "            p1 += 2 * dy\n",
    "            p2 += 2 * dz\n",
    "            mask[x1, y1, z1] = True\n",
    "        mask[x1, y1, z1] = True\n",
    " \n",
    "    # Driving axis is Y-axis\"\n",
    "    elif (dy >= dx and dy >= dz):      \n",
    "        p1 = 2 * dx - dy\n",
    "        p2 = 2 * dz - dy\n",
    "        while (y1 != y2):\n",
    "            y1 += ys\n",
    "            if (p1 >= 0):\n",
    "                x1 += xs\n",
    "                p1 -= 2 * dy\n",
    "            if (p2 >= 0):\n",
    "                z1 += zs\n",
    "                p2 -= 2 * dy\n",
    "            p1 += 2 * dx\n",
    "            p2 += 2 * dz\n",
    "            mask[x1, y1, z1] = True\n",
    "        mask[x1, y1, z1] = True\n",
    " \n",
    "    # Driving axis is Z-axis\"\n",
    "    else:       \n",
    "        p1 = 2 * dy - dz\n",
    "        p2 = 2 * dx - dz\n",
    "        while (z1 != z2):\n",
    "            z1 += zs\n",
    "            if (p1 >= 0):\n",
    "                y1 += ys\n",
    "                p1 -= 2 * dz\n",
    "            if (p2 >= 0):\n",
    "                x1 += xs\n",
    "                p2 -= 2 * dz\n",
    "            p1 += 2 * dy\n",
    "            p2 += 2 * dx\n",
    "            mask[x1, y1, z1] = True\n",
    "        mask[x1, y1, z1] = True\n",
    "    return mask"
   ]
  },
  {
   "cell_type": "code",
   "execution_count": 67,
   "id": "428b4064-2714-4d70-8496-deeab31560e2",
   "metadata": {},
   "outputs": [
    {
     "data": {
      "text/plain": [
       "[0.4171373625157686, 0.27107585540986356, 0.8629806518793617]"
      ]
     },
     "execution_count": 67,
     "metadata": {},
     "output_type": "execute_result"
    }
   ],
   "source": [
    "a = np.random.rand(10,3)\n",
    "a[0,:].tolist()"
   ]
  },
  {
   "cell_type": "code",
   "execution_count": 58,
   "id": "0cdb30cd-809a-4dfc-832f-3679a0e04ced",
   "metadata": {},
   "outputs": [],
   "source": [
    "test_mask = create_line_mask(point_A, point_B, data.shape)"
   ]
  },
  {
   "cell_type": "code",
   "execution_count": 50,
   "id": "044cf1f5-575b-4f1e-843d-0819ad5141a4",
   "metadata": {},
   "outputs": [
    {
     "data": {
      "text/plain": [
       "[[165,\n",
       "  166,\n",
       "  167,\n",
       "  168,\n",
       "  169,\n",
       "  170,\n",
       "  171,\n",
       "  172,\n",
       "  173,\n",
       "  174,\n",
       "  175,\n",
       "  176,\n",
       "  177,\n",
       "  178,\n",
       "  179,\n",
       "  180,\n",
       "  181,\n",
       "  182,\n",
       "  183,\n",
       "  184],\n",
       " [161,\n",
       "  161,\n",
       "  161,\n",
       "  161,\n",
       "  161,\n",
       "  161,\n",
       "  161,\n",
       "  161,\n",
       "  161,\n",
       "  161,\n",
       "  161,\n",
       "  161,\n",
       "  161,\n",
       "  161,\n",
       "  161,\n",
       "  161,\n",
       "  161,\n",
       "  161,\n",
       "  161,\n",
       "  161],\n",
       " [111,\n",
       "  111,\n",
       "  111,\n",
       "  111,\n",
       "  111,\n",
       "  111,\n",
       "  111,\n",
       "  111,\n",
       "  111,\n",
       "  111,\n",
       "  111,\n",
       "  111,\n",
       "  111,\n",
       "  111,\n",
       "  111,\n",
       "  111,\n",
       "  111,\n",
       "  111,\n",
       "  111,\n",
       "  111]]"
      ]
     },
     "execution_count": 50,
     "metadata": {},
     "output_type": "execute_result"
    }
   ],
   "source": [
    "[array.tolist() for array in np.where(test_mask)]"
   ]
  },
  {
   "cell_type": "code",
   "execution_count": 59,
   "id": "e20f81de-dcee-47f2-b752-7721ff34c50e",
   "metadata": {},
   "outputs": [],
   "source": [
    "from skimage.morphology import dilation\n",
    "from skimage.morphology import ball\n",
    "\n",
    "footprint = ball(1)\n",
    "dilated = dilation(test_mask, footprint)"
   ]
  },
  {
   "cell_type": "code",
   "execution_count": 60,
   "id": "eff5b8cd-7ca1-4aed-bcb8-7b2708cc8b26",
   "metadata": {},
   "outputs": [
    {
     "data": {
      "text/plain": [
       "<matplotlib.image.AxesImage at 0x2ada58ffcac0>"
      ]
     },
     "execution_count": 60,
     "metadata": {},
     "output_type": "execute_result"
    },
    {
     "data": {
      "image/png": "[encoded data removed]",
      "text/plain": [
       "<Figure size 640x480 with 1 Axes>"
      ]
     },
     "metadata": {},
     "output_type": "display_data"
    }
   ],
   "source": [
    "plt.imshow(dilated[150:200,vox[1],50:150].transpose(), cmap='gray') # Adjusted the view to look like slicer"
   ]
  },
  {
   "cell_type": "code",
   "execution_count": 61,
   "id": "6e3fd44d-90d3-493e-a0bc-52fe82743963",
   "metadata": {},
   "outputs": [],
   "source": [
    "clipped_img = nb.Nifti1Image(dilated, img.affine, img.header)\n",
    "nb.save(clipped_img, 'test2.nii.gz')"
   ]
  },
  {
   "cell_type": "code",
   "execution_count": 24,
   "id": "c8160f6a-b3d2-4424-a339-a8929bb471e9",
   "metadata": {},
   "outputs": [
    {
     "data": {
      "text/plain": [
       "<matplotlib.image.AxesImage at 0x2aace3f41280>"
      ]
     },
     "execution_count": 24,
     "metadata": {},
     "output_type": "execute_result"
    },
    {
     "data": {
      "image/png": "[encoded data removed]",
      "text/plain": [
       "<Figure size 640x480 with 1 Axes>"
      ]
     },
     "metadata": {},
     "output_type": "display_data"
    }
   ],
   "source": [
    "# Show labels\n",
    "plt.imshow(data[::-1,vox[1],::-1].transpose())"
   ]
  },
  {
   "cell_type": "code",
   "execution_count": 62,
   "id": "d74b267b-134d-46b0-8933-135f9cb66456",
   "metadata": {},
   "outputs": [
    {
     "name": "stdout",
     "output_type": "stream",
     "text": [
      "(256, 256, 256)\n"
     ]
    },
    {
     "data": {
      "text/plain": [
       "<matplotlib.image.AxesImage at 0x2ada59146a60>"
      ]
     },
     "execution_count": 62,
     "metadata": {},
     "output_type": "execute_result"
    },
    {
     "data": {
      "image/png": "[encoded data removed]",
      "text/plain": [
       "<Figure size 640x480 with 1 Axes>"
      ]
     },
     "metadata": {},
     "output_type": "display_data"
    }
   ],
   "source": [
    "masked_labels = data * dilated\n",
    "print(masked_labels.shape)\n",
    "plt.imshow(masked_labels[::-1,vox[1],::-1].transpose())"
   ]
  },
  {
   "cell_type": "code",
   "execution_count": 63,
   "id": "2ef1b632-c3ae-4ae1-9396-dd9ed583f55d",
   "metadata": {},
   "outputs": [],
   "source": [
    "masked_img = nb.Nifti1Image(masked_labels, img.affine, img.header)\n",
    "nb.save(masked_img, 'masked.nii.gz')"
   ]
  },
  {
   "cell_type": "code",
   "execution_count": 50,
   "id": "820ac9dd-dfaa-464b-8c15-aea1fec3ba37",
   "metadata": {},
   "outputs": [
    {
     "data": {
      "text/plain": [
       "67"
      ]
     },
     "execution_count": 50,
     "metadata": {},
     "output_type": "execute_result"
    }
   ],
   "source": [
    "len(masked_labels[dilated])"
   ]
  },
  {
   "cell_type": "code",
   "execution_count": 73,
   "id": "ffaa91fc-21da-4b43-80fc-617e5a7880f1",
   "metadata": {},
   "outputs": [
    {
     "data": {
      "text/plain": [
       "array([5., 5., 5., 5., 5., 5., 5., 5., 5., 5., 5., 5., 5., 5., 5., 5., 5.,\n",
       "       5., 5., 5., 5., 5., 5., 5., 5., 5., 5., 5., 5., 5., 5., 5., 5., 5.,\n",
       "       6., 5., 5., 5., 6., 6., 6., 6., 6., 6., 6., 6., 6., 6., 6., 6., 6.,\n",
       "       6., 6., 6., 7., 6., 6., 6., 7., 7., 7., 7., 7., 7., 7., 7., 7., 7.,\n",
       "       7., 7., 7., 7., 7., 7., 7., 7., 7., 7., 7., 7., 7., 7., 7., 7., 7.,\n",
       "       7., 7., 7., 7., 7., 7., 7., 7., 7., 2., 7., 2., 2., 2., 2., 2., 2.,\n",
       "       2., 2., 2., 2., 2.])"
      ]
     },
     "execution_count": 73,
     "metadata": {},
     "output_type": "execute_result"
    }
   ],
   "source": [
    "data[dilated]"
   ]
  },
  {
   "cell_type": "code",
   "execution_count": 82,
   "id": "76c1686e-2df1-4ce1-920e-e6480cbeda4c",
   "metadata": {},
   "outputs": [
    {
     "data": {
      "text/plain": [
       "[(2.0, 0.11), (5.0, 0.35), (6.0, 0.19), (7.0, 0.36)]"
      ]
     },
     "execution_count": 82,
     "metadata": {},
     "output_type": "execute_result"
    }
   ],
   "source": [
    "freq_labels = []\n",
    "regions_chn = data[dilated]\n",
    "for label in np.unique(regions_chn):\n",
    "    freq_labels.append((label, np.round(len(regions_chn[regions_chn==label])/len(regions_chn), 2)))\n",
    "    \n",
    "freq_labels"
   ]
  },
  {
   "cell_type": "code",
   "execution_count": 84,
   "id": "ebd034e4-7278-4f46-b2ba-dfcb952ed8f7",
   "metadata": {},
   "outputs": [
    {
     "data": {
      "text/plain": [
       "7.0"
      ]
     },
     "execution_count": 84,
     "metadata": {},
     "output_type": "execute_result"
    }
   ],
   "source": [
    "sorted(freq_labels, key=lambda x: x[1], reverse=True)[0][0]"
   ]
  },
  {
   "cell_type": "code",
   "execution_count": 40,
   "id": "91741040-0612-4199-93a1-554d13d961b4",
   "metadata": {},
   "outputs": [
    {
     "data": {
      "text/plain": [
       "(256, 256, 256)"
      ]
     },
     "execution_count": 40,
     "metadata": {},
     "output_type": "execute_result"
    }
   ],
   "source": [
    "data.shape"
   ]
  },
  {
   "cell_type": "markdown",
   "id": "d966d3fe-8ed3-4dd3-a806-9a2f9c43ae4e",
   "metadata": {},
   "source": [
    "# Test functions"
   ]
  },
  {
   "cell_type": "code",
   "execution_count": null,
   "id": "78a702e9-8fd5-43c6-a4f0-a91177d418c1",
   "metadata": {},
   "outputs": [],
   "source": []
  }
 ],
 "metadata": {
  "kernelspec": {
   "display_name": "Python 3 (ipykernel)",
   "language": "python",
   "name": "python3"
  },
  "language_info": {
   "codemirror_mode": {
    "name": "ipython",
    "version": 3
   },
   "file_extension": ".py",
   "mimetype": "text/x-python",
   "name": "python",
   "nbconvert_exporter": "python",
   "pygments_lexer": "ipython3",
   "version": "3.8.10"
  }
 },
 "nbformat": 4,
 "nbformat_minor": 5
}
