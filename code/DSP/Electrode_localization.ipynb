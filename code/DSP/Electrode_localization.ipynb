{
 "cells": [
  {
   "cell_type": "code",
   "execution_count": 1,
   "id": "4197d365-4ed8-488f-935f-de4ec7cb2c97",
   "metadata": {},
   "outputs": [],
   "source": [
    "import nibabel as nb\n",
    "import numpy as np\n",
    "import mne\n",
    "import matplotlib.pyplot as plt"
   ]
  },
  {
   "cell_type": "code",
   "execution_count": 2,
   "id": "90c87cc6-c8e7-4121-aaa5-61d8c103ecc4",
   "metadata": {},
   "outputs": [],
   "source": [
    "# Read the image\n",
    "img = nb.load('/scratch/mcesped/Results/hippunfold/old_run/hippunfold/sub-P060/anat/sub-P060_hemi-R_space-cropT1w_desc-subfields_atlas-histologyReference2023_dseg.nii.gz')\n",
    "#nb.load('/project/ctb-akhanf/cfmm-bids/Khan/SNSX_7T_2021/correct7T.dev/gradcorrect_v0.0.3/sub-P060/anat/sub-P060_acq-MP2RAGEpostproc_run-01_T1w.nii.gz')"
   ]
  },
  {
   "cell_type": "code",
   "execution_count": 3,
   "id": "3983fca2-3e94-48c5-ac7d-a67af3864bef",
   "metadata": {},
   "outputs": [
    {
     "data": {
      "text/plain": [
       "nibabel.nifti1.Nifti1Image"
      ]
     },
     "execution_count": 3,
     "metadata": {},
     "output_type": "execute_result"
    }
   ],
   "source": [
    "type(img)"
   ]
  },
  {
   "cell_type": "code",
   "execution_count": 4,
   "id": "a1224c0c-f57b-4caf-9b47-d45df459c484",
   "metadata": {},
   "outputs": [],
   "source": [
    "data = img.get_fdata()"
   ]
  },
  {
   "cell_type": "code",
   "execution_count": 6,
   "id": "c39982bb-65e7-4184-819f-1cd6275be3d0",
   "metadata": {},
   "outputs": [
    {
     "data": {
      "text/plain": [
       "(256, 256, 256)"
      ]
     },
     "execution_count": 6,
     "metadata": {},
     "output_type": "execute_result"
    }
   ],
   "source": [
    "data.shape"
   ]
  },
  {
   "cell_type": "code",
   "execution_count": 7,
   "id": "784482ae-5d71-48ca-8fc0-5f407b3e79bf",
   "metadata": {},
   "outputs": [],
   "source": [
    "inv_affine = np.linalg.inv(img.affine)"
   ]
  },
  {
   "cell_type": "code",
   "execution_count": 5,
   "id": "79ce2558-0e98-4e63-8225-0809c41af1e4",
   "metadata": {},
   "outputs": [],
   "source": [
    "# Test 1 coordinate\n",
    "coord = [30.462402292, 12.172049632400006, -40.1737889638]"
   ]
  },
  {
   "cell_type": "code",
   "execution_count": 8,
   "id": "2c7de4e1-7a1d-4f5e-b41b-dedc14fefe09",
   "metadata": {},
   "outputs": [
    {
     "data": {
      "text/plain": [
       "array([174, 161, 111])"
      ]
     },
     "execution_count": 8,
     "metadata": {},
     "output_type": "execute_result"
    }
   ],
   "source": [
    "# To voxels\n",
    "vox = np.round((mne.transforms.apply_trans(inv_affine, coord))).astype(int)\n",
    "vox"
   ]
  },
  {
   "cell_type": "markdown",
   "id": "afc2b7e3-4efc-4057-9b54-eb44f7c33e80",
   "metadata": {
    "jp-MarkdownHeadingCollapsed": true,
    "tags": []
   },
   "source": [
    "## Unipolar"
   ]
  },
  {
   "cell_type": "code",
   "execution_count": 7,
   "id": "92a67894-3f95-4d6b-9f0b-651b57b4ea5d",
   "metadata": {},
   "outputs": [],
   "source": [
    "mask = np.zeros(data.shape)"
   ]
  },
  {
   "cell_type": "code",
   "execution_count": 8,
   "id": "346137dd-9967-4e37-9dbd-a054107021a6",
   "metadata": {},
   "outputs": [],
   "source": [
    "mask[vox[0], vox[1], vox[2]] = 1"
   ]
  },
  {
   "cell_type": "code",
   "execution_count": 9,
   "id": "56bdcc0a-b41c-4e5e-8395-da61ac5c792e",
   "metadata": {},
   "outputs": [
    {
     "data": {
      "text/plain": [
       "<matplotlib.image.AxesImage at 0x2aacdf5ad790>"
      ]
     },
     "execution_count": 9,
     "metadata": {},
     "output_type": "execute_result"
    },
    {
     "data": {
      "image/png": "[encoded data removed]",
      "text/plain": [
       "<Figure size 640x480 with 1 Axes>"
      ]
     },
     "metadata": {},
     "output_type": "display_data"
    }
   ],
   "source": [
    "plt.imshow(mask[:, vox[1], :])"
   ]
  },
  {
   "cell_type": "code",
   "execution_count": 10,
   "id": "53957d90-4b14-4e63-9efd-556ef5407241",
   "metadata": {},
   "outputs": [],
   "source": [
    "from skimage.morphology import dilation\n",
    "from skimage.morphology import ball\n",
    "\n",
    "footprint = ball(1)\n",
    "dilated = dilation(mask, footprint)"
   ]
  },
  {
   "cell_type": "code",
   "execution_count": 91,
   "id": "95661072-f4e7-4501-9e08-8c4783741943",
   "metadata": {},
   "outputs": [],
   "source": [
    "dilated = mask.copy()\n",
    "idx_in = int(np.floor(len(footprint)/2))\n",
    "idx_end = int(np.ceil(len(footprint)/2))\n",
    "dilated[vox[0]-idx_in:vox[0]+idx_end, vox[1]-idx_in:vox[1]+idx_end, vox[2]-idx_in:vox[2]+idx_end] = footprint"
   ]
  },
  {
   "cell_type": "code",
   "execution_count": null,
   "id": "b4f44cd6-d0cd-47f1-b864-776dbdd8a228",
   "metadata": {},
   "outputs": [
    {
     "data": {
      "text/plain": [
       "<matplotlib.image.AxesImage at 0x2b07b59882e0>"
      ]
     },
     "execution_count": 92,
     "metadata": {},
     "output_type": "execute_result"
    },
    {
     "data": {
      "image/png": "[encoded data removed]",
      "text/plain": [
       "<Figure size 640x480 with 1 Axes>"
      ]
     },
     "metadata": {},
     "output_type": "display_data"
    }
   ],
   "source": [
    "plt.imshow(dilated[vox[0],:,:])"
   ]
  },
  {
   "cell_type": "code",
   "execution_count": 93,
   "id": "d1549985-2564-408c-9ef8-d29f5186ce17",
   "metadata": {},
   "outputs": [],
   "source": [
    "clipped_img = nb.Nifti1Image(dilated, img.affine, img.header)"
   ]
  },
  {
   "cell_type": "code",
   "execution_count": 94,
   "id": "dc867573-b1b1-4b9c-bb89-5992b489d763",
   "metadata": {},
   "outputs": [],
   "source": [
    "nb.save(clipped_img, 'test.nii.gz')"
   ]
  },
  {
   "cell_type": "code",
   "execution_count": 96,
   "id": "93667af5-852c-46a5-b60c-c1698b962bd1",
   "metadata": {},
   "outputs": [
    {
     "data": {
      "text/plain": [
       "array([1.        , 0.19687499, 0.19840176, 0.19568151, 0.        ,\n",
       "       0.        , 0.        , 0.        ], dtype=float32)"
      ]
     },
     "execution_count": 96,
     "metadata": {},
     "output_type": "execute_result"
    }
   ],
   "source": [
    "img.header['pixdim']"
   ]
  },
  {
   "cell_type": "markdown",
   "id": "4fe7d35e-8654-4dfd-a1a2-25952fe381e8",
   "metadata": {
    "tags": []
   },
   "source": [
    "# Test 2 points"
   ]
  },
  {
   "cell_type": "code",
   "execution_count": 9,
   "id": "7086201b-eff2-40b3-bc7c-bb2be65629c3",
   "metadata": {},
   "outputs": [],
   "source": [
    "point_A = [28.469, 12.165, -40.180]\n",
    "point_B = [32.456, 12.179, -40.168]"
   ]
  },
  {
   "cell_type": "code",
   "execution_count": 10,
   "id": "9773c6cf-2320-45f2-b6f9-81a4079f0ae1",
   "metadata": {},
   "outputs": [],
   "source": [
    "# Convert to voxels\n",
    "point_A = np.round((mne.transforms.apply_trans(inv_affine, point_A))).astype(int)\n",
    "point_B = np.round((mne.transforms.apply_trans(inv_affine, point_B))).astype(int)"
   ]
  },
  {
   "cell_type": "code",
   "execution_count": 11,
   "id": "502ff629-f9ab-4459-b661-0f4613fb174b",
   "metadata": {},
   "outputs": [
    {
     "name": "stdout",
     "output_type": "stream",
     "text": [
      "[164 161 111] [184 161 111]\n"
     ]
    }
   ],
   "source": [
    "print(point_A, point_B)"
   ]
  },
  {
   "cell_type": "code",
   "execution_count": 12,
   "id": "dc55f6c9-315f-4083-b1cb-cd4d26a90800",
   "metadata": {},
   "outputs": [],
   "source": [
    "# https://www.geeksforgeeks.org/bresenhams-algorithm-for-3-d-line-drawing/\n",
    "def create_line_mask(point1, point2, shape):\n",
    "    # Create an empty mask with the specified shape\n",
    "    mask = np.zeros(shape, dtype=bool)\n",
    "    x1, y1, z1 = point1\n",
    "    x2, y2, z2 = point2\n",
    "    # Set the first element to true\n",
    "    mask[x1, y1, z1] = True\n",
    "    # Get the directions of each axis\n",
    "    dx = abs(x2 - x1)\n",
    "    dy = abs(y2 - y1)\n",
    "    dz = abs(z2 - z1)\n",
    "    if (x2 > x1):\n",
    "        xs = 1\n",
    "    else:\n",
    "        xs = -1\n",
    "    if (y2 > y1):\n",
    "        ys = 1\n",
    "    else:\n",
    "        ys = -1\n",
    "    if (z2 > z1):\n",
    "        zs = 1\n",
    "    else:\n",
    "        zs = -1\n",
    " \n",
    "    # Driving axis is X-axis\n",
    "    if (dx >= dy and dx >= dz):       \n",
    "        p1 = 2 * dy - dx\n",
    "        p2 = 2 * dz - dx\n",
    "        while (x1 != x2):\n",
    "            x1 += xs\n",
    "            if (p1 >= 0):\n",
    "                y1 += ys\n",
    "                p1 -= 2 * dx\n",
    "            if (p2 >= 0):\n",
    "                z1 += zs\n",
    "                p2 -= 2 * dx\n",
    "            p1 += 2 * dy\n",
    "            p2 += 2 * dz\n",
    "            mask[x1, y1, z1] = True\n",
    "        mask[x1, y1, z1] = True\n",
    " \n",
    "    # Driving axis is Y-axis\"\n",
    "    elif (dy >= dx and dy >= dz):      \n",
    "        p1 = 2 * dx - dy\n",
    "        p2 = 2 * dz - dy\n",
    "        while (y1 != y2):\n",
    "            y1 += ys\n",
    "            if (p1 >= 0):\n",
    "                x1 += xs\n",
    "                p1 -= 2 * dy\n",
    "            if (p2 >= 0):\n",
    "                z1 += zs\n",
    "                p2 -= 2 * dy\n",
    "            p1 += 2 * dx\n",
    "            p2 += 2 * dz\n",
    "            mask[x1, y1, z1] = True\n",
    "        mask[x1, y1, z1] = True\n",
    " \n",
    "    # Driving axis is Z-axis\"\n",
    "    else:       \n",
    "        p1 = 2 * dy - dz\n",
    "        p2 = 2 * dx - dz\n",
    "        while (z1 != z2):\n",
    "            z1 += zs\n",
    "            if (p1 >= 0):\n",
    "                y1 += ys\n",
    "                p1 -= 2 * dz\n",
    "            if (p2 >= 0):\n",
    "                x1 += xs\n",
    "                p2 -= 2 * dz\n",
    "            p1 += 2 * dy\n",
    "            p2 += 2 * dx\n",
    "            mask[x1, y1, z1] = True\n",
    "        mask[x1, y1, z1] = True\n",
    "    return mask"
   ]
  },
  {
   "cell_type": "code",
   "execution_count": 13,
   "id": "428b4064-2714-4d70-8496-deeab31560e2",
   "metadata": {},
   "outputs": [
    {
     "data": {
      "text/plain": [
       "[0.36211341938870356, 0.03811833518368857, 0.563022630231779]"
      ]
     },
     "execution_count": 13,
     "metadata": {},
     "output_type": "execute_result"
    }
   ],
   "source": [
    "a = np.random.rand(10,3)\n",
    "a[0,:].tolist()"
   ]
  },
  {
   "cell_type": "code",
   "execution_count": 15,
   "id": "0cdb30cd-809a-4dfc-832f-3679a0e04ced",
   "metadata": {},
   "outputs": [],
   "source": [
    "test_mask = create_line_mask(point_A, point_B, data.shape)"
   ]
  },
  {
   "cell_type": "code",
   "execution_count": 16,
   "id": "044cf1f5-575b-4f1e-843d-0819ad5141a4",
   "metadata": {},
   "outputs": [
    {
     "name": "stdout",
     "output_type": "stream",
     "text": [
      "[[164, 165, 166, 167, 168, 169, 170, 171, 172, 173, 174, 175, 176, 177, 178, 179, 180, 181, 182, 183, 184], [161, 161, 161, 161, 161, 161, 161, 161, 161, 161, 161, 161, 161, 161, 161, 161, 161, 161, 161, 161, 161], [111, 111, 111, 111, 111, 111, 111, 111, 111, 111, 111, 111, 111, 111, 111, 111, 111, 111, 111, 111, 111]]\n"
     ]
    }
   ],
   "source": [
    "print([array.tolist() for array in np.where(test_mask)])"
   ]
  },
  {
   "cell_type": "code",
   "execution_count": 96,
   "id": "e20f81de-dcee-47f2-b752-7721ff34c50e",
   "metadata": {},
   "outputs": [],
   "source": [
    "from skimage.morphology import dilation\n",
    "from skimage.morphology import ball\n",
    "\n",
    "footprint = ball(2)\n",
    "dilated = dilation(test_mask, footprint)"
   ]
  },
  {
   "cell_type": "code",
   "execution_count": 104,
   "id": "1c2a76b4-f591-4ea5-a68f-97bd96ea8605",
   "metadata": {},
   "outputs": [],
   "source": [
    "dilated2 = dilated.copy()\n",
    "footprint = ball(3)\n",
    "idx_in = int(np.floor(len(footprint)/2))\n",
    "idx_end = int(np.ceil(len(footprint)/2))\n",
    "for point in [point_A, point_B]:\n",
    "    dilated2[point[0]-idx_in:point[0]+idx_end, point[1]-idx_in:point[1]+idx_end, point[2]-idx_in:point[2]+idx_end] += footprint.astype(bool)"
   ]
  },
  {
   "cell_type": "code",
   "execution_count": 105,
   "id": "2d2fef9b-9701-44dd-bc75-8ddd0843d5f4",
   "metadata": {},
   "outputs": [],
   "source": [
    "from scipy.ndimage import gaussian_filter\n",
    "result = gaussian_filter(dilated2.astype(float), sigma=0.6)"
   ]
  },
  {
   "cell_type": "code",
   "execution_count": 115,
   "id": "eff5b8cd-7ca1-4aed-bcb8-7b2708cc8b26",
   "metadata": {},
   "outputs": [
    {
     "data": {
      "text/plain": [
       "<matplotlib.image.AxesImage at 0x2adeeab2e130>"
      ]
     },
     "execution_count": 115,
     "metadata": {},
     "output_type": "execute_result"
    },
    {
     "data": {
      "image/png": "[encoded data removed]",
      "text/plain": [
       "<Figure size 640x480 with 1 Axes>"
      ]
     },
     "metadata": {},
     "output_type": "display_data"
    }
   ],
   "source": [
    "plt.imshow((result[150:200,vox[1],50:150]>0).transpose(), cmap='gray') # Adjusted the view to look like slicer"
   ]
  },
  {
   "cell_type": "code",
   "execution_count": 107,
   "id": "6e3fd44d-90d3-493e-a0bc-52fe82743963",
   "metadata": {},
   "outputs": [],
   "source": [
    "clipped_img = nb.Nifti1Image(result>0, img.affine, img.header)\n",
    "nb.save(clipped_img, 'test_blur_mask.nii.gz')"
   ]
  },
  {
   "cell_type": "code",
   "execution_count": null,
   "id": "4293b39e-6988-4f47-bff1-b6c710d69be7",
   "metadata": {},
   "outputs": [],
   "source": []
  },
  {
   "cell_type": "code",
   "execution_count": 34,
   "id": "c8160f6a-b3d2-4424-a339-a8929bb471e9",
   "metadata": {},
   "outputs": [
    {
     "data": {
      "text/plain": [
       "<matplotlib.image.AxesImage at 0x2ba0e442b400>"
      ]
     },
     "execution_count": 34,
     "metadata": {},
     "output_type": "execute_result"
    },
    {
     "data": {
      "image/png": "[encoded data removed]",
      "text/plain": [
       "<Figure size 640x480 with 1 Axes>"
      ]
     },
     "metadata": {},
     "output_type": "display_data"
    }
   ],
   "source": [
    "# Show labels\n",
    "plt.imshow(data[::-1,vox[1],::-1].transpose())"
   ]
  },
  {
   "cell_type": "code",
   "execution_count": 35,
   "id": "d74b267b-134d-46b0-8933-135f9cb66456",
   "metadata": {},
   "outputs": [
    {
     "name": "stdout",
     "output_type": "stream",
     "text": [
      "(256, 256, 256)\n"
     ]
    },
    {
     "data": {
      "text/plain": [
       "<matplotlib.image.AxesImage at 0x2ba0e449a6a0>"
      ]
     },
     "execution_count": 35,
     "metadata": {},
     "output_type": "execute_result"
    },
    {
     "data": {
      "image/png": "[encoded data removed]",
      "text/plain": [
       "<Figure size 640x480 with 1 Axes>"
      ]
     },
     "metadata": {},
     "output_type": "display_data"
    }
   ],
   "source": [
    "masked_labels = data * dilated2\n",
    "print(masked_labels.shape)\n",
    "plt.imshow(masked_labels[::-1,vox[1],::-1].transpose())"
   ]
  },
  {
   "cell_type": "code",
   "execution_count": 63,
   "id": "2ef1b632-c3ae-4ae1-9396-dd9ed583f55d",
   "metadata": {},
   "outputs": [],
   "source": [
    "masked_img = nb.Nifti1Image(masked_labels, img.affine, img.header)\n",
    "nb.save(masked_img, 'masked.nii.gz')"
   ]
  },
  {
   "cell_type": "code",
   "execution_count": 50,
   "id": "820ac9dd-dfaa-464b-8c15-aea1fec3ba37",
   "metadata": {},
   "outputs": [
    {
     "data": {
      "text/plain": [
       "67"
      ]
     },
     "execution_count": 50,
     "metadata": {},
     "output_type": "execute_result"
    }
   ],
   "source": [
    "len(masked_labels[dilated])"
   ]
  },
  {
   "cell_type": "code",
   "execution_count": 73,
   "id": "ffaa91fc-21da-4b43-80fc-617e5a7880f1",
   "metadata": {},
   "outputs": [
    {
     "data": {
      "text/plain": [
       "array([5., 5., 5., 5., 5., 5., 5., 5., 5., 5., 5., 5., 5., 5., 5., 5., 5.,\n",
       "       5., 5., 5., 5., 5., 5., 5., 5., 5., 5., 5., 5., 5., 5., 5., 5., 5.,\n",
       "       6., 5., 5., 5., 6., 6., 6., 6., 6., 6., 6., 6., 6., 6., 6., 6., 6.,\n",
       "       6., 6., 6., 7., 6., 6., 6., 7., 7., 7., 7., 7., 7., 7., 7., 7., 7.,\n",
       "       7., 7., 7., 7., 7., 7., 7., 7., 7., 7., 7., 7., 7., 7., 7., 7., 7.,\n",
       "       7., 7., 7., 7., 7., 7., 7., 7., 7., 2., 7., 2., 2., 2., 2., 2., 2.,\n",
       "       2., 2., 2., 2., 2.])"
      ]
     },
     "execution_count": 73,
     "metadata": {},
     "output_type": "execute_result"
    }
   ],
   "source": [
    "data[dilated]"
   ]
  },
  {
   "cell_type": "code",
   "execution_count": 82,
   "id": "76c1686e-2df1-4ce1-920e-e6480cbeda4c",
   "metadata": {},
   "outputs": [
    {
     "data": {
      "text/plain": [
       "[(2.0, 0.11), (5.0, 0.35), (6.0, 0.19), (7.0, 0.36)]"
      ]
     },
     "execution_count": 82,
     "metadata": {},
     "output_type": "execute_result"
    }
   ],
   "source": [
    "freq_labels = []\n",
    "regions_chn = data[dilated]\n",
    "for label in np.unique(regions_chn):\n",
    "    freq_labels.append((label, np.round(len(regions_chn[regions_chn==label])/len(regions_chn), 2)))\n",
    "    \n",
    "freq_labels"
   ]
  },
  {
   "cell_type": "code",
   "execution_count": 84,
   "id": "ebd034e4-7278-4f46-b2ba-dfcb952ed8f7",
   "metadata": {},
   "outputs": [
    {
     "data": {
      "text/plain": [
       "7.0"
      ]
     },
     "execution_count": 84,
     "metadata": {},
     "output_type": "execute_result"
    }
   ],
   "source": [
    "sorted(freq_labels, key=lambda x: x[1], reverse=True)[0][0]"
   ]
  },
  {
   "cell_type": "code",
   "execution_count": 40,
   "id": "91741040-0612-4199-93a1-554d13d961b4",
   "metadata": {},
   "outputs": [
    {
     "data": {
      "text/plain": [
       "(256, 256, 256)"
      ]
     },
     "execution_count": 40,
     "metadata": {},
     "output_type": "execute_result"
    }
   ],
   "source": [
    "data.shape"
   ]
  },
  {
   "cell_type": "markdown",
   "id": "d966d3fe-8ed3-4dd3-a806-9a2f9c43ae4e",
   "metadata": {
    "tags": []
   },
   "source": [
    "# Test multiple electrodes"
   ]
  },
  {
   "cell_type": "code",
   "execution_count": 19,
   "id": "ba9b102d-dc95-46a6-b557-5139945dae3d",
   "metadata": {},
   "outputs": [],
   "source": [
    "import pandas as pd\n",
    "import SimpleITK as sitk\n",
    "from skimage.morphology import dilation\n",
    "from skimage.morphology import ball"
   ]
  },
  {
   "cell_type": "code",
   "execution_count": 2,
   "id": "78a702e9-8fd5-43c6-a4f0-a91177d418c1",
   "metadata": {},
   "outputs": [
    {
     "data": {
      "text/html": [
       "<div>\n",
       "<style scoped>\n",
       "    .dataframe tbody tr th:only-of-type {\n",
       "        vertical-align: middle;\n",
       "    }\n",
       "\n",
       "    .dataframe tbody tr th {\n",
       "        vertical-align: top;\n",
       "    }\n",
       "\n",
       "    .dataframe thead th {\n",
       "        text-align: right;\n",
       "    }\n",
       "</style>\n",
       "<table border=\"1\" class=\"dataframe\">\n",
       "  <thead>\n",
       "    <tr style=\"text-align: right;\">\n",
       "      <th></th>\n",
       "      <th>type</th>\n",
       "      <th>group</th>\n",
       "      <th>label</th>\n",
       "      <th>x_init</th>\n",
       "      <th>x_end</th>\n",
       "      <th>y_init</th>\n",
       "      <th>y_end</th>\n",
       "      <th>z_init</th>\n",
       "      <th>z_end</th>\n",
       "    </tr>\n",
       "  </thead>\n",
       "  <tbody>\n",
       "    <tr>\n",
       "      <th>0</th>\n",
       "      <td>SEEGA</td>\n",
       "      <td>LAIn</td>\n",
       "      <td>LAIn1-2</td>\n",
       "      <td>-33.948</td>\n",
       "      <td>-32.609</td>\n",
       "      <td>44.602</td>\n",
       "      <td>45.995</td>\n",
       "      <td>-0.933</td>\n",
       "      <td>1.646</td>\n",
       "    </tr>\n",
       "    <tr>\n",
       "      <th>1</th>\n",
       "      <td>SEEGA</td>\n",
       "      <td>LAIn</td>\n",
       "      <td>LAIn2-3</td>\n",
       "      <td>-32.609</td>\n",
       "      <td>-31.847</td>\n",
       "      <td>45.995</td>\n",
       "      <td>46.867</td>\n",
       "      <td>1.646</td>\n",
       "      <td>3.742</td>\n",
       "    </tr>\n",
       "    <tr>\n",
       "      <th>2</th>\n",
       "      <td>SEEGA</td>\n",
       "      <td>LAIn</td>\n",
       "      <td>LAIn3-4</td>\n",
       "      <td>-31.847</td>\n",
       "      <td>-30.644</td>\n",
       "      <td>46.867</td>\n",
       "      <td>48.118</td>\n",
       "      <td>3.742</td>\n",
       "      <td>6.166</td>\n",
       "    </tr>\n",
       "    <tr>\n",
       "      <th>3</th>\n",
       "      <td>SEEGA</td>\n",
       "      <td>LAIn</td>\n",
       "      <td>LAIn4-5</td>\n",
       "      <td>-30.644</td>\n",
       "      <td>-29.500</td>\n",
       "      <td>48.118</td>\n",
       "      <td>49.173</td>\n",
       "      <td>6.166</td>\n",
       "      <td>8.611</td>\n",
       "    </tr>\n",
       "    <tr>\n",
       "      <th>4</th>\n",
       "      <td>SEEGA</td>\n",
       "      <td>LAIn</td>\n",
       "      <td>LAIn5-6</td>\n",
       "      <td>-29.500</td>\n",
       "      <td>-28.387</td>\n",
       "      <td>49.173</td>\n",
       "      <td>50.579</td>\n",
       "      <td>8.611</td>\n",
       "      <td>11.046</td>\n",
       "    </tr>\n",
       "  </tbody>\n",
       "</table>\n",
       "</div>"
      ],
      "text/plain": [
       "    type group    label  x_init   x_end  y_init   y_end  z_init   z_end\n",
       "0  SEEGA  LAIn  LAIn1-2 -33.948 -32.609  44.602  45.995  -0.933   1.646\n",
       "1  SEEGA  LAIn  LAIn2-3 -32.609 -31.847  45.995  46.867   1.646   3.742\n",
       "2  SEEGA  LAIn  LAIn3-4 -31.847 -30.644  46.867  48.118   3.742   6.166\n",
       "3  SEEGA  LAIn  LAIn4-5 -30.644 -29.500  48.118  49.173   6.166   8.611\n",
       "4  SEEGA  LAIn  LAIn5-6 -29.500 -28.387  49.173  50.579   8.611  11.046"
      ]
     },
     "execution_count": 2,
     "metadata": {},
     "output_type": "execute_result"
    }
   ],
   "source": [
    "channels_tsv = '/scratch/mcesped/Results/seegprep/hipp_run/work/sub-068/ses-005/ieeg/sub-068_ses-005_task-full_rec-reref_run-01_reref_native_space.tsv'\n",
    "df_channels = pd.read_csv(channels_tsv, sep='\\t')\n",
    "df_channels.head()"
   ]
  },
  {
   "cell_type": "code",
   "execution_count": 3,
   "id": "06965197-fcb6-4eb3-805e-f2c23dc96c45",
   "metadata": {},
   "outputs": [],
   "source": [
    "labels_chns = df_channels['label'].to_list()"
   ]
  },
  {
   "cell_type": "code",
   "execution_count": 12,
   "id": "a8d4a167-6fc8-4f16-b92a-ae64f27b0b7a",
   "metadata": {},
   "outputs": [],
   "source": [
    "tfm_list = [('/scratch/mcesped/Results/seegprep/hipp_run/work/sub-068/anat/sub-068_tf.txt', False)]\n",
    "elec_df = df_channels\n",
    "df_cols = [\n",
    "                \"type\",\n",
    "                \"group\",\n",
    "                \"label\",\n",
    "                \"x_init\",\n",
    "                \"x_end\",\n",
    "                \"y_init\",\n",
    "                \"y_end\",\n",
    "                \"z_init\",\n",
    "                \"z_end\",\n",
    "            ]\n",
    "df_cols = dict(zip(df_cols, df_cols))\n",
    "parc = img"
   ]
  },
  {
   "cell_type": "code",
   "execution_count": 13,
   "id": "207f62f5-12b0-4dc0-a50e-516117be5f74",
   "metadata": {},
   "outputs": [],
   "source": [
    "# Function to read matrix\n",
    "def readRegMatrix(trsfPath):\n",
    "    with open(trsfPath) as (f):\n",
    "        return np.loadtxt(f.readlines())"
   ]
  },
  {
   "cell_type": "code",
   "execution_count": 14,
   "id": "6a0808a8-d694-48bd-afd8-4a27cf96d733",
   "metadata": {},
   "outputs": [],
   "source": [
    "# parc, elec_df, df_cols, tfm_list, label_map\n",
    "# Load data of parcellations\n",
    "data_parc = np.asarray(parc.dataobj)\n",
    "# Coordinates in MRI RAS\n",
    "mri_ras_mm_init = elec_df[\n",
    "    [df_cols[\"x_init\"], df_cols[\"y_init\"], df_cols[\"z_init\"]]\n",
    "].values\n",
    "mri_ras_mm_end = elec_df[\n",
    "    [df_cols[\"x_end\"], df_cols[\"y_end\"], df_cols[\"z_end\"]]\n",
    "].values\n",
    "# Get channel names to build json file\n",
    "chn_names = elec_df[df_cols[\"label\"]].values\n",
    "# print(mri_ras_mm)\n",
    "# Apply transforms\n",
    "for tfm, inv_bool in tfm_list:\n",
    "    if type(tfm) == str:\n",
    "        if tfm.endswith(\"txt\"):\n",
    "            tfm = readRegMatrix(tfm)\n",
    "            if inv_bool:\n",
    "                tfm = np.linalg.inv(tfm)\n",
    "            mri_ras_mm_init = mne.transforms.apply_trans(tfm, mri_ras_mm_init)\n",
    "            mri_ras_mm_end = mne.transforms.apply_trans(tfm, mri_ras_mm_end)\n",
    "        elif tfm.endswith(\"nii.gz\"):\n",
    "            # reads the transform and casts the output compaitble format\n",
    "            transform_image = sitk.ReadImage(tfm)\n",
    "            transform_image = sitk.Cast(transform_image, sitk.sitkVectorFloat64)\n",
    "            # load it as a transform\n",
    "            identity_transform = sitk.Transform(transform_image)\n",
    "            # Convert points from RAS to LPS\n",
    "            mri_mni_lps_init = mri_ras_mm_init * np.array([-1, -1, 1])\n",
    "            mri_mni_lps_end = mri_ras_mm_end * np.array([-1, -1, 1])\n",
    "            # Transform\n",
    "            for point_id in range(mri_mni_lps_init.shape[0]):\n",
    "                mri_mni_lps_init[point_id, :] = np.array(\n",
    "                    identity_transform.TransformPoint(mri_mni_lps_init[point_id, :])\n",
    "                )\n",
    "                mri_mni_lps_end[point_id, :] = np.array(\n",
    "                    identity_transform.TransformPoint(mri_mni_lps_end[point_id, :])\n",
    "                )\n",
    "            # Convert from LPS back to RAS\n",
    "            mri_ras_mm_init = mri_mni_lps_init * np.array([-1, -1, 1])\n",
    "            mri_ras_mm_end = mri_mni_lps_end * np.array([-1, -1, 1])\n",
    "\n",
    "    else:\n",
    "        if inv_bool:\n",
    "            tfm = np.linalg.inv(tfm)\n",
    "        mri_ras_mm_init = mne.transforms.apply_trans(tfm, mri_ras_mm_init)\n",
    "        mri_ras_mm_end = mne.transforms.apply_trans(tfm, mri_ras_mm_end)\n",
    "# To voxels\n",
    "inv_affine = np.linalg.inv(parc.affine)\n",
    "# here's where the interpolation should be performed!!\n",
    "vox_init = np.round(\n",
    "    (mne.transforms.apply_trans(inv_affine, mri_ras_mm_init))\n",
    ").astype(int)\n",
    "vox_end = np.round((mne.transforms.apply_trans(inv_affine, mri_ras_mm_end))).astype(\n",
    "    int\n",
    ")"
   ]
  },
  {
   "cell_type": "code",
   "execution_count": 15,
   "id": "f62c2b4e-813a-43c5-a820-3bb0eaa90fae",
   "metadata": {},
   "outputs": [
    {
     "data": {
      "text/plain": [
       "63"
      ]
     },
     "execution_count": 15,
     "metadata": {},
     "output_type": "execute_result"
    }
   ],
   "source": [
    "len(vox_init)"
   ]
  },
  {
   "cell_type": "code",
   "execution_count": null,
   "id": "03a17bc1-5a12-4ac4-a4a5-8682389d879e",
   "metadata": {},
   "outputs": [],
   "source": []
  },
  {
   "cell_type": "code",
   "execution_count": 21,
   "id": "7fcc9cd1-6b1c-436b-a389-1d7241c66094",
   "metadata": {},
   "outputs": [
    {
     "name": "stdout",
     "output_type": "stream",
     "text": [
      "b\n",
      "[0 1]\n",
      "b\n",
      "[0 1 2 3]\n"
     ]
    }
   ],
   "source": [
    "# Try to get all the indexes\n",
    "# For hippunfold, the space is cropped, so it might be the case that one of the contacts is outside of the cropped space.\n",
    "# Assign unknown in this case.\n",
    "colortable_dict = {\n",
    "    'scalar': [],\n",
    "    'channel': []\n",
    "}\n",
    "final_mask = np.zeros(data_parc.shape).astype(int)\n",
    "scalar_val = 1\n",
    "for idx in range(vox_init.shape[0]):\n",
    "    # If outside of the cropped space:\n",
    "    if not (\n",
    "        (vox_init[idx, 0] >= data_parc.shape[0])\n",
    "        or (vox_init[idx, 1] >= data_parc.shape[1])\n",
    "        or (vox_init[idx, 2] >= data_parc.shape[2])\n",
    "        or (vox_init[idx, :] < 0).any()\n",
    "        or (vox_end[idx, 0] >= data_parc.shape[0])\n",
    "        or (vox_end[idx, 1] >= data_parc.shape[1])\n",
    "        or (vox_end[idx, 2] >= data_parc.shape[2])\n",
    "        or (vox_end[idx, :] < 0).any()\n",
    "    ):\n",
    "        # Calculate based on volume\n",
    "        # Create mask\n",
    "        mask = create_line_mask(\n",
    "            vox_init[idx, :].tolist(), vox_end[idx, :].tolist(), data_parc.shape\n",
    "        )\n",
    "        # Dilate mask\n",
    "        dilated = dilation(mask, ball(1))\n",
    "        # Include spheres\n",
    "        radious = 4\n",
    "        footprint = ball(radious)\n",
    "        idx_in = int(np.floor(len(footprint) / 2))\n",
    "        idx_end = int(np.ceil(len(footprint) / 2))\n",
    "        for point in [vox_init[idx, :].tolist(), vox_end[idx, :].tolist()]:\n",
    "            id_dilated = []\n",
    "            id_ball = []\n",
    "            for i in range(len(point)):\n",
    "                in_dilated = max(point[i] - idx_in, 0)\n",
    "                in_ball = radious - (point[i] - in_dilated)\n",
    "                end_dilated = min(point[i] + idx_end, dilated.shape[i])\n",
    "                end_ball = radious + (end_dilated - point[i])\n",
    "                id_dilated.append((in_dilated, end_dilated))\n",
    "                id_ball.append((in_ball, end_ball))\n",
    "            dilated[\n",
    "                id_dilated[0][0] : id_dilated[0][1],\n",
    "                id_dilated[1][0] : id_dilated[1][1],\n",
    "                id_dilated[2][0] : id_dilated[2][1],\n",
    "            ] += footprint.astype(bool)[\n",
    "                id_ball[0][0] : id_ball[0][1],\n",
    "                id_ball[1][0] : id_ball[1][1],\n",
    "                id_ball[2][0] : id_ball[2][1],\n",
    "            ]\n",
    "        # Update mask if contains useful info\n",
    "        if (data_parc[dilated] != 0).any():\n",
    "            old_mask = np.copy(final_mask)\n",
    "            final_mask[dilated] += scalar_val\n",
    "            # Update colortable\n",
    "            colortable_dict[\"scalar\"].append(scalar_val)\n",
    "            colortable_dict[\"channel\"].append(labels_chns[idx])\n",
    "            # Update in case of intersection\n",
    "            if (final_mask > scalar_val).any():\n",
    "                update_ids = final_mask > scalar_val\n",
    "                old_ids = np.unique(old_mask[update_ids])\n",
    "                for id_chn in old_ids:\n",
    "                    scalar_val += 1\n",
    "                    colortable_dict[\"scalar\"].append(scalar_val)\n",
    "                    old_label = colortable_dict[\"channel\"][\n",
    "                        colortable_dict[\"scalar\"].index(id_chn)\n",
    "                    ]\n",
    "                    colortable_dict[\"channel\"].append(\n",
    "                        old_label + \"_\" + labels_chns[idx]\n",
    "                    )\n",
    "                    # Update scalars in mask\n",
    "                    final_mask[(old_mask == id_chn) * update_ids] = scalar_val\n",
    "            scalar_val += 1\n",
    "            print(\"b\")\n",
    "            print(np.unique(final_mask))"
   ]
  },
  {
   "cell_type": "code",
   "execution_count": 22,
   "id": "8d5bd50f-7366-4de2-90ac-dc66cbe1ff7a",
   "metadata": {},
   "outputs": [
    {
     "data": {
      "text/plain": [
       "<matplotlib.image.AxesImage at 0x2ad74a920220>"
      ]
     },
     "execution_count": 22,
     "metadata": {},
     "output_type": "execute_result"
    },
    {
     "data": {
      "image/png": "[encoded data removed]",
      "text/plain": [
       "<Figure size 640x480 with 1 Axes>"
      ]
     },
     "metadata": {},
     "output_type": "display_data"
    }
   ],
   "source": [
    "plt.imshow(final_mask[:,vox[1],:].transpose()) # Adjusted the view to look like slicer"
   ]
  },
  {
   "cell_type": "code",
   "execution_count": 65,
   "id": "51375321-e01b-4a9c-9754-5a906e387a50",
   "metadata": {},
   "outputs": [],
   "source": [
    "masked_img = nb.Nifti1Image(final_mask, img.affine, img.header)\n",
    "nb.save(masked_img, 'masked_multiple.nii.gz')"
   ]
  },
  {
   "cell_type": "code",
   "execution_count": 24,
   "id": "23337a13-c2f5-4bde-b1e0-d61c3f6dde58",
   "metadata": {},
   "outputs": [
    {
     "data": {
      "text/plain": [
       "{'scalar': [1, 2, 3], 'channel': ['RHc1-2', 'RHc2-3', 'RHc1-2_RHc2-3']}"
      ]
     },
     "execution_count": 24,
     "metadata": {},
     "output_type": "execute_result"
    }
   ],
   "source": [
    "colortable_dict"
   ]
  },
  {
   "cell_type": "code",
   "execution_count": 70,
   "id": "b63adbbb-a4e4-492c-b964-d86f9f72167a",
   "metadata": {},
   "outputs": [
    {
     "data": {
      "text/html": [
       "<div>\n",
       "<style scoped>\n",
       "    .dataframe tbody tr th:only-of-type {\n",
       "        vertical-align: middle;\n",
       "    }\n",
       "\n",
       "    .dataframe tbody tr th {\n",
       "        vertical-align: top;\n",
       "    }\n",
       "\n",
       "    .dataframe thead th {\n",
       "        text-align: right;\n",
       "    }\n",
       "</style>\n",
       "<table border=\"1\" class=\"dataframe\">\n",
       "  <thead>\n",
       "    <tr style=\"text-align: right;\">\n",
       "      <th></th>\n",
       "      <th>scalar</th>\n",
       "      <th>channel</th>\n",
       "    </tr>\n",
       "  </thead>\n",
       "  <tbody>\n",
       "    <tr>\n",
       "      <th>0</th>\n",
       "      <td>1</td>\n",
       "      <td>RHc1-2</td>\n",
       "    </tr>\n",
       "    <tr>\n",
       "      <th>1</th>\n",
       "      <td>2</td>\n",
       "      <td>RHc2-3</td>\n",
       "    </tr>\n",
       "    <tr>\n",
       "      <th>2</th>\n",
       "      <td>3</td>\n",
       "      <td>RHc1-2_RHc2-3</td>\n",
       "    </tr>\n",
       "    <tr>\n",
       "      <th>3</th>\n",
       "      <td>4</td>\n",
       "      <td>RHc3-4</td>\n",
       "    </tr>\n",
       "    <tr>\n",
       "      <th>4</th>\n",
       "      <td>5</td>\n",
       "      <td>RHc2-3_RHc3-4</td>\n",
       "    </tr>\n",
       "    <tr>\n",
       "      <th>5</th>\n",
       "      <td>6</td>\n",
       "      <td>RHc4-5</td>\n",
       "    </tr>\n",
       "    <tr>\n",
       "      <th>6</th>\n",
       "      <td>7</td>\n",
       "      <td>RHc3-4_RHc4-5</td>\n",
       "    </tr>\n",
       "  </tbody>\n",
       "</table>\n",
       "</div>"
      ],
      "text/plain": [
       "   scalar        channel\n",
       "0       1         RHc1-2\n",
       "1       2         RHc2-3\n",
       "2       3  RHc1-2_RHc2-3\n",
       "3       4         RHc3-4\n",
       "4       5  RHc2-3_RHc3-4\n",
       "5       6         RHc4-5\n",
       "6       7  RHc3-4_RHc4-5"
      ]
     },
     "execution_count": 70,
     "metadata": {},
     "output_type": "execute_result"
    }
   ],
   "source": [
    "# How to get specific labels\n",
    "# Test for RHc1-2\n",
    "colortable_df = pd.DataFrame(colortable_out)\n",
    "colortable_df"
   ]
  },
  {
   "cell_type": "code",
   "execution_count": 74,
   "id": "e56b9214-d647-48b6-8c4c-1e5928c32065",
   "metadata": {},
   "outputs": [
    {
     "data": {
      "text/plain": [
       "[1, 3]"
      ]
     },
     "execution_count": 74,
     "metadata": {},
     "output_type": "execute_result"
    }
   ],
   "source": [
    "scalars_chn = colortable_df[\"scalar\"][colortable_df[\"channel\"].str.contains(\"RHc1-2\", case=False, regex=True)].to_list()\n",
    "scalars_chn"
   ]
  },
  {
   "cell_type": "code",
   "execution_count": 75,
   "id": "54b2a632-d4e0-4ef3-81d3-c90e29e4c0e6",
   "metadata": {},
   "outputs": [],
   "source": [
    "mask_chn = np.zeros(final_mask.shape).astype(bool)\n",
    "for scalar in scalars_chn:\n",
    "    mask_chn += final_mask == scalar"
   ]
  },
  {
   "cell_type": "code",
   "execution_count": 76,
   "id": "29a517d4-3b5a-49c1-837f-0adae330d8bf",
   "metadata": {},
   "outputs": [
    {
     "data": {
      "text/plain": [
       "<matplotlib.image.AxesImage at 0x2ba0e3e1aee0>"
      ]
     },
     "execution_count": 76,
     "metadata": {},
     "output_type": "execute_result"
    },
    {
     "data": {
      "image/png": "[encoded data removed]",
      "text/plain": [
       "<Figure size 640x480 with 1 Axes>"
      ]
     },
     "metadata": {},
     "output_type": "display_data"
    }
   ],
   "source": [
    "plt.imshow(mask_chn[150:200,vox[1],50:150].transpose(), cmap='gray') # Adjusted the view to look like slicer"
   ]
  },
  {
   "cell_type": "markdown",
   "id": "f5b6161c-6863-43a1-98eb-d6eca196fa5b",
   "metadata": {},
   "source": [
    "# Mapping to surface"
   ]
  },
  {
   "cell_type": "code",
   "execution_count": 2,
   "id": "d0441aea-f1ec-4232-b0cf-1bcd6eb7aa60",
   "metadata": {},
   "outputs": [],
   "source": [
    "!kapp exec docker://khanlab/autotop_deps:v0.4.3 wb_command -volume-to-surface-mapping \\\n",
    "/scratch/mcesped/code/sEEGPrep/Results/mask_R.nii.gz \\\n",
    "/scratch/mcesped/Results/hippunfold/old_run/hippunfold/sub-P060/surf/sub-P060_hemi-R_space-T1w_den-0p5mm_label-hipp_inner.surf.gii \\\n",
    "/scratch/mcesped/code/HippiEEGAtlas/code/DSP/mapping.shape.gii -enclosing"
   ]
  }
 ],
 "metadata": {
  "kernelspec": {
   "display_name": "Python 3 (ipykernel)",
   "language": "python",
   "name": "python3"
  },
  "language_info": {
   "codemirror_mode": {
    "name": "ipython",
    "version": 3
   },
   "file_extension": ".py",
   "mimetype": "text/x-python",
   "name": "python",
   "nbconvert_exporter": "python",
   "pygments_lexer": "ipython3",
   "version": "3.8.10"
  }
 },
 "nbformat": 4,
 "nbformat_minor": 5
}
