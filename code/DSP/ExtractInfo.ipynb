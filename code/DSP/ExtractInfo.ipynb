{
 "cells": [
  {
   "cell_type": "code",
   "execution_count": 17,
   "id": "5bced9a0-f4df-4a66-85d6-d7379a579188",
   "metadata": {},
   "outputs": [],
   "source": [
    "import glob\n",
    "import json\n",
    "import numpy as np"
   ]
  },
  {
   "cell_type": "code",
   "execution_count": 3,
   "id": "e7a91248-0d63-4b92-abf6-c381df651524",
   "metadata": {},
   "outputs": [],
   "source": [
    "list_json = glob.glob('/home/mcesped/projects/ctb-akhanf/cfmm-bids/Khan/epi_iEEG/ieeg/bids/sub-*/ses-*/ieeg/*_ieeg.json')"
   ]
  },
  {
   "cell_type": "code",
   "execution_count": 4,
   "id": "97c07dda-0979-4fd4-b756-44d134e7cb19",
   "metadata": {},
   "outputs": [
    {
     "data": {
      "text/plain": [
       "1663"
      ]
     },
     "execution_count": 4,
     "metadata": {},
     "output_type": "execute_result"
    }
   ],
   "source": [
    "len(list_json)"
   ]
  },
  {
   "cell_type": "code",
   "execution_count": 10,
   "id": "a0e3d6e2-05dc-4ce8-9570-5af9cd575f88",
   "metadata": {},
   "outputs": [],
   "source": [
    "samp_freq = []\n",
    "for json_file in list_json:\n",
    "    f_json = open(json_file)\n",
    "    data_json = json.load(f_json)\n",
    "    samp_freq.append(data_json['SamplingFrequency'])\n",
    "    f_json.close()"
   ]
  },
  {
   "cell_type": "code",
   "execution_count": 11,
   "id": "4aceb510-e498-4f4f-9272-200ddbefa77a",
   "metadata": {},
   "outputs": [
    {
     "data": {
      "text/plain": [
       "1663"
      ]
     },
     "execution_count": 11,
     "metadata": {},
     "output_type": "execute_result"
    }
   ],
   "source": [
    "len(samp_freq)"
   ]
  },
  {
   "cell_type": "code",
   "execution_count": 14,
   "id": "da282ae7-c52d-4128-a127-a6fa636e0123",
   "metadata": {},
   "outputs": [
    {
     "data": {
      "text/plain": [
       "[1024, 1024, 1024, 1024, 250, 250, 250, 250, 250, 250]"
      ]
     },
     "execution_count": 14,
     "metadata": {},
     "output_type": "execute_result"
    }
   ],
   "source": [
    "samp_freq[0:10]"
   ]
  },
  {
   "cell_type": "code",
   "execution_count": 22,
   "id": "9a4c43a7-d737-460e-a165-b00b24c0656a",
   "metadata": {},
   "outputs": [
    {
     "data": {
      "text/plain": [
       "True"
      ]
     },
     "execution_count": 22,
     "metadata": {},
     "output_type": "execute_result"
    }
   ],
   "source": [
    "all(np.array(samp_freq) > 200)"
   ]
  }
 ],
 "metadata": {
  "kernelspec": {
   "display_name": "Python 3 (ipykernel)",
   "language": "python",
   "name": "python3"
  },
  "language_info": {
   "codemirror_mode": {
    "name": "ipython",
    "version": 3
   },
   "file_extension": ".py",
   "mimetype": "text/x-python",
   "name": "python",
   "nbconvert_exporter": "python",
   "pygments_lexer": "ipython3",
   "version": "3.8.10"
  }
 },
 "nbformat": 4,
 "nbformat_minor": 5
}
