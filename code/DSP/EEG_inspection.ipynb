{
 "cells": [
  {
   "cell_type": "code",
   "execution_count": 3,
   "metadata": {},
   "outputs": [],
   "source": [
    "import mne\n",
    "import pyedflib\n",
    "import numpy as np\n",
    "import pandas as pd\n",
    "import matplotlib.pyplot as plt\n",
    "import traceback"
   ]
  },
  {
   "cell_type": "code",
   "execution_count": 76,
   "metadata": {},
   "outputs": [],
   "source": [
    "def create_EDF(edf_in, time_stamps):\n",
    "    # First import labels\n",
    "    labels = edf_in.getSignalLabels()\n",
    "    # Create file:\n",
    "    edf_out = pyedflib.EdfWriter('test2.edf', len(labels), file_type=pyedflib.FILETYPE_EDFPLUS)\n",
    "    try:\n",
    "        # First set the data from the header of the edf file:\n",
    "        edf_out.setHeader(edf_in.getHeader())\n",
    "        # f.datarecord_duration gives the value is sec and setDatarecordDuration receives it in units\n",
    "        # of 10 ms. Therefore: setDatarecordDuration = datarecord_duration*10^6 / 10\n",
    "        # int(edf_in.datarecord_duration*(100000)))\n",
    "        edf_out.setDatarecordDuration(int(edf_in.datarecord_duration*100000)) # This actually is used to set the sample frequency\n",
    "        # Set each channel info:\n",
    "        # First create an empty list for the data\n",
    "        channel_data = [np.array([], dtype=float) for chn in range(len(labels))]\n",
    "        # Sampling rate:\n",
    "        srate = edf_in.getSampleFrequencies()[0]/edf_in.datarecord_duration\n",
    "        # Build epochs\n",
    "        N = edf_in.getNSamples()[0]\n",
    "        # Time vector:\n",
    "        t = np.arange(0, N)/srate\n",
    "        # Relative initial time for epochs\n",
    "        t_0 = t[np.abs(np.subtract(t,time_stamps[0])).argmin()]\n",
    "        edf_out.writeAnnotation(0, -1, \"Recording starts\")\n",
    "        # Change this for to 2 separate fors. The first should find and store the t_ids and the second one \n",
    "        # should iterate across channels\n",
    "        t_ids = []\n",
    "        for epoch_id in range(time_stamps.size):\n",
    "            temp = np.asfortranarray(np.subtract(t,time_stamps[epoch_id]))\n",
    "            t_init_id = np.abs(temp).argmin() ## CANNOT BE ZERO, change to a not magic #\n",
    "            t_end_id = int(np.floor(t_init_id+240*srate+1)) # 4 min = 240 s\n",
    "            t_ids.append((t_init_id, t_end_id))\n",
    "            # Write annotations\n",
    "            edf_out.writeAnnotation(t[t_init_id]-t_0, -1, f\"Epoch #{epoch_id+1} starts.\")\n",
    "            edf_out.writeAnnotation(t[t_end_id]-t_0, -1, f\"Epoch #{epoch_id+1} ends.\")\n",
    "        # Deallocate space in memory\n",
    "        del t\n",
    "        for chn in range(len(labels)):\n",
    "            print(chn)\n",
    "            signal = edf_in.readSignal(chn)\n",
    "            for t_id in t_ids:\n",
    "                channel_data[chn] = np.hstack([channel_data[chn], signal[t_id[0]:t_id[1]], np.zeros(int(60*srate))])\n",
    "                # Deallocate space in memory\n",
    "            del signal\n",
    "        # print(channel_data)\n",
    "        headers = edf_in.getSignalHeaders()\n",
    "        for header in headers:\n",
    "            header['physical_max'] = int(header['physical_max'])\n",
    "            header['physical_min'] = int(header['physical_min'])\n",
    "            if len(str(header['physical_max']))>8:\n",
    "                header['physical_max'] = int(str(header['physical_max'])[0:8])\n",
    "            if len(str(header['physical_min']))>8:\n",
    "                header['physical_min'] = int(str(header['physical_min'])[0:8])\n",
    "        edf_out.setSignalHeaders(headers)\n",
    "        edf_out.writeSamples(channel_data)\n",
    "        edf_out.close()\n",
    "    except Exception:\n",
    "        traceback.print_exc()\n",
    "        edf_out.close()"
   ]
  },
  {
   "cell_type": "code",
   "execution_count": 4,
   "metadata": {},
   "outputs": [],
   "source": [
    "file = \"/home/mcesped/projects/ctb-akhanf/cfmm-bids/Khan/epi_iEEG/ieeg/bids/sub-002/ses-002/ieeg/sub-002_ses-002_task-full_run-01_ieeg.edf\"\n",
    "f = pyedflib.EdfReader(file)"
   ]
  },
  {
   "cell_type": "code",
   "execution_count": 5,
   "metadata": {},
   "outputs": [
    {
     "name": "stdout",
     "output_type": "stream",
     "text": [
      "2\n"
     ]
    }
   ],
   "source": [
    "labels = f.getSignalLabels()\n",
    "print(labels.index('LAFr3'))"
   ]
  },
  {
   "cell_type": "code",
   "execution_count": 6,
   "metadata": {},
   "outputs": [
    {
     "data": {
      "text/html": [
       "<div>\n",
       "<style scoped>\n",
       "    .dataframe tbody tr th:only-of-type {\n",
       "        vertical-align: middle;\n",
       "    }\n",
       "\n",
       "    .dataframe tbody tr th {\n",
       "        vertical-align: top;\n",
       "    }\n",
       "\n",
       "    .dataframe thead th {\n",
       "        text-align: right;\n",
       "    }\n",
       "</style>\n",
       "<table border=\"1\" class=\"dataframe\">\n",
       "  <thead>\n",
       "    <tr style=\"text-align: right;\">\n",
       "      <th></th>\n",
       "      <th>Onset</th>\n",
       "      <th>Duration</th>\n",
       "      <th>event</th>\n",
       "    </tr>\n",
       "  </thead>\n",
       "  <tbody>\n",
       "    <tr>\n",
       "      <th>0</th>\n",
       "      <td>0.009766</td>\n",
       "      <td>-1.0</td>\n",
       "      <td>Breakout box reconnected.</td>\n",
       "    </tr>\n",
       "    <tr>\n",
       "      <th>1</th>\n",
       "      <td>157.500977</td>\n",
       "      <td>-1.0</td>\n",
       "      <td>Patient Event</td>\n",
       "    </tr>\n",
       "    <tr>\n",
       "      <th>2</th>\n",
       "      <td>173.684570</td>\n",
       "      <td>-1.0</td>\n",
       "      <td>Patient Event</td>\n",
       "    </tr>\n",
       "    <tr>\n",
       "      <th>3</th>\n",
       "      <td>198.474609</td>\n",
       "      <td>-1.0</td>\n",
       "      <td>Patient Event</td>\n",
       "    </tr>\n",
       "    <tr>\n",
       "      <th>4</th>\n",
       "      <td>201.696289</td>\n",
       "      <td>-1.0</td>\n",
       "      <td>Patient Event</td>\n",
       "    </tr>\n",
       "  </tbody>\n",
       "</table>\n",
       "</div>"
      ],
      "text/plain": [
       "        Onset  Duration                      event\n",
       "0    0.009766      -1.0  Breakout box reconnected.\n",
       "1  157.500977      -1.0              Patient Event\n",
       "2  173.684570      -1.0              Patient Event\n",
       "3  198.474609      -1.0              Patient Event\n",
       "4  201.696289      -1.0              Patient Event"
      ]
     },
     "execution_count": 6,
     "metadata": {},
     "output_type": "execute_result"
    }
   ],
   "source": [
    "# n_annot = len(f.readAnnotations()[0])\n",
    "# annot = np.zeros([n_annot, 3])\n",
    "annot = f.readAnnotations()\n",
    "annot = {\n",
    "    'Onset': annot[0],\n",
    "    'Duration': annot[1],\n",
    "    'event': annot[2]\n",
    "}\n",
    "annot = pd.DataFrame(annot)\n",
    "annot.head()"
   ]
  },
  {
   "cell_type": "code",
   "execution_count": 7,
   "metadata": {},
   "outputs": [],
   "source": [
    "# Find time stamps where the 'awake trigger' event is happening\n",
    "id = annot['event'].str.contains('awake trigger', case=False)\n",
    "time_stamps = annot.Onset.to_numpy()[id]"
   ]
  },
  {
   "cell_type": "code",
   "execution_count": 7,
   "metadata": {},
   "outputs": [
    {
     "data": {
      "text/plain": [
       "{'label': 'C124',\n",
       " 'dimension': 'uV',\n",
       " 'sample_rate': 128.0,\n",
       " 'sample_frequency': 128.0,\n",
       " 'physical_max': -8711.0,\n",
       " 'physical_min': 8711.0,\n",
       " 'digital_max': 32767,\n",
       " 'digital_min': -32768,\n",
       " 'prefilter': '',\n",
       " 'transducer': ''}"
      ]
     },
     "execution_count": 7,
     "metadata": {},
     "output_type": "execute_result"
    }
   ],
   "source": [
    "f.getSignalHeader(123)"
   ]
  },
  {
   "cell_type": "code",
   "execution_count": 18,
   "metadata": {},
   "outputs": [
    {
     "data": {
      "text/plain": [
       "148"
      ]
     },
     "execution_count": 18,
     "metadata": {},
     "output_type": "execute_result"
    }
   ],
   "source": [
    "len(labels)"
   ]
  },
  {
   "cell_type": "code",
   "execution_count": 61,
   "metadata": {},
   "outputs": [
    {
     "data": {
      "text/plain": [
       "148"
      ]
     },
     "execution_count": 61,
     "metadata": {},
     "output_type": "execute_result"
    }
   ],
   "source": [
    "len(f.getSignalHeaders())"
   ]
  },
  {
   "cell_type": "code",
   "execution_count": 20,
   "metadata": {},
   "outputs": [],
   "source": [
    "# f.getSignalHeaders()[135:148]"
   ]
  },
  {
   "cell_type": "code",
   "execution_count": 8,
   "metadata": {},
   "outputs": [
    {
     "data": {
      "text/plain": [
       "307201"
      ]
     },
     "execution_count": 8,
     "metadata": {},
     "output_type": "execute_result"
    }
   ],
   "source": [
    "srate = (f.getSampleFrequencies()[0]/f.datarecord_duration)\n",
    "int(np.floor(0+240*srate+1))+int(60*srate)"
   ]
  },
  {
   "cell_type": "code",
   "execution_count": 77,
   "metadata": {},
   "outputs": [
    {
     "name": "stdout",
     "output_type": "stream",
     "text": [
      "0\n",
      "1\n",
      "2\n",
      "3\n",
      "4\n",
      "5\n",
      "6\n",
      "7\n",
      "8\n",
      "9\n",
      "10\n",
      "11\n",
      "12\n",
      "13\n",
      "14\n",
      "15\n",
      "16\n",
      "17\n",
      "18\n",
      "19\n",
      "20\n",
      "21\n",
      "22\n",
      "23\n",
      "24\n",
      "25\n",
      "26\n",
      "27\n",
      "28\n",
      "29\n",
      "30\n",
      "31\n",
      "32\n",
      "33\n",
      "34\n",
      "35\n",
      "36\n",
      "37\n",
      "38\n",
      "39\n",
      "40\n",
      "41\n",
      "42\n",
      "43\n",
      "44\n",
      "45\n",
      "46\n",
      "47\n",
      "48\n",
      "49\n",
      "50\n",
      "51\n",
      "52\n",
      "53\n",
      "54\n",
      "55\n",
      "56\n",
      "57\n",
      "58\n",
      "59\n",
      "60\n",
      "61\n",
      "62\n",
      "63\n",
      "64\n",
      "65\n",
      "66\n",
      "67\n",
      "68\n",
      "69\n",
      "70\n",
      "71\n",
      "72\n",
      "73\n",
      "74\n",
      "75\n",
      "76\n",
      "77\n",
      "78\n",
      "79\n",
      "80\n",
      "81\n",
      "82\n",
      "83\n",
      "84\n",
      "85\n",
      "86\n",
      "87\n",
      "88\n",
      "89\n",
      "90\n",
      "91\n",
      "92\n",
      "93\n",
      "94\n",
      "95\n",
      "96\n",
      "97\n",
      "98\n",
      "99\n",
      "100\n",
      "101\n",
      "102\n",
      "103\n",
      "104\n",
      "105\n",
      "106\n",
      "107\n",
      "108\n",
      "109\n",
      "110\n",
      "111\n",
      "112\n",
      "113\n",
      "114\n",
      "115\n",
      "116\n",
      "117\n",
      "118\n",
      "119\n",
      "120\n",
      "121\n",
      "122\n",
      "123\n",
      "124\n",
      "125\n",
      "126\n",
      "127\n",
      "128\n",
      "129\n",
      "130\n",
      "131\n",
      "132\n",
      "133\n",
      "134\n",
      "135\n",
      "136\n",
      "137\n",
      "138\n",
      "139\n",
      "140\n",
      "141\n",
      "142\n",
      "143\n",
      "144\n",
      "145\n",
      "146\n",
      "147\n"
     ]
    }
   ],
   "source": [
    "if time_stamps.size > 0:\n",
    "    # Here call function\n",
    "    create_EDF(f, time_stamps)"
   ]
  },
  {
   "cell_type": "code",
   "execution_count": 23,
   "metadata": {},
   "outputs": [
    {
     "ename": "NameError",
     "evalue": "name 'edf_out' is not defined",
     "output_type": "error",
     "traceback": [
      "\u001b[0;31m---------------------------------------------------------------------------\u001b[0m",
      "\u001b[0;31mNameError\u001b[0m                                 Traceback (most recent call last)",
      "Cell \u001b[0;32mIn [23], line 1\u001b[0m\n\u001b[0;32m----> 1\u001b[0m \u001b[43medf_out\u001b[49m\u001b[38;5;241m.\u001b[39mclose()\n",
      "\u001b[0;31mNameError\u001b[0m: name 'edf_out' is not defined"
     ]
    }
   ],
   "source": [
    "edf_out.close()"
   ]
  },
  {
   "cell_type": "code",
   "execution_count": 50,
   "metadata": {},
   "outputs": [],
   "source": [
    "f_out.close()"
   ]
  },
  {
   "cell_type": "code",
   "execution_count": 17,
   "metadata": {},
   "outputs": [],
   "source": [
    "signal = f.readSignal(0)"
   ]
  },
  {
   "cell_type": "code",
   "execution_count": 18,
   "metadata": {},
   "outputs": [],
   "source": [
    "N = signal.shape[0]\n",
    "srate = (f.getSampleFrequencies()[0]/f.datarecord_duration)\n",
    "t = np.arange(0, N)/srate\n",
    "t_init = np.argmin((np.abs(t-time_stamps[0])))\n",
    "t_end = int(np.floor(t_init+240*srate+1)) # 4 min = 240 s\n",
    "epoch = signal[t_init:t_end]"
   ]
  },
  {
   "cell_type": "code",
   "execution_count": 28,
   "metadata": {},
   "outputs": [
    {
     "data": {
      "text/plain": [
       "0.125"
      ]
     },
     "execution_count": 28,
     "metadata": {},
     "output_type": "execute_result"
    }
   ],
   "source": [
    "f.datarecord_duration"
   ]
  },
  {
   "cell_type": "code",
   "execution_count": 23,
   "metadata": {},
   "outputs": [
    {
     "data": {
      "text/plain": [
       "240.0009765625"
      ]
     },
     "execution_count": 23,
     "metadata": {},
     "output_type": "execute_result"
    }
   ],
   "source": [
    "t[t_end]-t[t_init]"
   ]
  },
  {
   "cell_type": "code",
   "execution_count": 24,
   "metadata": {},
   "outputs": [
    {
     "data": {
      "text/plain": [
       "9571.0166015625"
      ]
     },
     "execution_count": 24,
     "metadata": {},
     "output_type": "execute_result"
    }
   ],
   "source": [
    "t[t_init]"
   ]
  },
  {
   "cell_type": "code",
   "execution_count": 19,
   "metadata": {},
   "outputs": [
    {
     "data": {
      "text/plain": [
       "array([-189.94459449, -194.19807736, -214.66796368, ...,    0.        ,\n",
       "          0.        ,    0.        ])"
      ]
     },
     "execution_count": 19,
     "metadata": {},
     "output_type": "execute_result"
    }
   ],
   "source": [
    "np.hstack([epoch, np.zeros(int(60*srate), dtype='int')])"
   ]
  },
  {
   "cell_type": "code",
   "execution_count": 20,
   "metadata": {},
   "outputs": [
    {
     "data": {
      "text/plain": [
       "[<matplotlib.lines.Line2D at 0x2ac35ceb1e80>]"
      ]
     },
     "execution_count": 20,
     "metadata": {},
     "output_type": "execute_result"
    },
    {
     "data": {
      "image/png": "[encoded data removed]",
      "text/plain": [
       "<Figure size 640x480 with 1 Axes>"
      ]
     },
     "metadata": {},
     "output_type": "display_data"
    }
   ],
   "source": [
    "fig, ax = plt.subplots()\n",
    "ax.plot(t[t_init:t_end], epoch)"
   ]
  },
  {
   "cell_type": "code",
   "execution_count": 32,
   "metadata": {},
   "outputs": [],
   "source": [
    "f.close()"
   ]
  },
  {
   "cell_type": "code",
   "execution_count": 9,
   "metadata": {},
   "outputs": [],
   "source": [
    "from EDFlib.edfreader import EDFreader"
   ]
  },
  {
   "cell_type": "markdown",
   "metadata": {},
   "source": [
    "## Get channels info"
   ]
  },
  {
   "cell_type": "code",
   "execution_count": 78,
   "metadata": {},
   "outputs": [],
   "source": [
    "file2 = \"test2.edf\"\n",
    "f2 = pyedflib.EdfReader(file2)"
   ]
  },
  {
   "cell_type": "markdown",
   "metadata": {},
   "source": [
    "**Important: pyedf uses int32 to write the values so you have to read them in this format!**"
   ]
  },
  {
   "cell_type": "code",
   "execution_count": 85,
   "metadata": {},
   "outputs": [],
   "source": [
    "signal2 = f2.readSignal(40).astype('int32')"
   ]
  },
  {
   "cell_type": "code",
   "execution_count": 86,
   "metadata": {},
   "outputs": [
    {
     "data": {
      "text/plain": [
       "array([0, 0, 0, 0, 0, 0, 0, 0, 0, 0, 0, 0, 0, 0, 0], dtype=int32)"
      ]
     },
     "execution_count": 86,
     "metadata": {},
     "output_type": "execute_result"
    }
   ],
   "source": [
    "signal2[len(signal2)-15:]"
   ]
  },
  {
   "cell_type": "code",
   "execution_count": 87,
   "metadata": {},
   "outputs": [
    {
     "data": {
      "text/plain": [
       "307328"
      ]
     },
     "execution_count": 87,
     "metadata": {},
     "output_type": "execute_result"
    }
   ],
   "source": [
    "len(signal2)"
   ]
  },
  {
   "cell_type": "code",
   "execution_count": 82,
   "metadata": {},
   "outputs": [
    {
     "data": {
      "text/plain": [
       "148"
      ]
     },
     "execution_count": 82,
     "metadata": {},
     "output_type": "execute_result"
    }
   ],
   "source": [
    "len(f2.getSignalHeaders())"
   ]
  },
  {
   "cell_type": "code",
   "execution_count": 83,
   "metadata": {},
   "outputs": [
    {
     "data": {
      "text/html": [
       "<div>\n",
       "<style scoped>\n",
       "    .dataframe tbody tr th:only-of-type {\n",
       "        vertical-align: middle;\n",
       "    }\n",
       "\n",
       "    .dataframe tbody tr th {\n",
       "        vertical-align: top;\n",
       "    }\n",
       "\n",
       "    .dataframe thead th {\n",
       "        text-align: right;\n",
       "    }\n",
       "</style>\n",
       "<table border=\"1\" class=\"dataframe\">\n",
       "  <thead>\n",
       "    <tr style=\"text-align: right;\">\n",
       "      <th></th>\n",
       "      <th>Onset</th>\n",
       "      <th>Duration</th>\n",
       "      <th>event</th>\n",
       "    </tr>\n",
       "  </thead>\n",
       "  <tbody>\n",
       "    <tr>\n",
       "      <th>0</th>\n",
       "      <td>-0.00007</td>\n",
       "      <td>-1.0</td>\n",
       "      <td>Recording starts</td>\n",
       "    </tr>\n",
       "    <tr>\n",
       "      <th>1</th>\n",
       "      <td>-0.00007</td>\n",
       "      <td>-1.0</td>\n",
       "      <td>Epoch #1 starts.</td>\n",
       "    </tr>\n",
       "    <tr>\n",
       "      <th>2</th>\n",
       "      <td>240.00093</td>\n",
       "      <td>-1.0</td>\n",
       "      <td>Epoch #1 ends.</td>\n",
       "    </tr>\n",
       "  </tbody>\n",
       "</table>\n",
       "</div>"
      ],
      "text/plain": [
       "       Onset  Duration             event\n",
       "0   -0.00007      -1.0  Recording starts\n",
       "1   -0.00007      -1.0  Epoch #1 starts.\n",
       "2  240.00093      -1.0    Epoch #1 ends."
      ]
     },
     "execution_count": 83,
     "metadata": {},
     "output_type": "execute_result"
    }
   ],
   "source": [
    "annot2 = f2.readAnnotations()\n",
    "annot2 = {\n",
    "    'Onset': annot2[0],\n",
    "    'Duration': annot2[1],\n",
    "    'event': annot2[2]\n",
    "}\n",
    "annot2 = pd.DataFrame(annot2)\n",
    "annot2.head()"
   ]
  },
  {
   "cell_type": "code",
   "execution_count": 91,
   "metadata": {},
   "outputs": [],
   "source": [
    "N = signal2.shape[0]\n",
    "srate2 = (f2.getSampleFrequencies()[0]/f2.datarecord_duration)\n",
    "t = np.arange(0, N)/srate2\n",
    "t_test = np.argmin((np.abs(t-annot2.Onset.to_numpy()[2])))"
   ]
  },
  {
   "cell_type": "code",
   "execution_count": 73,
   "metadata": {},
   "outputs": [
    {
     "data": {
      "text/plain": [
       "0.125"
      ]
     },
     "execution_count": 73,
     "metadata": {},
     "output_type": "execute_result"
    }
   ],
   "source": [
    "f2.datarecord_duration"
   ]
  },
  {
   "cell_type": "code",
   "execution_count": 61,
   "metadata": {},
   "outputs": [
    {
     "data": {
      "text/plain": [
       "245761"
      ]
     },
     "execution_count": 61,
     "metadata": {},
     "output_type": "execute_result"
    }
   ],
   "source": [
    "t_test"
   ]
  },
  {
   "cell_type": "code",
   "execution_count": 92,
   "metadata": {},
   "outputs": [
    {
     "data": {
      "text/plain": [
       "[<matplotlib.lines.Line2D at 0x2aff1a8fd640>]"
      ]
     },
     "execution_count": 92,
     "metadata": {},
     "output_type": "execute_result"
    },
    {
     "data": {
      "image/png": "[encoded data removed]",
      "text/plain": [
       "<Figure size 640x480 with 1 Axes>"
      ]
     },
     "metadata": {},
     "output_type": "display_data"
    }
   ],
   "source": [
    "fig, ax = plt.subplots()\n",
    "ax.plot(t,signal2)\n",
    "ax.plot([t[t_test], t[t_test]], [-400,300], 'r')"
   ]
  },
  {
   "cell_type": "code",
   "execution_count": 93,
   "metadata": {},
   "outputs": [],
   "source": [
    "f2.close()"
   ]
  },
  {
   "cell_type": "markdown",
   "metadata": {},
   "source": [
    "## Extract edf files from path"
   ]
  },
  {
   "cell_type": "code",
   "execution_count": 5,
   "metadata": {},
   "outputs": [],
   "source": [
    "import os, fnmatch\n",
    "import re\n",
    "def find(pattern, path):\n",
    "    result = []\n",
    "    for root, dirs, files in os.walk(path):\n",
    "        for name in files:\n",
    "            if fnmatch.fnmatch(name, pattern):\n",
    "                result.append(os.path.join(root, name))\n",
    "    return result"
   ]
  },
  {
   "cell_type": "code",
   "execution_count": 2,
   "metadata": {},
   "outputs": [],
   "source": [
    "list_paths = find(\"*ieeg.edf\",\"/home/mcesped/projects/ctb-akhanf/cfmm-bids/Khan/epi_iEEG/ieeg/bids/sub-002/\")"
   ]
  },
  {
   "cell_type": "code",
   "execution_count": 4,
   "metadata": {},
   "outputs": [
    {
     "data": {
      "text/plain": [
       "'/home/mcesped/projects/ctb-akhanf/cfmm-bids/Khan/epi_iEEG/ieeg/bids/sub-002/ses-003/ieeg/sub-002_ses-003_task-full_run-04_ieeg.edf'"
      ]
     },
     "execution_count": 4,
     "metadata": {},
     "output_type": "execute_result"
    }
   ],
   "source": [
    "list_paths[0]"
   ]
  },
  {
   "cell_type": "code",
   "execution_count": 43,
   "metadata": {},
   "outputs": [],
   "source": [
    "pattern = r'sub-\\d{3}_ses-\\d{3}_task-(.+)_run-\\d{2}_ieeg'"
   ]
  },
  {
   "cell_type": "code",
   "execution_count": 44,
   "metadata": {},
   "outputs": [
    {
     "name": "stdout",
     "output_type": "stream",
     "text": [
      "sub-002_ses-003_task-full_run-04_ieeg\n"
     ]
    }
   ],
   "source": [
    "caca= re.search(pattern=pattern, string=list_paths[0]).group()\n",
    "print(caca)"
   ]
  }
 ],
 "metadata": {
  "kernelspec": {
   "display_name": "Python 3 (ipykernel)",
   "language": "python",
   "name": "python3"
  },
  "language_info": {
   "codemirror_mode": {
    "name": "ipython",
    "version": 3
   },
   "file_extension": ".py",
   "mimetype": "text/x-python",
   "name": "python",
   "nbconvert_exporter": "python",
   "pygments_lexer": "ipython3",
   "version": "3.8.10"
  }
 },
 "nbformat": 4,
 "nbformat_minor": 4
}
