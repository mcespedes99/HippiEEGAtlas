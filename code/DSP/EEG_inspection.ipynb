{
 "cells": [
  {
   "cell_type": "code",
   "execution_count": 1,
   "metadata": {},
   "outputs": [],
   "source": [
    "import mne\n",
    "import pyedflib\n",
    "import numpy as np\n",
    "import pandas as pd\n",
    "import matplotlib.pyplot as plt"
   ]
  },
  {
   "cell_type": "code",
   "execution_count": 3,
   "metadata": {},
   "outputs": [],
   "source": [
    "file = \"projects/ctb-akhanf/cfmm-bids/Khan/epi_iEEG/ieeg/bids/sub-002/ses-002/ieeg/sub-002_ses-002_task-full_run-01_ieeg.edf\"\n",
    "f = pyedflib.EdfReader(file)"
   ]
  },
  {
   "cell_type": "code",
   "execution_count": 28,
   "metadata": {},
   "outputs": [],
   "source": [
    "labels = f.getSignalLabels()"
   ]
  },
  {
   "cell_type": "code",
   "execution_count": 17,
   "metadata": {},
   "outputs": [
    {
     "data": {
      "text/html": [
       "<div>\n",
       "<style scoped>\n",
       "    .dataframe tbody tr th:only-of-type {\n",
       "        vertical-align: middle;\n",
       "    }\n",
       "\n",
       "    .dataframe tbody tr th {\n",
       "        vertical-align: top;\n",
       "    }\n",
       "\n",
       "    .dataframe thead th {\n",
       "        text-align: right;\n",
       "    }\n",
       "</style>\n",
       "<table border=\"1\" class=\"dataframe\">\n",
       "  <thead>\n",
       "    <tr style=\"text-align: right;\">\n",
       "      <th></th>\n",
       "      <th>Duration</th>\n",
       "      <th>time_rel</th>\n",
       "      <th>event</th>\n",
       "    </tr>\n",
       "  </thead>\n",
       "  <tbody>\n",
       "    <tr>\n",
       "      <th>0</th>\n",
       "      <td>0.009766</td>\n",
       "      <td>-1.0</td>\n",
       "      <td>Breakout box reconnected.</td>\n",
       "    </tr>\n",
       "    <tr>\n",
       "      <th>1</th>\n",
       "      <td>157.500977</td>\n",
       "      <td>-1.0</td>\n",
       "      <td>Patient Event</td>\n",
       "    </tr>\n",
       "    <tr>\n",
       "      <th>2</th>\n",
       "      <td>173.684570</td>\n",
       "      <td>-1.0</td>\n",
       "      <td>Patient Event</td>\n",
       "    </tr>\n",
       "    <tr>\n",
       "      <th>3</th>\n",
       "      <td>198.474609</td>\n",
       "      <td>-1.0</td>\n",
       "      <td>Patient Event</td>\n",
       "    </tr>\n",
       "    <tr>\n",
       "      <th>4</th>\n",
       "      <td>201.696289</td>\n",
       "      <td>-1.0</td>\n",
       "      <td>Patient Event</td>\n",
       "    </tr>\n",
       "  </tbody>\n",
       "</table>\n",
       "</div>"
      ],
      "text/plain": [
       "     Duration  time_rel                      event\n",
       "0    0.009766      -1.0  Breakout box reconnected.\n",
       "1  157.500977      -1.0              Patient Event\n",
       "2  173.684570      -1.0              Patient Event\n",
       "3  198.474609      -1.0              Patient Event\n",
       "4  201.696289      -1.0              Patient Event"
      ]
     },
     "execution_count": 17,
     "metadata": {},
     "output_type": "execute_result"
    }
   ],
   "source": [
    "# n_annot = len(f.readAnnotations()[0])\n",
    "# annot = np.zeros([n_annot, 3])\n",
    "annot = f.readAnnotations()\n",
    "annot = {\n",
    "    'Duration': annot[0],\n",
    "    'time_rel': annot[1],\n",
    "    'event': annot[2]\n",
    "}\n",
    "annot = pd.DataFrame(annot)\n",
    "annot.head()"
   ]
  },
  {
   "cell_type": "code",
   "execution_count": 24,
   "metadata": {},
   "outputs": [],
   "source": [
    "# Find time stamps where the 'awake trigger' event is happening\n",
    "id = annot['event'].str.contains('awake trigger', case=False)\n",
    "time_stamps = annot.Duration.to_numpy()[id]"
   ]
  },
  {
   "cell_type": "code",
   "execution_count": 68,
   "metadata": {},
   "outputs": [
    {
     "data": {
      "text/plain": [
       "1"
      ]
     },
     "execution_count": 68,
     "metadata": {},
     "output_type": "execute_result"
    }
   ],
   "source": [
    "time_stamps.size"
   ]
  },
  {
   "cell_type": "code",
   "execution_count": null,
   "metadata": {},
   "outputs": [],
   "source": [
    "# Use hd5\n",
    "# Extract the signal info:\n",
    "f = h5py.File(\"scratch/mytestfile.hdf5\", \"w\")\n",
    "data_grp = f.create_group('data')\n",
    "if time_stamps.size > 0:\n",
    "    # First create an empty array for it:\n",
    "    N = f.getNSamples()[0]\n",
    "    m = time_stamps.size\n",
    "    # Time vector:\n",
    "    srate = f.getSampleFrequencies()[0]\n",
    "    t = np.arange(0, N)/srate\n",
    "    # Build epochs\n",
    "    for chn in range(len(labels)):\n",
    "        # Read signal\n",
    "        signal = f.readSignal(chn)\n",
    "        epoch = np.array([], dtype=float)\n",
    "        for epoch_id in range(m):\n",
    "            t_init = np.argmin(np.square(t-time_stamps[epoch_id])) ## CANNOT BE ZERO, change to a not magic #\n",
    "            t_end = t_init+240*srate # 4 min = 240 s\n",
    "            epoch = np.hstack([epoch, signal[t_init:t_end], np.zeros(int(60*srate))])\n",
    "        data_grp.create_dataset(f'{labels[chn]}', data=epoch)\n",
    "f.close()"
   ]
  },
  {
   "cell_type": "code",
   "execution_count": 43,
   "metadata": {},
   "outputs": [],
   "source": [
    "signal = f.readSignal(0)"
   ]
  },
  {
   "cell_type": "code",
   "execution_count": 62,
   "metadata": {},
   "outputs": [],
   "source": [
    "N = signal.shape[0]\n",
    "srate = f.getSampleFrequencies()[0]\n",
    "t = np.arange(0, N)/srate\n",
    "t_init = np.argmin(np.square(t-time_stamps[0]))\n",
    "t_end = t_init+240*srate # 4 min = 240 s\n",
    "epoch = signal[t_init:t_end]"
   ]
  },
  {
   "cell_type": "code",
   "execution_count": 63,
   "metadata": {},
   "outputs": [
    {
     "data": {
      "text/plain": [
       "[<matplotlib.lines.Line2D at 0x2b3117ca0c70>]"
      ]
     },
     "execution_count": 63,
     "metadata": {},
     "output_type": "execute_result"
    },
    {
     "data": {
      "image/png": "[encoded data removed]",
      "text/plain": [
       "<Figure size 640x480 with 1 Axes>"
      ]
     },
     "metadata": {},
     "output_type": "display_data"
    }
   ],
   "source": [
    "fig, ax = plt.subplots()\n",
    "ax.plot(t[t_init:t_end], epoch)"
   ]
  }
 ],
 "metadata": {
  "kernelspec": {
   "display_name": "Python 3 (ipykernel)",
   "language": "python",
   "name": "python3"
  },
  "language_info": {
   "codemirror_mode": {
    "name": "ipython",
    "version": 3
   },
   "file_extension": ".py",
   "mimetype": "text/x-python",
   "name": "python",
   "nbconvert_exporter": "python",
   "pygments_lexer": "ipython3",
   "version": "3.8.10"
  },
  "orig_nbformat": 4
 },
 "nbformat": 4,
 "nbformat_minor": 2
}
