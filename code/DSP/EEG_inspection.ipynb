{
 "cells": [
  {
   "cell_type": "code",
   "execution_count": 1,
   "metadata": {},
   "outputs": [],
   "source": [
    "import mne\n",
    "import pyedflib\n",
    "import numpy as np\n",
    "import pandas as pd\n",
    "import matplotlib.pyplot as plt\n",
    "import traceback\n",
    "from multiprocessing.pool import Pool\n",
    "import re\n",
    "from functools import partial \n",
    "import multiprocessing as mp"
   ]
  },
  {
   "cell_type": "code",
   "execution_count": 2,
   "metadata": {},
   "outputs": [],
   "source": [
    "def extract_time_ids(epoch_id, time_vector, timestamps_array, srate):\n",
    "    temp = np.asfortranarray(np.subtract(time_vector,timestamps_array[epoch_id]))\n",
    "    t_init_id = np.abs(temp).argmin() ## CANNOT BE ZERO, change to a not magic \n",
    "    t_end_id = int(np.floor(t_init_id+240*srate+1)) # 4 min = 240 s\n",
    "    return (t_init_id, t_end_id)"
   ]
  },
  {
   "cell_type": "code",
   "execution_count": 3,
   "metadata": {},
   "outputs": [],
   "source": [
    "# Function to extract info from each channel\n",
    "def extract_channel_data(chn_number, edf_file, srate_data, time_ids):\n",
    "    edf_in = pyedflib.EdfReader(edf_file)\n",
    "    signal = edf_in.readSignal(chn_number)\n",
    "    print(chn_number)\n",
    "    chn_data = np.array([], dtype=float)\n",
    "    for t_id in time_ids:\n",
    "        chn_data = np.hstack([chn_data, \n",
    "                            signal[t_id[0]:t_id[1]], \n",
    "                            np.zeros(int(60*srate_data))])\n",
    "    # Deallocate space in memory\n",
    "    del signal\n",
    "    return chn_data"
   ]
  },
  {
   "cell_type": "code",
   "execution_count": 4,
   "metadata": {},
   "outputs": [],
   "source": [
    "def create_EDF(edf_file, time_stamps, electrodes_df):\n",
    "    edf_in = pyedflib.EdfReader(edf_file)\n",
    "    # First import labels\n",
    "    labels_orig = edf_in.getSignalLabels()\n",
    "    # print(labels_orig)\n",
    "    bipolar_channels = create_bipolars(electrodes_df, 8)\n",
    "    # Create file:\n",
    "    edf_out = pyedflib.EdfWriter('test2.edf', len(bipolar_channels), file_type=pyedflib.FILETYPE_EDFPLUS)\n",
    "    try:\n",
    "        # First set the data from the header of the edf file:\n",
    "        edf_out.setHeader(edf_in.getHeader())\n",
    "        # f.datarecord_duration gives the value is sec and setDatarecordDuration receives it in units\n",
    "        # of 10 ms. Therefore: setDatarecordDuration = datarecord_duration*10^6 / 10\n",
    "        # int(edf_in.datarecord_duration*(100000)))\n",
    "        edf_out.setDatarecordDuration(int(edf_in.datarecord_duration*100000)) # This actually is used to set the sample frequency\n",
    "        # Set each channel info:\n",
    "        # First create an empty list for the data\n",
    "        channel_data = [np.array([], dtype=float) for chn in range(len(bipolar_channels))]\n",
    "        # Sampling rate:\n",
    "        srate = edf_in.getSampleFrequencies()[0]/edf_in.datarecord_duration\n",
    "        # Build epochs\n",
    "        N = edf_in.getNSamples()[0]\n",
    "        # Time vector:\n",
    "        t = np.arange(0, N)/srate\n",
    "        # Relative initial time for epochs\n",
    "        t_0 = t[np.abs(np.subtract(t,time_stamps[0])).argmin()]\n",
    "        edf_out.writeAnnotation(0, -1, \"Recording starts\")\n",
    "        # Create time ids\n",
    "        list_epochs_ids = list(range(time_stamps.size))\n",
    "        print('Time part')\n",
    "        with Pool(processes=8) as pool:\n",
    "            t_ids = pool.map(partial(extract_time_ids, time_vector=t, timestamps_array=time_stamps, srate=srate), \n",
    "                            list_epochs_ids)\n",
    "        for id, (t_init_id, t_end_id) in enumerate(t_ids):\n",
    "            # Write annotations\n",
    "            edf_out.writeAnnotation(t[t_init_id]-t_0, -1, f\"Epoch #{id+1} starts.\")\n",
    "            edf_out.writeAnnotation(t[t_end_id]-t_0, -1, f\"Epoch #{id+1} ends.\")\n",
    "        # Deallocate space in memory\n",
    "        del t\n",
    "        headers_orig = edf_in.getSignalHeaders()\n",
    "        headers = []\n",
    "        for chn in range(len(bipolar_channels)):\n",
    "            print(bipolar_channels[chn][0])\n",
    "            chn1_id = labels_orig.index(bipolar_channels[chn][1])\n",
    "            chn2_id = labels_orig.index(bipolar_channels[chn][2])\n",
    "            print(chn1_id, chn2_id)\n",
    "            # Update headers\n",
    "            headers.append(headers_orig[chn1_id])\n",
    "            headers[-1]['label'] = bipolar_channels[chn][0]\n",
    "            signal_chn1 = edf_in.readSignal(chn1_id)\n",
    "            signal_chn2 = edf_in.readSignal(chn2_id)\n",
    "            for t_id in t_ids:\n",
    "                signal_bipolar = signal_chn1[t_id[0]:t_id[1]] - signal_chn2[t_id[0]:t_id[1]]\n",
    "                channel_data[chn] = np.hstack([channel_data[chn], signal_bipolar, np.zeros(int(60*srate))])\n",
    "                # Deallocate space in memory\n",
    "            del signal_chn1\n",
    "            del signal_chn2\n",
    "        # Close file:\n",
    "        edf_in.close()\n",
    "        print(f'Len channel data: {len(channel_data)}')\n",
    "        print(f'Len headers: {len(headers)}')\n",
    "        for header in headers:\n",
    "            header['physical_max'] = int(header['physical_max'])\n",
    "            header['physical_min'] = int(header['physical_min'])\n",
    "            if len(str(header['physical_max']))>8:\n",
    "                header['physical_max'] = int(str(header['physical_max'])[0:8])\n",
    "            if len(str(header['physical_min']))>8:\n",
    "                header['physical_min'] = int(str(header['physical_min'])[0:8])\n",
    "        edf_out.setSignalHeaders(headers)\n",
    "        edf_out.writeSamples(channel_data)\n",
    "        edf_out.close()\n",
    "    except Exception:\n",
    "        traceback.print_exc()\n",
    "        edf_out.close()"
   ]
  },
  {
   "cell_type": "code",
   "execution_count": 5,
   "metadata": {},
   "outputs": [],
   "source": [
    "def create_bipolar_comb(id, dict_key, channels_dict):\n",
    "    bipolar_chn = dict_key+channels_dict[dict_key][id]+'-'+channels_dict[dict_key][id+1] \n",
    "    chn1_label = dict_key+channels_dict[dict_key][id]\n",
    "    chn2_label = dict_key+channels_dict[dict_key][id+1]\n",
    "    return (bipolar_chn, chn1_label, chn2_label)"
   ]
  },
  {
   "cell_type": "code",
   "execution_count": 6,
   "metadata": {},
   "outputs": [],
   "source": [
    "def create_bipolars(electrodes_df, processes):\n",
    "    channels = dict((label,[]) for label in electrodes_df.orig_group.unique())\n",
    "    pattern = r'([A-Z]+)(\\d+)'\n",
    "    electrode_labels = electrodes_df.label.values\n",
    "    # Extract channels info\n",
    "    for electrode in electrodes_df.label.values:\n",
    "        match = re.match(pattern, electrode, re.IGNORECASE)\n",
    "        channels[match.group(1)].append(match.group(2))\n",
    "    # print(channels)\n",
    "    # Create new list\n",
    "    bipolar_list = []\n",
    "    for key in  channels.keys():\n",
    "        with Pool(processes=processes) as pool:\n",
    "                bipolar_list = bipolar_list + pool.map(partial(create_bipolar_comb, dict_key=key, channels_dict=channels), \n",
    "                                        list(range(len(channels[key])-1)))\n",
    "    return bipolar_list"
   ]
  },
  {
   "cell_type": "markdown",
   "metadata": {},
   "source": [
    "## Test"
   ]
  },
  {
   "cell_type": "code",
   "execution_count": 7,
   "metadata": {},
   "outputs": [],
   "source": [
    "file = \"/home/mcesped/projects/ctb-akhanf/cfmm-bids/Khan/epi_iEEG/ieeg/bids/sub-003/ses-007/ieeg/sub-003_ses-007_task-full_run-02_ieeg.edf\"\n",
    "f = pyedflib.EdfReader(file)"
   ]
  },
  {
   "cell_type": "code",
   "execution_count": 8,
   "metadata": {},
   "outputs": [
    {
     "data": {
      "text/plain": [
       "{'label': 'RAm1',\n",
       " 'dimension': 'uV',\n",
       " 'sample_rate': 128.0,\n",
       " 'sample_frequency': 128.0,\n",
       " 'physical_max': -8711.0,\n",
       " 'physical_min': 8711.0,\n",
       " 'digital_max': 32767,\n",
       " 'digital_min': -32768,\n",
       " 'prefilter': '',\n",
       " 'transducer': ''}"
      ]
     },
     "execution_count": 8,
     "metadata": {},
     "output_type": "execute_result"
    }
   ],
   "source": [
    "f.getSignalHeaders()[10]"
   ]
  },
  {
   "cell_type": "code",
   "execution_count": 9,
   "metadata": {},
   "outputs": [
    {
     "name": "stdout",
     "output_type": "stream",
     "text": [
      "['ROFr1', 'ROFr2', 'ROFr3', 'ROFr4', 'ROFr5', 'ROFr6', 'ROFr7', 'ROFr8', 'ROFr9', 'ROFr10', 'RAm1', 'RAm2', 'RAm3', 'RAm4', 'RAm5', 'RAm6', 'RAm7', 'RAm8', 'RAm9', 'RAm10', 'RAHc1', 'RAHc2', 'RAHc3', 'RAHc4', 'RAHc5', 'RAHc6', 'RAHc7', 'RAHc8', 'RAHc9', 'RAHc10', 'RPHc1', 'RPHc2', 'RPHc3', 'RPHc4', 'RPHc5', 'RPHc6', 'RPHc7', 'RPHc8', 'RPHc9', 'RPHc10', 'RTeP1', 'RTeP2', 'RTeP3', 'RTeP4', 'RTeP5', 'RTeP6', 'RTeP7', 'RTeP8', 'RTeP9', 'RTeP10', 'RAIn1', 'RAIn2', 'RAIn3', 'RAIn4', 'RAIn5', 'RAIn6', 'RAIn7', 'RAIn8', 'RAIn9', 'RAIn10', 'RPIn1', 'RPIn2', 'RPIn3', 'RPIn4', 'RPIn5', 'RPIn6', 'RPIn7', 'RPIn8', 'RPIn9', 'RPIn10', 'RCeO1', 'RCeO2', 'RCeO3', 'RCeO4', 'RCeO5', 'RCeO6', 'RCeO7', 'RCeO8', 'RCeO9', 'RCeO10', 'LAHc1', 'LAHc2', 'LAHc3', 'LAHc4', 'LAHc5', 'LAHc6', 'LAHc7', 'LAHc8', 'LAHc9', 'LAHc10', 'C91', 'C92', 'C93', 'C94', 'C95', 'C96', 'C97', 'C98', 'C99', 'C100', 'C101', 'C102', 'C103', 'C104', 'C105', 'C106', 'C107', 'C108', 'C109', 'C110', 'C111', 'C112', 'C113', 'C114', 'C115', 'C116', 'C117', 'C118', 'C119', 'C120', 'C121', 'C122', 'C123', 'C124', 'C125', 'C126', 'C127', 'C128', 'DC1', 'DC2', 'DC3', 'DC4', 'DC5', 'DC6', 'DC7', 'DC8', 'DC9', 'DC10', 'DC11', 'DC12', 'DC13', 'DC14', 'DC15', 'DC16', 'TRIG', 'OSAT', 'PR', 'Pleth']\n",
      "10\n"
     ]
    }
   ],
   "source": [
    "labels = f.getSignalLabels()\n",
    "print(labels)\n",
    "print(labels.index('RAm1'))"
   ]
  },
  {
   "cell_type": "code",
   "execution_count": 10,
   "metadata": {},
   "outputs": [
    {
     "data": {
      "text/html": [
       "<div>\n",
       "<style scoped>\n",
       "    .dataframe tbody tr th:only-of-type {\n",
       "        vertical-align: middle;\n",
       "    }\n",
       "\n",
       "    .dataframe tbody tr th {\n",
       "        vertical-align: top;\n",
       "    }\n",
       "\n",
       "    .dataframe thead th {\n",
       "        text-align: right;\n",
       "    }\n",
       "</style>\n",
       "<table border=\"1\" class=\"dataframe\">\n",
       "  <thead>\n",
       "    <tr style=\"text-align: right;\">\n",
       "      <th></th>\n",
       "      <th>Onset</th>\n",
       "      <th>Duration</th>\n",
       "      <th>event</th>\n",
       "    </tr>\n",
       "  </thead>\n",
       "  <tbody>\n",
       "    <tr>\n",
       "      <th>0</th>\n",
       "      <td>0.009766</td>\n",
       "      <td>-1.0</td>\n",
       "      <td>Breakout box reconnected.</td>\n",
       "    </tr>\n",
       "    <tr>\n",
       "      <th>1</th>\n",
       "      <td>2708.616211</td>\n",
       "      <td>-1.0</td>\n",
       "      <td>Clip Note</td>\n",
       "    </tr>\n",
       "    <tr>\n",
       "      <th>2</th>\n",
       "      <td>2718.341797</td>\n",
       "      <td>-1.0</td>\n",
       "      <td>awake trigger</td>\n",
       "    </tr>\n",
       "    <tr>\n",
       "      <th>3</th>\n",
       "      <td>3952.470703</td>\n",
       "      <td>-1.0</td>\n",
       "      <td>Patient Event</td>\n",
       "    </tr>\n",
       "    <tr>\n",
       "      <th>4</th>\n",
       "      <td>3971.615234</td>\n",
       "      <td>-1.0</td>\n",
       "      <td>Breakout box disconnected.</td>\n",
       "    </tr>\n",
       "  </tbody>\n",
       "</table>\n",
       "</div>"
      ],
      "text/plain": [
       "         Onset  Duration                       event\n",
       "0     0.009766      -1.0   Breakout box reconnected.\n",
       "1  2708.616211      -1.0                   Clip Note\n",
       "2  2718.341797      -1.0               awake trigger\n",
       "3  3952.470703      -1.0               Patient Event\n",
       "4  3971.615234      -1.0  Breakout box disconnected."
      ]
     },
     "execution_count": 10,
     "metadata": {},
     "output_type": "execute_result"
    }
   ],
   "source": [
    "# n_annot = len(f.readAnnotations()[0])\n",
    "# annot = np.zeros([n_annot, 3])\n",
    "annot = f.readAnnotations()\n",
    "annot = {\n",
    "    'Onset': annot[0],\n",
    "    'Duration': annot[1],\n",
    "    'event': annot[2]\n",
    "}\n",
    "annot = pd.DataFrame(annot)\n",
    "annot.head()"
   ]
  },
  {
   "cell_type": "code",
   "execution_count": 11,
   "metadata": {},
   "outputs": [],
   "source": [
    "# Find time stamps where the 'awake trigger' event is happening\n",
    "id = annot['event'].str.contains('awake trigger', case=False)\n",
    "time_stamps = annot.Onset.to_numpy()[id]"
   ]
  },
  {
   "cell_type": "code",
   "execution_count": 12,
   "metadata": {},
   "outputs": [
    {
     "data": {
      "text/plain": [
       "{'label': 'C124',\n",
       " 'dimension': 'uV',\n",
       " 'sample_rate': 128.0,\n",
       " 'sample_frequency': 128.0,\n",
       " 'physical_max': -8711.0,\n",
       " 'physical_min': 8711.0,\n",
       " 'digital_max': 32767,\n",
       " 'digital_min': -32768,\n",
       " 'prefilter': '',\n",
       " 'transducer': ''}"
      ]
     },
     "execution_count": 12,
     "metadata": {},
     "output_type": "execute_result"
    }
   ],
   "source": [
    "f.getSignalHeader(123)"
   ]
  },
  {
   "cell_type": "code",
   "execution_count": 13,
   "metadata": {},
   "outputs": [
    {
     "data": {
      "text/plain": [
       "148"
      ]
     },
     "execution_count": 13,
     "metadata": {},
     "output_type": "execute_result"
    }
   ],
   "source": [
    "len(labels)"
   ]
  },
  {
   "cell_type": "code",
   "execution_count": 14,
   "metadata": {},
   "outputs": [
    {
     "data": {
      "text/plain": [
       "148"
      ]
     },
     "execution_count": 14,
     "metadata": {},
     "output_type": "execute_result"
    }
   ],
   "source": [
    "len(f.getSignalHeaders())"
   ]
  },
  {
   "cell_type": "code",
   "execution_count": 20,
   "metadata": {},
   "outputs": [],
   "source": [
    "# f.getSignalHeaders()[135:148]"
   ]
  },
  {
   "cell_type": "code",
   "execution_count": 15,
   "metadata": {},
   "outputs": [
    {
     "data": {
      "text/html": [
       "<div>\n",
       "<style scoped>\n",
       "    .dataframe tbody tr th:only-of-type {\n",
       "        vertical-align: middle;\n",
       "    }\n",
       "\n",
       "    .dataframe tbody tr th {\n",
       "        vertical-align: top;\n",
       "    }\n",
       "\n",
       "    .dataframe thead th {\n",
       "        text-align: right;\n",
       "    }\n",
       "</style>\n",
       "<table border=\"1\" class=\"dataframe\">\n",
       "  <thead>\n",
       "    <tr style=\"text-align: right;\">\n",
       "      <th></th>\n",
       "      <th>type</th>\n",
       "      <th>label</th>\n",
       "      <th>x</th>\n",
       "      <th>y</th>\n",
       "      <th>z</th>\n",
       "      <th>orig_group</th>\n",
       "      <th>new_label</th>\n",
       "      <th>new_group</th>\n",
       "    </tr>\n",
       "  </thead>\n",
       "  <tbody>\n",
       "    <tr>\n",
       "      <th>0</th>\n",
       "      <td>SEEGA</td>\n",
       "      <td>LAHc1</td>\n",
       "      <td>-31.168</td>\n",
       "      <td>22.674</td>\n",
       "      <td>18.960</td>\n",
       "      <td>LAHc</td>\n",
       "      <td>LAHc1</td>\n",
       "      <td>LAHc</td>\n",
       "    </tr>\n",
       "    <tr>\n",
       "      <th>1</th>\n",
       "      <td>SEEGA</td>\n",
       "      <td>LAHc2</td>\n",
       "      <td>-35.115</td>\n",
       "      <td>22.649</td>\n",
       "      <td>18.819</td>\n",
       "      <td>LAHc</td>\n",
       "      <td>LAHc2</td>\n",
       "      <td>LAHc</td>\n",
       "    </tr>\n",
       "    <tr>\n",
       "      <th>2</th>\n",
       "      <td>SEEGA</td>\n",
       "      <td>LAHc3</td>\n",
       "      <td>-38.992</td>\n",
       "      <td>22.420</td>\n",
       "      <td>18.671</td>\n",
       "      <td>LAHc</td>\n",
       "      <td>LAHc3</td>\n",
       "      <td>LAHc</td>\n",
       "    </tr>\n",
       "    <tr>\n",
       "      <th>3</th>\n",
       "      <td>SEEGA</td>\n",
       "      <td>LAHc4</td>\n",
       "      <td>-42.815</td>\n",
       "      <td>22.358</td>\n",
       "      <td>18.633</td>\n",
       "      <td>LAHc</td>\n",
       "      <td>LAHc4</td>\n",
       "      <td>LAHc</td>\n",
       "    </tr>\n",
       "    <tr>\n",
       "      <th>4</th>\n",
       "      <td>SEEGA</td>\n",
       "      <td>LAHc5</td>\n",
       "      <td>-46.719</td>\n",
       "      <td>22.118</td>\n",
       "      <td>18.634</td>\n",
       "      <td>LAHc</td>\n",
       "      <td>LAHc5</td>\n",
       "      <td>LAHc</td>\n",
       "    </tr>\n",
       "  </tbody>\n",
       "</table>\n",
       "</div>"
      ],
      "text/plain": [
       "    type  label       x       y       z orig_group new_label new_group\n",
       "0  SEEGA  LAHc1 -31.168  22.674  18.960       LAHc     LAHc1      LAHc\n",
       "1  SEEGA  LAHc2 -35.115  22.649  18.819       LAHc     LAHc2      LAHc\n",
       "2  SEEGA  LAHc3 -38.992  22.420  18.671       LAHc     LAHc3      LAHc\n",
       "3  SEEGA  LAHc4 -42.815  22.358  18.633       LAHc     LAHc4      LAHc\n",
       "4  SEEGA  LAHc5 -46.719  22.118  18.634       LAHc     LAHc5      LAHc"
      ]
     },
     "execution_count": 27,
     "metadata": {},
     "output_type": "execute_result"
    }
   ],
   "source": [
    "# Find bipolar channels:\n",
    "elec_pos = pd.read_csv('/home/mcesped/projects/ctb-akhanf/cfmm-bids/Khan/clinical_imaging/epi_iEEG/derivatives/seega_coordinates/sub-P003/sub-P003_space-native_SEEGA.tsv', sep='\\t')\n",
    "elec_pos.head()"
   ]
  },
  {
   "cell_type": "code",
   "execution_count": 16,
   "metadata": {},
   "outputs": [
    {
     "name": "stdout",
     "output_type": "stream",
     "text": [
      "<class 'pandas.core.frame.DataFrame'>\n",
      "RangeIndex: 90 entries, 0 to 89\n",
      "Data columns (total 8 columns):\n",
      " #   Column      Non-Null Count  Dtype  \n",
      "---  ------      --------------  -----  \n",
      " 0   type        90 non-null     object \n",
      " 1   label       90 non-null     object \n",
      " 2   x           90 non-null     float64\n",
      " 3   y           90 non-null     float64\n",
      " 4   z           90 non-null     float64\n",
      " 5   orig_group  90 non-null     object \n",
      " 6   new_label   90 non-null     object \n",
      " 7   new_group   90 non-null     object \n",
      "dtypes: float64(3), object(5)\n",
      "memory usage: 5.8+ KB\n"
     ]
    }
   ],
   "source": [
    "elec_pos.info()"
   ]
  },
  {
   "cell_type": "code",
   "execution_count": 29,
   "metadata": {},
   "outputs": [
    {
     "data": {
      "text/plain": [
       "('LAHc1-2', 'LAHc1', 'LAHc2')"
      ]
     },
     "execution_count": 29,
     "metadata": {},
     "output_type": "execute_result"
    }
   ],
   "source": [
    "# Create bipolar list:\n",
    "create_bipolars(elec_pos, 8)[0]"
   ]
  },
  {
   "cell_type": "code",
   "execution_count": 35,
   "metadata": {},
   "outputs": [],
   "source": [
    "f.close()"
   ]
  },
  {
   "cell_type": "code",
   "execution_count": 43,
   "metadata": {},
   "outputs": [
    {
     "name": "stdout",
     "output_type": "stream",
     "text": [
      "Time part\n",
      "LAHc1-2\n",
      "80 81\n",
      "LAHc2-3\n",
      "81 82\n",
      "LAHc3-4\n",
      "82 83\n",
      "LAHc4-5\n",
      "83 84\n",
      "LAHc5-6\n",
      "84 85\n",
      "LAHc6-7\n",
      "85 86\n",
      "LAHc7-8\n",
      "86 87\n",
      "LAHc8-9\n",
      "87 88\n",
      "LAHc9-10\n",
      "88 89\n",
      "RAHc1-2\n",
      "20 21\n",
      "RAHc2-3\n",
      "21 22\n",
      "RAHc3-4\n",
      "22 23\n",
      "RAHc4-5\n",
      "23 24\n",
      "RAHc5-6\n",
      "24 25\n",
      "RAHc6-7\n",
      "25 26\n",
      "RAHc7-8\n",
      "26 27\n",
      "RAHc8-9\n",
      "27 28\n",
      "RAHc9-10\n",
      "28 29\n",
      "RAIn1-2\n",
      "50 51\n",
      "RAIn2-3\n",
      "51 52\n",
      "RAIn3-4\n",
      "52 53\n",
      "RAIn4-5\n",
      "53 54\n",
      "RAIn5-6\n",
      "54 55\n",
      "RAIn6-7\n",
      "55 56\n",
      "RAIn7-8\n",
      "56 57\n",
      "RAIn8-9\n",
      "57 58\n",
      "RAIn9-10\n",
      "58 59\n",
      "RAm1-2\n",
      "10 11\n",
      "RAm2-3\n",
      "11 12\n",
      "RAm3-4\n",
      "12 13\n",
      "RAm4-5\n",
      "13 14\n",
      "RAm5-6\n",
      "14 15\n",
      "RAm6-7\n",
      "15 16\n",
      "RAm7-8\n",
      "16 17\n",
      "RAm8-9\n",
      "17 18\n",
      "RAm9-10\n",
      "18 19\n",
      "RCeO1-2\n",
      "70 71\n",
      "RCeO2-3\n",
      "71 72\n",
      "RCeO3-4\n",
      "72 73\n",
      "RCeO4-5\n",
      "73 74\n",
      "RCeO5-6\n",
      "74 75\n",
      "RCeO6-7\n",
      "75 76\n",
      "RCeO7-8\n",
      "76 77\n",
      "RCeO8-9\n",
      "77 78\n",
      "RCeO9-10\n",
      "78 79\n",
      "ROFr1-2\n",
      "0 1\n",
      "ROFr2-3\n",
      "1 2\n",
      "ROFr3-4\n",
      "2 3\n",
      "ROFr4-5\n",
      "3 4\n",
      "ROFr5-6\n",
      "4 5\n",
      "ROFr6-7\n",
      "5 6\n",
      "ROFr7-8\n",
      "6 7\n",
      "ROFr8-9\n",
      "7 8\n",
      "ROFr9-10\n",
      "8 9\n",
      "RPHc1-2\n",
      "30 31\n",
      "RPHc2-3\n",
      "31 32\n",
      "RPHc3-4\n",
      "32 33\n",
      "RPHc4-5\n",
      "33 34\n",
      "RPHc5-6\n",
      "34 35\n",
      "RPHc6-7\n",
      "35 36\n",
      "RPHc7-8\n",
      "36 37\n",
      "RPHc8-9\n",
      "37 38\n",
      "RPHc9-10\n",
      "38 39\n",
      "RPIn1-2\n",
      "60 61\n",
      "RPIn2-3\n",
      "61 62\n",
      "RPIn3-4\n",
      "62 63\n",
      "RPIn4-5\n",
      "63 64\n",
      "RPIn5-6\n",
      "64 65\n",
      "RPIn6-7\n",
      "65 66\n",
      "RPIn7-8\n",
      "66 67\n",
      "RPIn8-9\n",
      "67 68\n",
      "RPIn9-10\n",
      "68 69\n",
      "RTeP1-2\n",
      "40 41\n",
      "RTeP2-3\n",
      "41 42\n",
      "RTeP3-4\n",
      "42 43\n",
      "RTeP4-5\n",
      "43 44\n",
      "RTeP5-6\n",
      "44 45\n",
      "RTeP6-7\n",
      "45 46\n",
      "RTeP7-8\n",
      "46 47\n",
      "RTeP8-9\n",
      "47 48\n",
      "RTeP9-10\n",
      "48 49\n",
      "Len channel data: 81\n",
      "Len headers: 81\n"
     ]
    }
   ],
   "source": [
    "if time_stamps.size > 0:\n",
    "    # Here call function\n",
    "    create_EDF(file, time_stamps, elec_pos)"
   ]
  },
  {
   "cell_type": "code",
   "execution_count": 23,
   "metadata": {},
   "outputs": [
    {
     "ename": "NameError",
     "evalue": "name 'edf_out' is not defined",
     "output_type": "error",
     "traceback": [
      "\u001b[0;31m---------------------------------------------------------------------------\u001b[0m",
      "\u001b[0;31mNameError\u001b[0m                                 Traceback (most recent call last)",
      "Cell \u001b[0;32mIn [23], line 1\u001b[0m\n\u001b[0;32m----> 1\u001b[0m \u001b[43medf_out\u001b[49m\u001b[38;5;241m.\u001b[39mclose()\n",
      "\u001b[0;31mNameError\u001b[0m: name 'edf_out' is not defined"
     ]
    }
   ],
   "source": [
    "edf_out.close()"
   ]
  },
  {
   "cell_type": "code",
   "execution_count": 50,
   "metadata": {},
   "outputs": [],
   "source": [
    "f_out.close()"
   ]
  },
  {
   "cell_type": "markdown",
   "metadata": {},
   "source": [
    "## Review results"
   ]
  },
  {
   "cell_type": "code",
   "execution_count": 44,
   "metadata": {},
   "outputs": [],
   "source": [
    "file = \"/home/mcesped/projects/ctb-akhanf/cfmm-bids/Khan/epi_iEEG/ieeg/bids/sub-003/ses-007/ieeg/sub-003_ses-007_task-full_run-02_ieeg.edf\"\n",
    "f = pyedflib.EdfReader(file)"
   ]
  },
  {
   "cell_type": "code",
   "execution_count": 45,
   "metadata": {},
   "outputs": [
    {
     "name": "stdout",
     "output_type": "stream",
     "text": [
      "80 81\n"
     ]
    }
   ],
   "source": [
    "# Checking bipolar channel 1: LAHc1-2\n",
    "labels = f.getSignalLabels()\n",
    "ch1 = labels.index('LAHc1')\n",
    "ch2 = labels.index('LAHc2')\n",
    "print(ch1, ch2)"
   ]
  },
  {
   "cell_type": "code",
   "execution_count": 46,
   "metadata": {},
   "outputs": [],
   "source": [
    "signal_ch1 = f.readSignal(ch1)\n",
    "signal_ch2 = f.readSignal(ch2)"
   ]
  },
  {
   "cell_type": "code",
   "execution_count": 48,
   "metadata": {},
   "outputs": [],
   "source": [
    "N = signal_ch1.shape[0]\n",
    "srate = (f.getSampleFrequencies()[0]/f.datarecord_duration)\n",
    "t = np.arange(0, N)/srate\n",
    "t_init = np.argmin((np.abs(t-time_stamps[0])))\n",
    "t_end = int(np.floor(t_init+240*srate+1)) # 4 min = 240 s\n",
    "epochch1 = signal_ch1[t_init:t_end]\n",
    "epochch2 = signal_ch2[t_init:t_end]"
   ]
  },
  {
   "cell_type": "code",
   "execution_count": 51,
   "metadata": {},
   "outputs": [],
   "source": [
    "epoch_bip = epochch1 - epochch2"
   ]
  },
  {
   "cell_type": "code",
   "execution_count": 49,
   "metadata": {},
   "outputs": [
    {
     "data": {
      "text/plain": [
       "0.125"
      ]
     },
     "execution_count": 49,
     "metadata": {},
     "output_type": "execute_result"
    }
   ],
   "source": [
    "f.datarecord_duration"
   ]
  },
  {
   "cell_type": "code",
   "execution_count": 50,
   "metadata": {},
   "outputs": [
    {
     "data": {
      "text/plain": [
       "240.0009765625"
      ]
     },
     "execution_count": 50,
     "metadata": {},
     "output_type": "execute_result"
    }
   ],
   "source": [
    "t[t_end]-t[t_init]"
   ]
  },
  {
   "cell_type": "code",
   "execution_count": 24,
   "metadata": {},
   "outputs": [
    {
     "data": {
      "text/plain": [
       "9571.0166015625"
      ]
     },
     "execution_count": 24,
     "metadata": {},
     "output_type": "execute_result"
    }
   ],
   "source": [
    "t[t_init]"
   ]
  },
  {
   "cell_type": "code",
   "execution_count": 19,
   "metadata": {},
   "outputs": [
    {
     "data": {
      "text/plain": [
       "array([-189.94459449, -194.19807736, -214.66796368, ...,    0.        ,\n",
       "          0.        ,    0.        ])"
      ]
     },
     "execution_count": 19,
     "metadata": {},
     "output_type": "execute_result"
    }
   ],
   "source": [
    "np.hstack([epoch, np.zeros(int(60*srate), dtype='int')])"
   ]
  },
  {
   "cell_type": "code",
   "execution_count": 52,
   "metadata": {},
   "outputs": [
    {
     "data": {
      "text/plain": [
       "[<matplotlib.lines.Line2D at 0x2ab9b9414070>]"
      ]
     },
     "execution_count": 52,
     "metadata": {},
     "output_type": "execute_result"
    },
    {
     "data": {
      "image/png": "[encoded data removed]",
      "text/plain": [
       "<Figure size 640x480 with 1 Axes>"
      ]
     },
     "metadata": {},
     "output_type": "display_data"
    }
   ],
   "source": [
    "fig, ax = plt.subplots()\n",
    "ax.plot(t[t_init:t_end], epoch_bip)"
   ]
  },
  {
   "cell_type": "code",
   "execution_count": 53,
   "metadata": {},
   "outputs": [],
   "source": [
    "f.close()"
   ]
  },
  {
   "cell_type": "markdown",
   "metadata": {},
   "source": [
    "## Get channels info"
   ]
  },
  {
   "cell_type": "code",
   "execution_count": 8,
   "metadata": {},
   "outputs": [],
   "source": [
    "file2 = \"/scratch/mcesped/HippiEEGAtlas/epochs/results/sub-003/ses-007/ieeg/sub-003_ses-007_task-full_run-02_ieeg_epoch.edf\"\n",
    "f2 = pyedflib.EdfReader(file2)"
   ]
  },
  {
   "cell_type": "code",
   "execution_count": 54,
   "metadata": {},
   "outputs": [],
   "source": [
    "file2 = \"/scratch/mcesped/HippiEEGAtlas/code/DSP/test2.edf\"\n",
    "f2 = pyedflib.EdfReader(file2)"
   ]
  },
  {
   "cell_type": "markdown",
   "metadata": {},
   "source": [
    "**Important: pyedf uses int32 to write the values so you have to read them in this format!**"
   ]
  },
  {
   "cell_type": "code",
   "execution_count": 19,
   "metadata": {},
   "outputs": [
    {
     "data": {
      "text/plain": [
       "['LAHc1-2',\n",
       " 'LAHc2-3',\n",
       " 'LAHc3-4',\n",
       " 'LAHc4-5',\n",
       " 'LAHc5-6',\n",
       " 'LAHc6-7',\n",
       " 'LAHc7-8',\n",
       " 'LAHc8-9',\n",
       " 'LAHc9-10',\n",
       " 'RAHc1-2',\n",
       " 'RAHc2-3',\n",
       " 'RAHc3-4',\n",
       " 'RAHc4-5',\n",
       " 'RAHc5-6',\n",
       " 'RAHc6-7',\n",
       " 'RAHc7-8',\n",
       " 'RAHc8-9',\n",
       " 'RAHc9-10',\n",
       " 'RAIn1-2',\n",
       " 'RAIn2-3',\n",
       " 'RAIn3-4',\n",
       " 'RAIn4-5',\n",
       " 'RAIn5-6',\n",
       " 'RAIn6-7',\n",
       " 'RAIn7-8',\n",
       " 'RAIn8-9',\n",
       " 'RAIn9-10',\n",
       " 'RAm1-2',\n",
       " 'RAm2-3',\n",
       " 'RAm3-4',\n",
       " 'RAm4-5',\n",
       " 'RAm5-6',\n",
       " 'RAm6-7',\n",
       " 'RAm7-8',\n",
       " 'RAm8-9',\n",
       " 'RAm9-10',\n",
       " 'RCeO1-2',\n",
       " 'RCeO2-3',\n",
       " 'RCeO3-4',\n",
       " 'RCeO4-5',\n",
       " 'RCeO5-6',\n",
       " 'RCeO6-7',\n",
       " 'RCeO7-8',\n",
       " 'RCeO8-9',\n",
       " 'RCeO9-10',\n",
       " 'ROFr1-2',\n",
       " 'ROFr2-3',\n",
       " 'ROFr3-4',\n",
       " 'ROFr4-5',\n",
       " 'ROFr5-6',\n",
       " 'ROFr6-7',\n",
       " 'ROFr7-8',\n",
       " 'ROFr8-9',\n",
       " 'ROFr9-10',\n",
       " 'RPHc1-2',\n",
       " 'RPHc2-3',\n",
       " 'RPHc3-4',\n",
       " 'RPHc4-5',\n",
       " 'RPHc5-6',\n",
       " 'RPHc6-7',\n",
       " 'RPHc7-8',\n",
       " 'RPHc8-9',\n",
       " 'RPHc9-10',\n",
       " 'RPIn1-2',\n",
       " 'RPIn2-3',\n",
       " 'RPIn3-4',\n",
       " 'RPIn4-5',\n",
       " 'RPIn5-6',\n",
       " 'RPIn6-7',\n",
       " 'RPIn7-8',\n",
       " 'RPIn8-9',\n",
       " 'RPIn9-10',\n",
       " 'RTeP1-2',\n",
       " 'RTeP2-3',\n",
       " 'RTeP3-4',\n",
       " 'RTeP4-5',\n",
       " 'RTeP5-6',\n",
       " 'RTeP6-7',\n",
       " 'RTeP7-8',\n",
       " 'RTeP8-9',\n",
       " 'RTeP9-10']"
      ]
     },
     "execution_count": 19,
     "metadata": {},
     "output_type": "execute_result"
    }
   ],
   "source": [
    "f2.getSignalLabels()"
   ]
  },
  {
   "cell_type": "code",
   "execution_count": 24,
   "metadata": {},
   "outputs": [
    {
     "data": {
      "text/plain": [
       "{'label': 'ROFr6-7',\n",
       " 'dimension': 'uV',\n",
       " 'sample_rate': 128.0,\n",
       " 'sample_frequency': 128.0,\n",
       " 'physical_max': -8711.0,\n",
       " 'physical_min': 8711.0,\n",
       " 'digital_max': 32767,\n",
       " 'digital_min': -32768,\n",
       " 'prefilter': '',\n",
       " 'transducer': ''}"
      ]
     },
     "execution_count": 24,
     "metadata": {},
     "output_type": "execute_result"
    }
   ],
   "source": [
    "f2.getSignalHeader(50)"
   ]
  },
  {
   "cell_type": "code",
   "execution_count": 9,
   "metadata": {},
   "outputs": [],
   "source": [
    "signal2 = f2.readSignal(0).astype('int32')"
   ]
  },
  {
   "cell_type": "code",
   "execution_count": 10,
   "metadata": {},
   "outputs": [
    {
     "data": {
      "text/plain": [
       "array([17, 18, 16, ...,  0,  0,  0], dtype=int32)"
      ]
     },
     "execution_count": 10,
     "metadata": {},
     "output_type": "execute_result"
    }
   ],
   "source": [
    "signal2"
   ]
  },
  {
   "cell_type": "code",
   "execution_count": 11,
   "metadata": {},
   "outputs": [
    {
     "data": {
      "text/plain": [
       "array([0, 0, 0, 0, 0, 0, 0, 0, 0, 0, 0, 0, 0, 0, 0], dtype=int32)"
      ]
     },
     "execution_count": 11,
     "metadata": {},
     "output_type": "execute_result"
    }
   ],
   "source": [
    "signal2[len(signal2)-15:]"
   ]
  },
  {
   "cell_type": "code",
   "execution_count": 12,
   "metadata": {},
   "outputs": [
    {
     "data": {
      "text/plain": [
       "307328"
      ]
     },
     "execution_count": 12,
     "metadata": {},
     "output_type": "execute_result"
    }
   ],
   "source": [
    "len(signal2)"
   ]
  },
  {
   "cell_type": "code",
   "execution_count": 13,
   "metadata": {},
   "outputs": [
    {
     "data": {
      "text/plain": [
       "81"
      ]
     },
     "execution_count": 13,
     "metadata": {},
     "output_type": "execute_result"
    }
   ],
   "source": [
    "len(f2.getSignalHeaders())"
   ]
  },
  {
   "cell_type": "code",
   "execution_count": 14,
   "metadata": {},
   "outputs": [
    {
     "data": {
      "text/html": [
       "<div>\n",
       "<style scoped>\n",
       "    .dataframe tbody tr th:only-of-type {\n",
       "        vertical-align: middle;\n",
       "    }\n",
       "\n",
       "    .dataframe tbody tr th {\n",
       "        vertical-align: top;\n",
       "    }\n",
       "\n",
       "    .dataframe thead th {\n",
       "        text-align: right;\n",
       "    }\n",
       "</style>\n",
       "<table border=\"1\" class=\"dataframe\">\n",
       "  <thead>\n",
       "    <tr style=\"text-align: right;\">\n",
       "      <th></th>\n",
       "      <th>Onset</th>\n",
       "      <th>Duration</th>\n",
       "      <th>event</th>\n",
       "    </tr>\n",
       "  </thead>\n",
       "  <tbody>\n",
       "    <tr>\n",
       "      <th>0</th>\n",
       "      <td>-0.00003</td>\n",
       "      <td>-1.0</td>\n",
       "      <td>Recording starts</td>\n",
       "    </tr>\n",
       "    <tr>\n",
       "      <th>1</th>\n",
       "      <td>-0.00003</td>\n",
       "      <td>-1.0</td>\n",
       "      <td>Epoch #1 starts.</td>\n",
       "    </tr>\n",
       "    <tr>\n",
       "      <th>2</th>\n",
       "      <td>240.00097</td>\n",
       "      <td>-1.0</td>\n",
       "      <td>Epoch #1 ends.</td>\n",
       "    </tr>\n",
       "  </tbody>\n",
       "</table>\n",
       "</div>"
      ],
      "text/plain": [
       "       Onset  Duration             event\n",
       "0   -0.00003      -1.0  Recording starts\n",
       "1   -0.00003      -1.0  Epoch #1 starts.\n",
       "2  240.00097      -1.0    Epoch #1 ends."
      ]
     },
     "execution_count": 14,
     "metadata": {},
     "output_type": "execute_result"
    }
   ],
   "source": [
    "annot2 = f2.readAnnotations()\n",
    "annot2 = {\n",
    "    'Onset': annot2[0],\n",
    "    'Duration': annot2[1],\n",
    "    'event': annot2[2]\n",
    "}\n",
    "annot2 = pd.DataFrame(annot2)\n",
    "annot2.head()"
   ]
  },
  {
   "cell_type": "code",
   "execution_count": 15,
   "metadata": {},
   "outputs": [],
   "source": [
    "N = signal2.shape[0]\n",
    "srate2 = (f2.getSampleFrequencies()[0]/f2.datarecord_duration)\n",
    "t = np.arange(0, N)/srate2\n",
    "t_test = np.argmin((np.abs(t-annot2.Onset.to_numpy()[2])))"
   ]
  },
  {
   "cell_type": "code",
   "execution_count": 16,
   "metadata": {},
   "outputs": [
    {
     "data": {
      "text/plain": [
       "0.125"
      ]
     },
     "execution_count": 16,
     "metadata": {},
     "output_type": "execute_result"
    }
   ],
   "source": [
    "f2.datarecord_duration"
   ]
  },
  {
   "cell_type": "code",
   "execution_count": 17,
   "metadata": {},
   "outputs": [
    {
     "data": {
      "text/plain": [
       "245761"
      ]
     },
     "execution_count": 17,
     "metadata": {},
     "output_type": "execute_result"
    }
   ],
   "source": [
    "t_test"
   ]
  },
  {
   "cell_type": "code",
   "execution_count": 18,
   "metadata": {},
   "outputs": [
    {
     "data": {
      "text/plain": [
       "[<matplotlib.lines.Line2D at 0x2b3f45e68b20>]"
      ]
     },
     "execution_count": 18,
     "metadata": {},
     "output_type": "execute_result"
    },
    {
     "data": {
      "image/png": "[encoded data removed]",
      "text/plain": [
       "<Figure size 800x600 with 1 Axes>"
      ]
     },
     "metadata": {},
     "output_type": "display_data"
    }
   ],
   "source": [
    "fig, ax = plt.subplots(figsize=(8,6))\n",
    "ax.plot(t,signal2)\n",
    "ax.plot([t[t_test], t[t_test]], [-400,300], 'r')"
   ]
  },
  {
   "cell_type": "code",
   "execution_count": 25,
   "metadata": {},
   "outputs": [],
   "source": [
    "f2.close()"
   ]
  },
  {
   "cell_type": "markdown",
   "metadata": {},
   "source": [
    "## Extract edf files from path"
   ]
  },
  {
   "cell_type": "code",
   "execution_count": 5,
   "metadata": {},
   "outputs": [],
   "source": [
    "import os, fnmatch\n",
    "import re\n",
    "def find(pattern, path):\n",
    "    result = []\n",
    "    for root, dirs, files in os.walk(path):\n",
    "        for name in files:\n",
    "            if fnmatch.fnmatch(name, pattern):\n",
    "                result.append(os.path.join(root, name))\n",
    "    return result"
   ]
  },
  {
   "cell_type": "code",
   "execution_count": 2,
   "metadata": {},
   "outputs": [],
   "source": [
    "list_paths = find(\"*ieeg.edf\",\"/home/mcesped/projects/ctb-akhanf/cfmm-bids/Khan/epi_iEEG/ieeg/bids/sub-002/\")"
   ]
  },
  {
   "cell_type": "code",
   "execution_count": 4,
   "metadata": {},
   "outputs": [
    {
     "data": {
      "text/plain": [
       "'/home/mcesped/projects/ctb-akhanf/cfmm-bids/Khan/epi_iEEG/ieeg/bids/sub-002/ses-003/ieeg/sub-002_ses-003_task-full_run-04_ieeg.edf'"
      ]
     },
     "execution_count": 4,
     "metadata": {},
     "output_type": "execute_result"
    }
   ],
   "source": [
    "list_paths[0]"
   ]
  },
  {
   "cell_type": "code",
   "execution_count": 43,
   "metadata": {},
   "outputs": [],
   "source": [
    "pattern = r'sub-\\d{3}_ses-\\d{3}_task-(.+)_run-\\d{2}_ieeg'"
   ]
  },
  {
   "cell_type": "code",
   "execution_count": 44,
   "metadata": {},
   "outputs": [
    {
     "name": "stdout",
     "output_type": "stream",
     "text": [
      "sub-002_ses-003_task-full_run-04_ieeg\n"
     ]
    }
   ],
   "source": [
    "caca= re.search(pattern=pattern, string=list_paths[0]).group()\n",
    "print(caca)"
   ]
  }
 ],
 "metadata": {
  "kernelspec": {
   "display_name": "Python 3 (ipykernel)",
   "language": "python",
   "name": "python3"
  },
  "language_info": {
   "codemirror_mode": {
    "name": "ipython",
    "version": 3
   },
   "file_extension": ".py",
   "mimetype": "text/x-python",
   "name": "python",
   "nbconvert_exporter": "python",
   "pygments_lexer": "ipython3",
   "version": "3.8.10"
  }
 },
 "nbformat": 4,
 "nbformat_minor": 4
}
