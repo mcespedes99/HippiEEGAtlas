{
 "cells": [
  {
   "cell_type": "code",
   "execution_count": 1,
   "metadata": {},
   "outputs": [],
   "source": [
    "import mne\n",
    "import nibabel as nb\n",
    "import numpy as np\n",
    "import pandas as pd\n",
    "import matplotlib.pyplot as plt\n",
    "from functools import partial\n",
    "import re"
   ]
  },
  {
   "cell_type": "code",
   "execution_count": 2,
   "metadata": {},
   "outputs": [],
   "source": [
    "def readRegMatrix(trsfPath):\n",
    "\twith open(trsfPath) as (f):\n",
    "\t\treturn np.loadtxt(f.readlines())"
   ]
  },
  {
   "cell_type": "code",
   "execution_count": 61,
   "metadata": {},
   "outputs": [],
   "source": [
    "\n",
    "def imshow_mri(data, img, vox, suptitle, cmap='gray', vmin=None, vmax=None):\n",
    "    \"\"\"Show an MRI slice with a voxel annotated.\"\"\"\n",
    "    i, j, k = vox\n",
    "    fig, ax = plt.subplots()\n",
    "    codes = nb.orientations.aff2axcodes(img.affine)\n",
    "    # Figure out the title based on the code of this axis\n",
    "    ori_slice = dict(P='Coronal', A='Coronal',\n",
    "                     I='Axial', S='Axial',\n",
    "                     L='Sagittal', R='Saggital')\n",
    "    ori_names = dict(P='posterior', A='anterior',\n",
    "                     I='inferior', S='superior',\n",
    "                     L='left', R='right')\n",
    "    title = ori_slice[codes[0]]\n",
    "    scale = np.max(data.shape[2]/data.shape[1])\n",
    "    ax.imshow(data[i], cmap=cmap, origin='lower', aspect=scale*0.8, vmin=vmin, vmax=vmax)\n",
    "    # reorient view so that RAS is always rightward and upward\n",
    "    x_order = -1 if codes[2] in 'LIP' else 1\n",
    "    y_order = -1 if codes[1] in 'LIP' else 1\n",
    "    ax.set(xlim=[0, data.shape[2] - 1][::x_order],\n",
    "           ylim=[0, data.shape[1] - 1][::y_order],\n",
    "           xlabel=f'k ({ori_names[codes[2]]}+)',\n",
    "           ylabel=f'j ({ori_names[codes[1]]}+)',\n",
    "           title=f'{title} view: i={i} ({ori_names[codes[0]]}+)')\n",
    "    fig.suptitle(suptitle)\n",
    "    fig.subplots_adjust(0.1, 0.1, 0.95, 0.85)\n",
    "    return fig\n",
    "\n"
   ]
  },
  {
   "cell_type": "code",
   "execution_count": 58,
   "metadata": {},
   "outputs": [],
   "source": [
    "\n",
    "def imshow_label_map(data, img, vox, suptitle, cmap='gray', vmin=None, vmax=None):\n",
    "    \"\"\"Show an MRI slice with a voxel annotated.\"\"\"\n",
    "    i, j, k = vox\n",
    "    fig, ax = plt.subplots()\n",
    "    codes = nb.orientations.aff2axcodes(img.affine)\n",
    "    # Figure out the title based on the code of this axis\n",
    "    ori_slice = dict(P='Coronal', A='Coronal',\n",
    "                     I='Axial', S='Axial',\n",
    "                     L='Sagittal', R='Saggital')\n",
    "    ori_names = dict(P='posterior', A='anterior',\n",
    "                     I='inferior', S='superior',\n",
    "                     L='left', R='right')\n",
    "    title = ori_slice[codes[0]]\n",
    "    scale = np.max(data.shape[2]/data.shape[1])\n",
    "    ax.imshow(data[i,:,:,:], cmap=cmap, origin='lower', aspect=scale*0.8, vmin=vmin, vmax=vmax)\n",
    "    # reorient view so that RAS is always rightward and upward\n",
    "    x_order = -1 if codes[2] in 'LIP' else 1\n",
    "    y_order = -1 if codes[1] in 'LIP' else 1\n",
    "    ax.set(xlim=[0, data.shape[2] - 1][::x_order],\n",
    "           ylim=[0, data.shape[1] - 1][::y_order],\n",
    "           xlabel=f'k ({ori_names[codes[2]]}+)',\n",
    "           ylabel=f'j ({ori_names[codes[1]]}+)',\n",
    "           title=f'{title} view: i={i} ({ori_names[codes[0]]}+)')\n",
    "    fig.suptitle(suptitle)\n",
    "    fig.subplots_adjust(0.1, 0.1, 0.95, 0.85)\n",
    "    return fig\n",
    "\n"
   ]
  },
  {
   "cell_type": "code",
   "execution_count": 111,
   "metadata": {},
   "outputs": [],
   "source": [
    "def get_colors_labels():\n",
    "    with open('scratch/HippiEEGAtlas/FreeSurferColorLUT.txt', 'r') as f:\n",
    "        raw_lut = f.readlines()\n",
    "\n",
    "    # read and process line by line\n",
    "    label_map = pd.DataFrame(columns=['Label', 'R', 'G', 'B'])\n",
    "    for line in raw_lut:\n",
    "        # Remove empty spaces\n",
    "        line = line.strip()\n",
    "        if not (line.startswith('#') or not line):\n",
    "            s = line.split()\n",
    "            # info = list(filter(None, info))\n",
    "            id = int(s[0])\n",
    "            info_s = {\n",
    "                'Label': s[1],\n",
    "                'R': int(s[2]),\n",
    "                'G': int(s[3]),\n",
    "                'B': int(s[4])\n",
    "            }\n",
    "            # info_s['A'] = 0 if (info_s['R']==0 & info_s['G']==0 & info_s['B']==0) else 255\n",
    "            info_s = pd.DataFrame(info_s, index=[id])\n",
    "            label_map = pd.concat([label_map,info_s], axis=0)\n",
    "        label_map[['R','G','B']] = label_map[['R','G','B']].astype('int64')\n",
    "    return label_map"
   ]
  },
  {
   "cell_type": "code",
   "execution_count": 110,
   "metadata": {},
   "outputs": [],
   "source": [
    "def get_rgba_img(img, label_map):\n",
    "    id = img.ravel()\n",
    "    vals = label_map.loc[id, ['R', 'G', 'B']].to_numpy()\n",
    "    print(vals.shape)\n",
    "    vals = vals.reshape((img.shape[0], img.shape[1], img.shape[2], 3))\n",
    "    return vals"
   ]
  },
  {
   "cell_type": "markdown",
   "metadata": {},
   "source": [
    "## Code"
   ]
  },
  {
   "cell_type": "code",
   "execution_count": 6,
   "metadata": {},
   "outputs": [],
   "source": [
    "# Load parcellation file\n",
    "parc_obj = nb.load('projects/ctb-akhanf/cfmm-bids/Khan/clinical_imaging/epi_iEEG/derivatives/fastsurfer/sub-P076/mri/aparc+aseg.orig.mgz')\n",
    "Torig_parc = parc_obj.header.get_vox2ras_tkr()\n",
    "fs_transform_parc = np.dot(parc_obj.affine, np.linalg.inv(Torig_parc)) # To go from fs ras to mri ras"
   ]
  },
  {
   "cell_type": "code",
   "execution_count": 7,
   "metadata": {},
   "outputs": [
    {
     "data": {
      "text/plain": [
       "(256, 256, 256)"
      ]
     },
     "execution_count": 7,
     "metadata": {},
     "output_type": "execute_result"
    }
   ],
   "source": [
    "data_parc = np.asarray(parc_obj.dataobj)\n",
    "data_parc.shape"
   ]
  },
  {
   "cell_type": "code",
   "execution_count": 8,
   "metadata": {},
   "outputs": [],
   "source": [
    "# Load electrodes position\n",
    "elec_df = pd.read_csv('projects/ctb-akhanf/cfmm-bids/Khan/clinical_imaging/epi_iEEG/derivatives/seega_coordinates/sub-P076/sub-P076_space-native_SEEGA.tsv', sep='\\t')"
   ]
  },
  {
   "cell_type": "code",
   "execution_count": 9,
   "metadata": {},
   "outputs": [
    {
     "data": {
      "text/plain": [
       "array([-48.369,  25.969,  -4.013])"
      ]
     },
     "execution_count": 9,
     "metadata": {},
     "output_type": "execute_result"
    }
   ],
   "source": [
    "mri_ras_mm = elec_df.loc[elec_df.label=='LAHc7', ['x', 'y', 'z']].to_numpy()[0]\n",
    "mri_ras_mm # Electrode position in contrast space!!"
   ]
  },
  {
   "cell_type": "code",
   "execution_count": 10,
   "metadata": {},
   "outputs": [
    {
     "data": {
      "text/plain": [
       "array([-46.96182096,  64.30931775,  10.30883635])"
      ]
     },
     "execution_count": 10,
     "metadata": {},
     "output_type": "execute_result"
    }
   ],
   "source": [
    "# The transform file goes from contrast to non-contrast. The tfm, when loaded in slicer actually goes\n",
    "# from non-contrast to contrast but the txt is inversed!\n",
    "t1_transform=readRegMatrix('projects/ctb-akhanf/cfmm-bids/Khan/clinical_imaging/epi_iEEG/derivatives/atlasreg/sub-P076/sub-P076_acq-noncontrast_desc-rigid_from-noncontrast_to-contrast_type-ras_xfm.txt')\n",
    "# Transform from contrast mri ras to non-contrast MRI ras\n",
    "mri_ras_mm = mne.transforms.apply_trans(t1_transform, mri_ras_mm)\n",
    "mri_ras_mm"
   ]
  },
  {
   "cell_type": "code",
   "execution_count": 11,
   "metadata": {},
   "outputs": [
    {
     "data": {
      "text/plain": [
       "array([174, 152, 133])"
      ]
     },
     "execution_count": 11,
     "metadata": {},
     "output_type": "execute_result"
    }
   ],
   "source": [
    "inv_affine = np.linalg.inv(parc_obj.affine)\n",
    "# here's where the interpolation should be performed!!\n",
    "vox = np.round(mne.transforms.apply_trans(inv_affine, mri_ras_mm)).astype(int)\n",
    "vox"
   ]
  },
  {
   "cell_type": "code",
   "execution_count": 113,
   "metadata": {},
   "outputs": [],
   "source": [
    "# Load labels from LUT file\n",
    "labels = get_colors_labels()"
   ]
  },
  {
   "cell_type": "code",
   "execution_count": 114,
   "metadata": {},
   "outputs": [
    {
     "data": {
      "text/html": [
       "<div>\n",
       "<style scoped>\n",
       "    .dataframe tbody tr th:only-of-type {\n",
       "        vertical-align: middle;\n",
       "    }\n",
       "\n",
       "    .dataframe tbody tr th {\n",
       "        vertical-align: top;\n",
       "    }\n",
       "\n",
       "    .dataframe thead th {\n",
       "        text-align: right;\n",
       "    }\n",
       "</style>\n",
       "<table border=\"1\" class=\"dataframe\">\n",
       "  <thead>\n",
       "    <tr style=\"text-align: right;\">\n",
       "      <th></th>\n",
       "      <th>Label</th>\n",
       "      <th>R</th>\n",
       "      <th>G</th>\n",
       "      <th>B</th>\n",
       "    </tr>\n",
       "  </thead>\n",
       "  <tbody>\n",
       "    <tr>\n",
       "      <th>0</th>\n",
       "      <td>Unknown</td>\n",
       "      <td>0</td>\n",
       "      <td>0</td>\n",
       "      <td>0</td>\n",
       "    </tr>\n",
       "    <tr>\n",
       "      <th>1</th>\n",
       "      <td>Left-Cerebral-Exterior</td>\n",
       "      <td>70</td>\n",
       "      <td>130</td>\n",
       "      <td>180</td>\n",
       "    </tr>\n",
       "    <tr>\n",
       "      <th>2</th>\n",
       "      <td>Left-Cerebral-White-Matter</td>\n",
       "      <td>245</td>\n",
       "      <td>245</td>\n",
       "      <td>245</td>\n",
       "    </tr>\n",
       "    <tr>\n",
       "      <th>3</th>\n",
       "      <td>Left-Cerebral-Cortex</td>\n",
       "      <td>205</td>\n",
       "      <td>62</td>\n",
       "      <td>78</td>\n",
       "    </tr>\n",
       "    <tr>\n",
       "      <th>4</th>\n",
       "      <td>Left-Lateral-Ventricle</td>\n",
       "      <td>120</td>\n",
       "      <td>18</td>\n",
       "      <td>134</td>\n",
       "    </tr>\n",
       "  </tbody>\n",
       "</table>\n",
       "</div>"
      ],
      "text/plain": [
       "                        Label    R    G    B\n",
       "0                     Unknown    0    0    0\n",
       "1      Left-Cerebral-Exterior   70  130  180\n",
       "2  Left-Cerebral-White-Matter  245  245  245\n",
       "3        Left-Cerebral-Cortex  205   62   78\n",
       "4      Left-Lateral-Ventricle  120   18  134"
      ]
     },
     "execution_count": 114,
     "metadata": {},
     "output_type": "execute_result"
    }
   ],
   "source": [
    "labels.head()"
   ]
  },
  {
   "cell_type": "code",
   "execution_count": 115,
   "metadata": {},
   "outputs": [
    {
     "name": "stdout",
     "output_type": "stream",
     "text": [
      "<class 'pandas.core.frame.DataFrame'>\n",
      "Int64Index: 1292 entries, 0 to 14175\n",
      "Data columns (total 4 columns):\n",
      " #   Column  Non-Null Count  Dtype \n",
      "---  ------  --------------  ----- \n",
      " 0   Label   1292 non-null   object\n",
      " 1   R       1292 non-null   int64 \n",
      " 2   G       1292 non-null   int64 \n",
      " 3   B       1292 non-null   int64 \n",
      "dtypes: int64(3), object(1)\n",
      "memory usage: 50.5+ KB\n"
     ]
    }
   ],
   "source": [
    "labels.info()"
   ]
  },
  {
   "cell_type": "code",
   "execution_count": 116,
   "metadata": {},
   "outputs": [
    {
     "name": "stdout",
     "output_type": "stream",
     "text": [
      "(16777216, 3)\n"
     ]
    }
   ],
   "source": [
    "data_label = get_rgba_img(data_parc, labels)"
   ]
  },
  {
   "cell_type": "code",
   "execution_count": 117,
   "metadata": {},
   "outputs": [
    {
     "data": {
      "text/plain": [
       "1008"
      ]
     },
     "execution_count": 117,
     "metadata": {},
     "output_type": "execute_result"
    }
   ],
   "source": [
    "# Corroborate that it's working well.\n",
    "data_parc[vox[0],100,70]"
   ]
  },
  {
   "cell_type": "code",
   "execution_count": 125,
   "metadata": {},
   "outputs": [
    {
     "data": {
      "text/plain": [
       "array([245, 245, 245])"
      ]
     },
     "execution_count": 125,
     "metadata": {},
     "output_type": "execute_result"
    }
   ],
   "source": [
    "data_label[vox[0],vox[1],vox[2],:]"
   ]
  },
  {
   "cell_type": "code",
   "execution_count": 118,
   "metadata": {},
   "outputs": [
    {
     "data": {
      "text/plain": [
       "<matplotlib.collections.PathCollection at 0x2b735dfc0ee0>"
      ]
     },
     "execution_count": 118,
     "metadata": {},
     "output_type": "execute_result"
    },
    {
     "data": {
      "image/png": "[encoded data removed]",
      "text/plain": [
       "<Figure size 640x480 with 1 Axes>"
      ]
     },
     "metadata": {},
     "output_type": "display_data"
    }
   ],
   "source": [
    "fig = imshow_label_map(data_label, parc_obj, vox, 'MRI slice', cmap='viridis')\n",
    "fig.axes[0].scatter(vox[2], vox[1])"
   ]
  },
  {
   "cell_type": "code",
   "execution_count": 124,
   "metadata": {},
   "outputs": [
    {
     "data": {
      "text/plain": [
       "<matplotlib.collections.PathCollection at 0x2b735e0fbc70>"
      ]
     },
     "execution_count": 124,
     "metadata": {},
     "output_type": "execute_result"
    },
    {
     "data": {
      "image/png": "[encoded data removed]",
      "text/plain": [
       "<Figure size 640x480 with 1 Axes>"
      ]
     },
     "metadata": {},
     "output_type": "display_data"
    }
   ],
   "source": [
    "fig = imshow_mri(data_parc, parc_obj, vox, 'MRI slice', cmap='viridis', vmin=0, vmax=5)\n",
    "fig.axes[0].scatter(vox[2], vox[1])"
   ]
  }
 ],
 "metadata": {
  "kernelspec": {
   "display_name": "Python 3 (ipykernel)",
   "language": "python",
   "name": "python3"
  },
  "language_info": {
   "codemirror_mode": {
    "name": "ipython",
    "version": 3
   },
   "file_extension": ".py",
   "mimetype": "text/x-python",
   "name": "python",
   "nbconvert_exporter": "python",
   "pygments_lexer": "ipython3",
   "version": "3.8.10"
  },
  "vscode": {
   "interpreter": {
    "hash": "7ebba22d4926039ff239339cf567af8b303e0a244d82717597cfd7af2af74d26"
   }
  }
 },
 "nbformat": 4,
 "nbformat_minor": 4
}
