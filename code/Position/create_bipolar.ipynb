{
 "cells": [
  {
   "cell_type": "code",
   "execution_count": 1,
   "metadata": {},
   "outputs": [],
   "source": [
    "import mne\n",
    "import nibabel as nb\n",
    "import numpy as np\n",
    "import pandas as pd\n",
    "import matplotlib.pyplot as plt\n",
    "import re"
   ]
  },
  {
   "cell_type": "code",
   "execution_count": 2,
   "metadata": {},
   "outputs": [],
   "source": [
    "elec_pos = pd.read_csv('~/projects/ctb-akhanf/cfmm-bids/Khan/clinical_imaging/epi_iEEG/derivatives/seega_coordinates/sub-P076/sub-P076_space-native_SEEGA.tsv', sep='\\t')"
   ]
  },
  {
   "cell_type": "code",
   "execution_count": 3,
   "metadata": {},
   "outputs": [
    {
     "data": {
      "text/html": [
       "<div>\n",
       "<style scoped>\n",
       "    .dataframe tbody tr th:only-of-type {\n",
       "        vertical-align: middle;\n",
       "    }\n",
       "\n",
       "    .dataframe tbody tr th {\n",
       "        vertical-align: top;\n",
       "    }\n",
       "\n",
       "    .dataframe thead th {\n",
       "        text-align: right;\n",
       "    }\n",
       "</style>\n",
       "<table border=\"1\" class=\"dataframe\">\n",
       "  <thead>\n",
       "    <tr style=\"text-align: right;\">\n",
       "      <th></th>\n",
       "      <th>type</th>\n",
       "      <th>label</th>\n",
       "      <th>x</th>\n",
       "      <th>y</th>\n",
       "      <th>z</th>\n",
       "      <th>orig_group</th>\n",
       "      <th>new_label</th>\n",
       "      <th>new_group</th>\n",
       "    </tr>\n",
       "  </thead>\n",
       "  <tbody>\n",
       "    <tr>\n",
       "      <th>0</th>\n",
       "      <td>SEEGA</td>\n",
       "      <td>LACg1</td>\n",
       "      <td>-5.680</td>\n",
       "      <td>62.715</td>\n",
       "      <td>19.892</td>\n",
       "      <td>LACg</td>\n",
       "      <td>LACg1</td>\n",
       "      <td>LACg</td>\n",
       "    </tr>\n",
       "    <tr>\n",
       "      <th>1</th>\n",
       "      <td>SEEGA</td>\n",
       "      <td>LACg2</td>\n",
       "      <td>-10.684</td>\n",
       "      <td>63.100</td>\n",
       "      <td>19.846</td>\n",
       "      <td>LACg</td>\n",
       "      <td>LACg2</td>\n",
       "      <td>LACg</td>\n",
       "    </tr>\n",
       "    <tr>\n",
       "      <th>2</th>\n",
       "      <td>SEEGA</td>\n",
       "      <td>LACg3</td>\n",
       "      <td>-15.313</td>\n",
       "      <td>63.549</td>\n",
       "      <td>19.846</td>\n",
       "      <td>LACg</td>\n",
       "      <td>LACg3</td>\n",
       "      <td>LACg</td>\n",
       "    </tr>\n",
       "    <tr>\n",
       "      <th>3</th>\n",
       "      <td>SEEGA</td>\n",
       "      <td>LACg4</td>\n",
       "      <td>-20.321</td>\n",
       "      <td>63.567</td>\n",
       "      <td>19.207</td>\n",
       "      <td>LACg</td>\n",
       "      <td>LACg4</td>\n",
       "      <td>LACg</td>\n",
       "    </tr>\n",
       "    <tr>\n",
       "      <th>4</th>\n",
       "      <td>SEEGA</td>\n",
       "      <td>LACg5</td>\n",
       "      <td>-25.330</td>\n",
       "      <td>63.843</td>\n",
       "      <td>19.207</td>\n",
       "      <td>LACg</td>\n",
       "      <td>LACg5</td>\n",
       "      <td>LACg</td>\n",
       "    </tr>\n",
       "  </tbody>\n",
       "</table>\n",
       "</div>"
      ],
      "text/plain": [
       "    type  label       x       y       z orig_group new_label new_group\n",
       "0  SEEGA  LACg1  -5.680  62.715  19.892       LACg     LACg1      LACg\n",
       "1  SEEGA  LACg2 -10.684  63.100  19.846       LACg     LACg2      LACg\n",
       "2  SEEGA  LACg3 -15.313  63.549  19.846       LACg     LACg3      LACg\n",
       "3  SEEGA  LACg4 -20.321  63.567  19.207       LACg     LACg4      LACg\n",
       "4  SEEGA  LACg5 -25.330  63.843  19.207       LACg     LACg5      LACg"
      ]
     },
     "execution_count": 3,
     "metadata": {},
     "output_type": "execute_result"
    }
   ],
   "source": [
    "elec_pos.head()"
   ]
  },
  {
   "cell_type": "code",
   "execution_count": 4,
   "metadata": {},
   "outputs": [
    {
     "name": "stdout",
     "output_type": "stream",
     "text": [
      "LACg1\n",
      "LACg\n",
      "1\n"
     ]
    }
   ],
   "source": [
    "pattern = r'([A-Z]+)(\\d+)'\n",
    "match = re.match(pattern, 'LACg1', re.IGNORECASE)\n",
    "print(match.group(0))\n",
    "print(match.group(1))\n",
    "print(match.group(2))"
   ]
  },
  {
   "cell_type": "code",
   "execution_count": 5,
   "metadata": {},
   "outputs": [],
   "source": [
    "channels = dict((label,[]) for label in elec_pos.new_group.unique())"
   ]
  },
  {
   "cell_type": "code",
   "execution_count": 6,
   "metadata": {},
   "outputs": [],
   "source": [
    "pattern = r'([A-Z]+)(\\d+)'\n",
    "for id,electrode in enumerate(elec_pos.new_label.values):\n",
    "    match = re.match(pattern, electrode, re.IGNORECASE)\n",
    "    channels[match.group(1)].append(match.group(2))"
   ]
  },
  {
   "cell_type": "code",
   "execution_count": 7,
   "metadata": {},
   "outputs": [
    {
     "data": {
      "text/plain": [
       "{'LACg': ['1', '2', '3', '4', '5', '6', '7', '8', '9', '10'],\n",
       " 'LAHc': ['1', '2', '3', '4', '5', '6', '7', '8', '9', '10'],\n",
       " 'LAIn': ['1', '2', '3', '4', '5', '6', '7', '8', '9', '10'],\n",
       " 'LAm': ['1', '2', '3', '4', '5', '6', '7', '8', '9', '10'],\n",
       " 'LFrO': ['1', '2', '3', '4', '5', '6', '7', '8', '9', '10'],\n",
       " 'LOF': ['1', '2', '3', '4', '5', '6', '7', '8', '9', '10'],\n",
       " 'LPHc': ['1', '2', '3', '4', '5', '6', '7', '8'],\n",
       " 'LPIn': ['1', '2', '3', '4', '5', '6', '7', '8', '9', '10'],\n",
       " 'RPHc': ['1', '2', '3', '4', '5', '6', '7', '8', '9', '10']}"
      ]
     },
     "execution_count": 7,
     "metadata": {},
     "output_type": "execute_result"
    }
   ],
   "source": [
    "channels"
   ]
  },
  {
   "cell_type": "code",
   "execution_count": 8,
   "metadata": {},
   "outputs": [],
   "source": [
    "bipolar_chn = dict((label,[]) for label in elec_pos.new_group.unique())\n",
    "for key in  channels.keys():\n",
    "    for id in range(len(channels[key])-1):\n",
    "        bipolar_chn[key].append((channels[key][id], channels[key][id+1]))"
   ]
  },
  {
   "cell_type": "markdown",
   "metadata": {},
   "source": [
    "# Create new tsv"
   ]
  },
  {
   "cell_type": "code",
   "execution_count": 36,
   "metadata": {},
   "outputs": [],
   "source": [
    "bipolar_elec = pd.DataFrame(columns=np.concatenate((elec_pos.columns[0:5],['group'])))\n",
    "for key in  channels.keys():\n",
    "    for id in range(len(channels[key])-1):\n",
    "        chn1 = key+channels[key][id]\n",
    "        chn2 = key+channels[key][id+1]\n",
    "        # print(chn1)\n",
    "        inf_chn1 = elec_pos.loc[elec_pos.new_label == chn1]\n",
    "        inf_chn2 = elec_pos.loc[elec_pos.new_label == chn2]\n",
    "        data = {\n",
    "            'type': inf_chn1.type.values[0],\n",
    "            'group': inf_chn1.new_group.values[0],\n",
    "            'label': key+channels[key][id]+'-'+channels[key][id+1],\n",
    "            'x': (inf_chn1.x.values[0] + inf_chn2.x.values[0])/2,\n",
    "            'y': (inf_chn1.y.values[0] + inf_chn2.y.values[0])/2,\n",
    "            'z': (inf_chn1.z.values[0] + inf_chn2.z.values[0])/2\n",
    "        }\n",
    "        data = pd.DataFrame([data])\n",
    "        bipolar_elec = pd.concat([bipolar_elec, data], ignore_index=True)"
   ]
  },
  {
   "cell_type": "code",
   "execution_count": 37,
   "metadata": {},
   "outputs": [
    {
     "data": {
      "text/html": [
       "<div>\n",
       "<style scoped>\n",
       "    .dataframe tbody tr th:only-of-type {\n",
       "        vertical-align: middle;\n",
       "    }\n",
       "\n",
       "    .dataframe tbody tr th {\n",
       "        vertical-align: top;\n",
       "    }\n",
       "\n",
       "    .dataframe thead th {\n",
       "        text-align: right;\n",
       "    }\n",
       "</style>\n",
       "<table border=\"1\" class=\"dataframe\">\n",
       "  <thead>\n",
       "    <tr style=\"text-align: right;\">\n",
       "      <th></th>\n",
       "      <th>type</th>\n",
       "      <th>label</th>\n",
       "      <th>x</th>\n",
       "      <th>y</th>\n",
       "      <th>z</th>\n",
       "      <th>group</th>\n",
       "    </tr>\n",
       "  </thead>\n",
       "  <tbody>\n",
       "    <tr>\n",
       "      <th>0</th>\n",
       "      <td>SEEGA</td>\n",
       "      <td>LACg1-2</td>\n",
       "      <td>-8.1820</td>\n",
       "      <td>62.9075</td>\n",
       "      <td>19.8690</td>\n",
       "      <td>LACg</td>\n",
       "    </tr>\n",
       "    <tr>\n",
       "      <th>1</th>\n",
       "      <td>SEEGA</td>\n",
       "      <td>LACg2-3</td>\n",
       "      <td>-12.9985</td>\n",
       "      <td>63.3245</td>\n",
       "      <td>19.8460</td>\n",
       "      <td>LACg</td>\n",
       "    </tr>\n",
       "    <tr>\n",
       "      <th>2</th>\n",
       "      <td>SEEGA</td>\n",
       "      <td>LACg3-4</td>\n",
       "      <td>-17.8170</td>\n",
       "      <td>63.5580</td>\n",
       "      <td>19.5265</td>\n",
       "      <td>LACg</td>\n",
       "    </tr>\n",
       "    <tr>\n",
       "      <th>3</th>\n",
       "      <td>SEEGA</td>\n",
       "      <td>LACg4-5</td>\n",
       "      <td>-22.8255</td>\n",
       "      <td>63.7050</td>\n",
       "      <td>19.2070</td>\n",
       "      <td>LACg</td>\n",
       "    </tr>\n",
       "    <tr>\n",
       "      <th>4</th>\n",
       "      <td>SEEGA</td>\n",
       "      <td>LACg5-6</td>\n",
       "      <td>-27.7565</td>\n",
       "      <td>63.9465</td>\n",
       "      <td>19.0945</td>\n",
       "      <td>LACg</td>\n",
       "    </tr>\n",
       "  </tbody>\n",
       "</table>\n",
       "</div>"
      ],
      "text/plain": [
       "    type    label        x        y        z group\n",
       "0  SEEGA  LACg1-2  -8.1820  62.9075  19.8690  LACg\n",
       "1  SEEGA  LACg2-3 -12.9985  63.3245  19.8460  LACg\n",
       "2  SEEGA  LACg3-4 -17.8170  63.5580  19.5265  LACg\n",
       "3  SEEGA  LACg4-5 -22.8255  63.7050  19.2070  LACg\n",
       "4  SEEGA  LACg5-6 -27.7565  63.9465  19.0945  LACg"
      ]
     },
     "execution_count": 37,
     "metadata": {},
     "output_type": "execute_result"
    }
   ],
   "source": [
    "bipolar_elec.head()"
   ]
  },
  {
   "cell_type": "code",
   "execution_count": 38,
   "metadata": {},
   "outputs": [
    {
     "data": {
      "text/plain": [
       "array(['LACg1-2', 'LACg2-3', 'LACg3-4', 'LACg4-5', 'LACg5-6', 'LACg6-7',\n",
       "       'LACg7-8', 'LACg8-9', 'LACg9-10', 'LAHc1-2', 'LAHc2-3', 'LAHc3-4',\n",
       "       'LAHc4-5', 'LAHc5-6', 'LAHc6-7', 'LAHc7-8', 'LAHc8-9', 'LAHc9-10',\n",
       "       'LAIn1-2', 'LAIn2-3', 'LAIn3-4', 'LAIn4-5', 'LAIn5-6', 'LAIn6-7',\n",
       "       'LAIn7-8', 'LAIn8-9', 'LAIn9-10', 'LAm1-2', 'LAm2-3', 'LAm3-4',\n",
       "       'LAm4-5', 'LAm5-6', 'LAm6-7', 'LAm7-8', 'LAm8-9', 'LAm9-10',\n",
       "       'LFrO1-2', 'LFrO2-3', 'LFrO3-4', 'LFrO4-5', 'LFrO5-6', 'LFrO6-7',\n",
       "       'LFrO7-8', 'LFrO8-9', 'LFrO9-10', 'LOF1-2', 'LOF2-3', 'LOF3-4',\n",
       "       'LOF4-5', 'LOF5-6', 'LOF6-7', 'LOF7-8', 'LOF8-9', 'LOF9-10',\n",
       "       'LPHc1-2', 'LPHc2-3', 'LPHc3-4', 'LPHc4-5', 'LPHc5-6', 'LPHc6-7',\n",
       "       'LPHc7-8', 'LPIn1-2', 'LPIn2-3', 'LPIn3-4', 'LPIn4-5', 'LPIn5-6',\n",
       "       'LPIn6-7', 'LPIn7-8', 'LPIn8-9', 'LPIn9-10', 'RPHc1-2', 'RPHc2-3',\n",
       "       'RPHc3-4', 'RPHc4-5', 'RPHc5-6', 'RPHc6-7', 'RPHc7-8', 'RPHc8-9',\n",
       "       'RPHc9-10'], dtype=object)"
      ]
     },
     "execution_count": 38,
     "metadata": {},
     "output_type": "execute_result"
    }
   ],
   "source": [
    "bipolar_elec.label.values"
   ]
  },
  {
   "cell_type": "markdown",
   "metadata": {
    "tags": []
   },
   "source": [
    "# Plot"
   ]
  },
  {
   "cell_type": "code",
   "execution_count": 48,
   "metadata": {},
   "outputs": [],
   "source": [
    "def readRegMatrix(trsfPath):\n",
    "\twith open(trsfPath) as (f):\n",
    "\t\treturn np.loadtxt(f.readlines())"
   ]
  },
  {
   "cell_type": "code",
   "execution_count": 107,
   "metadata": {},
   "outputs": [],
   "source": [
    "\n",
    "def imshow_mri(data, img, vox, suptitle, cmap='gray', vmin=None, vmax=None):\n",
    "    \"\"\"Show an MRI slice with a voxel annotated.\"\"\"\n",
    "    i, j, k = vox\n",
    "    fig, ax = plt.subplots(figsize=(20,20))\n",
    "    codes = nb.orientations.aff2axcodes(img.affine)\n",
    "    # Figure out the title based on the code of this axis\n",
    "    ori_slice = dict(P='Coronal', A='Coronal',\n",
    "                     I='Axial', S='Axial',\n",
    "                     L='Sagittal', R='Saggital')\n",
    "    ori_names = dict(P='posterior', A='anterior',\n",
    "                     I='inferior', S='superior',\n",
    "                     L='left', R='right')\n",
    "    title = ori_slice[codes[0]]\n",
    "    scale = np.max(data.shape[2]/data.shape[1])\n",
    "    ax.imshow(data[i], cmap=cmap, origin='lower', aspect=1, vmin=vmin, vmax=vmax)\n",
    "    # reorient view so that RAS is always rightward and upward\n",
    "    x_order = -1 if codes[2] in 'LIP' else 1\n",
    "    y_order = -1 if codes[1] in 'LIP' else 1\n",
    "    ax.set(xlim=[0, data.shape[2] - 1][::x_order],\n",
    "           ylim=[0, data.shape[1] - 1][::y_order],\n",
    "           xlabel=f'k ({ori_names[codes[2]]}+)',\n",
    "           ylabel=f'j ({ori_names[codes[1]]}+)',\n",
    "           title=f'{title} view: i={i} ({ori_names[codes[0]]}+)')\n",
    "    fig.suptitle(suptitle)\n",
    "    fig.subplots_adjust(0.1, 0.1, 0.95, 0.85)\n",
    "    return fig"
   ]
  },
  {
   "cell_type": "code",
   "execution_count": 91,
   "metadata": {},
   "outputs": [],
   "source": [
    "# Load reference MRI (orig.mgz) /home/mcespedes/projects/ctb-akhanf/cfmm-bids/Khan/clinical_imaging/epi_iEEG/derivatives/fastsurfer/sub-P076/mri/\n",
    "t1_obj = nb.load('/home/mcesped/projects/ctb-akhanf/cfmm-bids/Khan/clinical_imaging/epi_iEEG/derivatives/fastsurfer/sub-P076/mri/orig.mgz')\n",
    "Torig = t1_obj.header.get_vox2ras_tkr()\n",
    "fs_transform = np.dot(t1_obj.affine, np.linalg.inv(Torig)) # To go from fs ras to mri ras"
   ]
  },
  {
   "cell_type": "code",
   "execution_count": 92,
   "metadata": {},
   "outputs": [
    {
     "data": {
      "text/plain": [
       "(256, 256, 256)"
      ]
     },
     "execution_count": 92,
     "metadata": {},
     "output_type": "execute_result"
    }
   ],
   "source": [
    "data = np.asarray(t1_obj.dataobj)\n",
    "data.shape"
   ]
  },
  {
   "cell_type": "code",
   "execution_count": 110,
   "metadata": {},
   "outputs": [
    {
     "name": "stdout",
     "output_type": "stream",
     "text": [
      "[-48.369  25.969  -4.013]\n",
      "[-52.203  26.476  -4.531]\n",
      "[-50.286   26.2225  -4.272 ]\n"
     ]
    }
   ],
   "source": [
    "mri_ras_mm1 = elec_pos.loc[elec_pos.new_label=='LAHc7', ['x', 'y', 'z']].to_numpy()[0]\n",
    "mri_ras_mm2 = elec_pos.loc[elec_pos.new_label=='LAHc8', ['x', 'y', 'z']].to_numpy()[0]\n",
    "mri_ras_mm_mid = bipolar_elec.loc[bipolar_elec.label=='LAHc7-8', ['x', 'y', 'z']].to_numpy()[0]\n",
    "print(mri_ras_mm1) # Electrode position in contrast space!!\n",
    "print(mri_ras_mm2)\n",
    "print(mri_ras_mm_mid)"
   ]
  },
  {
   "cell_type": "code",
   "execution_count": 111,
   "metadata": {},
   "outputs": [],
   "source": [
    "# The transform file goes from contrast to non-contrast. The tfm, when loaded in slicer actually goes\n",
    "# from non-contrast to contrast but the txt is inversed!\n",
    "t1_transform=readRegMatrix('/home/mcesped/projects/ctb-akhanf/cfmm-bids/Khan/clinical_imaging/epi_iEEG/derivatives/atlasreg/sub-P076/sub-P076_acq-noncontrast_desc-rigid_from-noncontrast_to-contrast_type-ras_xfm.txt')\n",
    "# Transform from contrast mri ras to non-contrast MRI ras\n",
    "mri_ras_mm1 = mne.transforms.apply_trans(t1_transform, mri_ras_mm1)\n",
    "mri_ras_mm2 = mne.transforms.apply_trans(t1_transform, mri_ras_mm2)\n",
    "mri_ras_mm_mid = mne.transforms.apply_trans(t1_transform, mri_ras_mm_mid)"
   ]
  },
  {
   "cell_type": "code",
   "execution_count": 112,
   "metadata": {},
   "outputs": [],
   "source": [
    "inv_affine = np.linalg.inv(t1_obj.affine)\n",
    "# here's where the interpolation should be performed!!\n",
    "vox1 = np.round(mne.transforms.apply_trans(inv_affine, mri_ras_mm1)).astype(int)\n",
    "vox2 = np.round(mne.transforms.apply_trans(inv_affine, mri_ras_mm2)).astype(int)\n",
    "voxmid = np.round(mne.transforms.apply_trans(inv_affine, mri_ras_mm_mid)).astype(int)"
   ]
  },
  {
   "cell_type": "code",
   "execution_count": 113,
   "metadata": {},
   "outputs": [
    {
     "data": {
      "text/plain": [
       "<matplotlib.collections.PathCollection at 0x2b53f2fe6160>"
      ]
     },
     "execution_count": 113,
     "metadata": {},
     "output_type": "execute_result"
    },
    {
     "data": {
      "image/png": "[encoded data removed]",
      "text/plain": [
       "<Figure size 2000x2000 with 1 Axes>"
      ]
     },
     "metadata": {},
     "output_type": "display_data"
    }
   ],
   "source": [
    "fig = imshow_mri(data, t1_obj, vox1, 'MRI slice')\n",
    "fig.axes[0].scatter(vox1[2], vox1[1], color='g')\n",
    "fig.axes[0].scatter(vox2[2], vox2[1], color='r')\n",
    "fig.axes[0].scatter(voxmid[2], voxmid[1], color='b')"
   ]
  },
  {
   "cell_type": "markdown",
   "metadata": {},
   "source": [
    "# Find labels"
   ]
  },
  {
   "cell_type": "code",
   "execution_count": 40,
   "metadata": {},
   "outputs": [],
   "source": [
    "def get_colors_labels():\n",
    "    with open('/home/mcesped/scratch/HippiEEGAtlas/FreeSurferColorLUT.txt', 'r') as f:\n",
    "        raw_lut = f.readlines()\n",
    "\n",
    "    # read and process line by line\n",
    "    label_map = pd.DataFrame(columns=['Label', 'R', 'G', 'B'])\n",
    "    for line in raw_lut:\n",
    "        # Remove empty spaces\n",
    "        line = line.strip()\n",
    "        if not (line.startswith('#') or not line):\n",
    "            s = line.split()\n",
    "            # info = list(filter(None, info))\n",
    "            id = int(s[0])\n",
    "            info_s = {\n",
    "                'Label': s[1],\n",
    "                'R': int(s[2]),\n",
    "                'G': int(s[3]),\n",
    "                'B': int(s[4])\n",
    "            }\n",
    "            # info_s['A'] = 0 if (info_s['R']==0 & info_s['G']==0 & info_s['B']==0) else 255\n",
    "            info_s = pd.DataFrame(info_s, index=[id])\n",
    "            label_map = pd.concat([label_map,info_s], axis=0)\n",
    "        label_map[['R','G','B']] = label_map[['R','G','B']].astype('int64')\n",
    "    return label_map"
   ]
  },
  {
   "cell_type": "code",
   "execution_count": 70,
   "metadata": {},
   "outputs": [],
   "source": [
    "def ras2vox(parc, elec_df, non_cont_to_cont_tf):\n",
    "    # Useful transforms\n",
    "    Torig_parc = parc.header.get_vox2ras_tkr()\n",
    "    fs_transform_parc = np.dot(parc.affine, np.linalg.inv(Torig_parc)) # To go from fs ras to mri ras\n",
    "    # Load data of parcellations\n",
    "    data_parc = np.asarray(parc.dataobj)\n",
    "    # Coordinates in MRI RAS\n",
    "    mri_ras_mm = bipolar_elec[['x','y','z']].values\n",
    "    # Transform from contrast mri ras to non-contrast MRI ras\n",
    "    mri_ras_mm = mne.transforms.apply_trans(t1_transform, mri_ras_mm)\n",
    "    # To voxels\n",
    "    inv_affine = np.linalg.inv(parc_obj.affine)\n",
    "    # here's where the interpolation should be performed!!\n",
    "    vox = np.round(mne.transforms.apply_trans(inv_affine, mri_ras_mm)).astype(int)\n",
    "    return vox, data_parc"
   ]
  },
  {
   "cell_type": "code",
   "execution_count": 80,
   "metadata": {},
   "outputs": [],
   "source": [
    "def get_label_rgb(parc, elec_df, non_cont_to_cont_tf, label_map):\n",
    "    vox, data_parc = ras2vox(parc, elec_df, non_cont_to_cont_tf)\n",
    "    id = data_parc[vox[:,0], vox[:,1], vox[:,2]]\n",
    "    vals = label_map.loc[id, ['Label','R', 'G', 'B']].to_numpy()\n",
    "    vals = np.c_[id,vals]\n",
    "    vals = pd.DataFrame(data=vals[:,1:], columns=['Label','R', 'G', 'B'], index=vals[:,0])\n",
    "    return vals"
   ]
  },
  {
   "cell_type": "code",
   "execution_count": 43,
   "metadata": {},
   "outputs": [],
   "source": [
    "# Load labels from LUT file\n",
    "labels = get_colors_labels()"
   ]
  },
  {
   "cell_type": "code",
   "execution_count": 44,
   "metadata": {},
   "outputs": [
    {
     "data": {
      "text/html": [
       "<div>\n",
       "<style scoped>\n",
       "    .dataframe tbody tr th:only-of-type {\n",
       "        vertical-align: middle;\n",
       "    }\n",
       "\n",
       "    .dataframe tbody tr th {\n",
       "        vertical-align: top;\n",
       "    }\n",
       "\n",
       "    .dataframe thead th {\n",
       "        text-align: right;\n",
       "    }\n",
       "</style>\n",
       "<table border=\"1\" class=\"dataframe\">\n",
       "  <thead>\n",
       "    <tr style=\"text-align: right;\">\n",
       "      <th></th>\n",
       "      <th>Label</th>\n",
       "      <th>R</th>\n",
       "      <th>G</th>\n",
       "      <th>B</th>\n",
       "    </tr>\n",
       "  </thead>\n",
       "  <tbody>\n",
       "    <tr>\n",
       "      <th>0</th>\n",
       "      <td>Unknown</td>\n",
       "      <td>0</td>\n",
       "      <td>0</td>\n",
       "      <td>0</td>\n",
       "    </tr>\n",
       "    <tr>\n",
       "      <th>1</th>\n",
       "      <td>Left-Cerebral-Exterior</td>\n",
       "      <td>70</td>\n",
       "      <td>130</td>\n",
       "      <td>180</td>\n",
       "    </tr>\n",
       "    <tr>\n",
       "      <th>2</th>\n",
       "      <td>Left-Cerebral-White-Matter</td>\n",
       "      <td>245</td>\n",
       "      <td>245</td>\n",
       "      <td>245</td>\n",
       "    </tr>\n",
       "    <tr>\n",
       "      <th>3</th>\n",
       "      <td>Left-Cerebral-Cortex</td>\n",
       "      <td>205</td>\n",
       "      <td>62</td>\n",
       "      <td>78</td>\n",
       "    </tr>\n",
       "    <tr>\n",
       "      <th>4</th>\n",
       "      <td>Left-Lateral-Ventricle</td>\n",
       "      <td>120</td>\n",
       "      <td>18</td>\n",
       "      <td>134</td>\n",
       "    </tr>\n",
       "  </tbody>\n",
       "</table>\n",
       "</div>"
      ],
      "text/plain": [
       "                        Label    R    G    B\n",
       "0                     Unknown    0    0    0\n",
       "1      Left-Cerebral-Exterior   70  130  180\n",
       "2  Left-Cerebral-White-Matter  245  245  245\n",
       "3        Left-Cerebral-Cortex  205   62   78\n",
       "4      Left-Lateral-Ventricle  120   18  134"
      ]
     },
     "execution_count": 44,
     "metadata": {},
     "output_type": "execute_result"
    }
   ],
   "source": [
    "labels.head()"
   ]
  },
  {
   "cell_type": "code",
   "execution_count": 45,
   "metadata": {},
   "outputs": [],
   "source": [
    "# Load parcellation file\n",
    "parc_obj = nb.load('/home/mcesped/projects/ctb-akhanf/cfmm-bids/Khan/clinical_imaging/epi_iEEG/derivatives/fastsurfer/sub-P076/mri/aparc+aseg.orig.mgz')"
   ]
  },
  {
   "cell_type": "code",
   "execution_count": 46,
   "metadata": {},
   "outputs": [
    {
     "data": {
      "text/plain": [
       "(256, 256, 256)"
      ]
     },
     "execution_count": 46,
     "metadata": {},
     "output_type": "execute_result"
    }
   ],
   "source": [
    "data_parc = np.asarray(parc_obj.dataobj)\n",
    "data_parc.shape"
   ]
  },
  {
   "cell_type": "code",
   "execution_count": 49,
   "metadata": {},
   "outputs": [],
   "source": [
    "# The transform file goes from contrast to non-contrast. The tfm, when loaded in slicer actually goes\n",
    "# from non-contrast to contrast but the txt is inversed!\n",
    "t1_transform=readRegMatrix('/home/mcesped/projects/ctb-akhanf/cfmm-bids/Khan/clinical_imaging/epi_iEEG/derivatives/atlasreg/sub-P076/sub-P076_acq-noncontrast_desc-rigid_from-noncontrast_to-contrast_type-ras_xfm.txt')\n"
   ]
  },
  {
   "cell_type": "code",
   "execution_count": 81,
   "metadata": {},
   "outputs": [],
   "source": [
    "caca = get_label_rgb(parc_obj, bipolar_elec, t1_transform, labels)"
   ]
  },
  {
   "cell_type": "code",
   "execution_count": 82,
   "metadata": {},
   "outputs": [
    {
     "data": {
      "text/html": [
       "<div>\n",
       "<style scoped>\n",
       "    .dataframe tbody tr th:only-of-type {\n",
       "        vertical-align: middle;\n",
       "    }\n",
       "\n",
       "    .dataframe tbody tr th {\n",
       "        vertical-align: top;\n",
       "    }\n",
       "\n",
       "    .dataframe thead th {\n",
       "        text-align: right;\n",
       "    }\n",
       "</style>\n",
       "<table border=\"1\" class=\"dataframe\">\n",
       "  <thead>\n",
       "    <tr style=\"text-align: right;\">\n",
       "      <th></th>\n",
       "      <th>Label</th>\n",
       "      <th>R</th>\n",
       "      <th>G</th>\n",
       "      <th>B</th>\n",
       "    </tr>\n",
       "  </thead>\n",
       "  <tbody>\n",
       "    <tr>\n",
       "      <th>1026</th>\n",
       "      <td>ctx-lh-rostralanteriorcingulate</td>\n",
       "      <td>80</td>\n",
       "      <td>20</td>\n",
       "      <td>140</td>\n",
       "    </tr>\n",
       "    <tr>\n",
       "      <th>2</th>\n",
       "      <td>Left-Cerebral-White-Matter</td>\n",
       "      <td>245</td>\n",
       "      <td>245</td>\n",
       "      <td>245</td>\n",
       "    </tr>\n",
       "    <tr>\n",
       "      <th>2</th>\n",
       "      <td>Left-Cerebral-White-Matter</td>\n",
       "      <td>245</td>\n",
       "      <td>245</td>\n",
       "      <td>245</td>\n",
       "    </tr>\n",
       "    <tr>\n",
       "      <th>2</th>\n",
       "      <td>Left-Cerebral-White-Matter</td>\n",
       "      <td>245</td>\n",
       "      <td>245</td>\n",
       "      <td>245</td>\n",
       "    </tr>\n",
       "    <tr>\n",
       "      <th>2</th>\n",
       "      <td>Left-Cerebral-White-Matter</td>\n",
       "      <td>245</td>\n",
       "      <td>245</td>\n",
       "      <td>245</td>\n",
       "    </tr>\n",
       "    <tr>\n",
       "      <th>...</th>\n",
       "      <td>...</td>\n",
       "      <td>...</td>\n",
       "      <td>...</td>\n",
       "      <td>...</td>\n",
       "    </tr>\n",
       "    <tr>\n",
       "      <th>41</th>\n",
       "      <td>Right-Cerebral-White-Matter</td>\n",
       "      <td>245</td>\n",
       "      <td>245</td>\n",
       "      <td>245</td>\n",
       "    </tr>\n",
       "    <tr>\n",
       "      <th>41</th>\n",
       "      <td>Right-Cerebral-White-Matter</td>\n",
       "      <td>245</td>\n",
       "      <td>245</td>\n",
       "      <td>245</td>\n",
       "    </tr>\n",
       "    <tr>\n",
       "      <th>41</th>\n",
       "      <td>Right-Cerebral-White-Matter</td>\n",
       "      <td>245</td>\n",
       "      <td>245</td>\n",
       "      <td>245</td>\n",
       "    </tr>\n",
       "    <tr>\n",
       "      <th>41</th>\n",
       "      <td>Right-Cerebral-White-Matter</td>\n",
       "      <td>245</td>\n",
       "      <td>245</td>\n",
       "      <td>245</td>\n",
       "    </tr>\n",
       "    <tr>\n",
       "      <th>41</th>\n",
       "      <td>Right-Cerebral-White-Matter</td>\n",
       "      <td>245</td>\n",
       "      <td>245</td>\n",
       "      <td>245</td>\n",
       "    </tr>\n",
       "  </tbody>\n",
       "</table>\n",
       "<p>79 rows × 4 columns</p>\n",
       "</div>"
      ],
      "text/plain": [
       "                                Label    R    G    B\n",
       "1026  ctx-lh-rostralanteriorcingulate   80   20  140\n",
       "2          Left-Cerebral-White-Matter  245  245  245\n",
       "2          Left-Cerebral-White-Matter  245  245  245\n",
       "2          Left-Cerebral-White-Matter  245  245  245\n",
       "2          Left-Cerebral-White-Matter  245  245  245\n",
       "...                               ...  ...  ...  ...\n",
       "41        Right-Cerebral-White-Matter  245  245  245\n",
       "41        Right-Cerebral-White-Matter  245  245  245\n",
       "41        Right-Cerebral-White-Matter  245  245  245\n",
       "41        Right-Cerebral-White-Matter  245  245  245\n",
       "41        Right-Cerebral-White-Matter  245  245  245\n",
       "\n",
       "[79 rows x 4 columns]"
      ]
     },
     "execution_count": 82,
     "metadata": {},
     "output_type": "execute_result"
    }
   ],
   "source": [
    "caca"
   ]
  }
 ],
 "metadata": {
  "kernelspec": {
   "display_name": "Python 3 (ipykernel)",
   "language": "python",
   "name": "python3"
  },
  "language_info": {
   "codemirror_mode": {
    "name": "ipython",
    "version": 3
   },
   "file_extension": ".py",
   "mimetype": "text/x-python",
   "name": "python",
   "nbconvert_exporter": "python",
   "pygments_lexer": "ipython3",
   "version": "3.8.10"
  },
  "toc-autonumbering": true,
  "toc-showcode": true,
  "vscode": {
   "interpreter": {
    "hash": "7ebba22d4926039ff239339cf567af8b303e0a244d82717597cfd7af2af74d26"
   }
  }
 },
 "nbformat": 4,
 "nbformat_minor": 4
}
